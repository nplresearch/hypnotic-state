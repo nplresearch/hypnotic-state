{
 "cells": [
  {
   "cell_type": "markdown",
   "metadata": {},
   "source": [
    "# Data Extraction"
   ]
  },
  {
   "cell_type": "code",
   "execution_count": 6,
   "metadata": {},
   "outputs": [],
   "source": [
    "# import necessary libraries\n",
    "import pickle as pk\n",
    "import warnings\n",
    "from pathlib import Path\n",
    "\n",
    "import matplotlib.pyplot as plt\n",
    "import mne\n",
    "import numpy as np\n",
    "import pandas as pd\n",
    "from rich import inspect, pretty, print\n",
    "from rich.progress import track\n",
    "from tqdm import tqdm\n",
    "\n",
    "pretty.install()\n",
    "\n",
    "results_dir = \"../results/\"\n",
    "data_dir = \"../data/preprocessing/\"\n",
    "Path(results_dir).mkdir(parents=True, exist_ok=True)\n",
    "Path(data_dir).mkdir(parents=True, exist_ok=True)"
   ]
  },
  {
   "cell_type": "markdown",
   "metadata": {},
   "source": [
    "## Load data"
   ]
  },
  {
   "cell_type": "code",
   "execution_count": 7,
   "metadata": {},
   "outputs": [],
   "source": [
    "p = Path()\n",
    "files_lows = sorted(list(p.glob(\"../data/raw/ICApruned_lows/*.set\")))\n",
    "files_highs = sorted(list(p.glob(\"../data/raw/ICApruned_highs/*.set\")))"
   ]
  },
  {
   "cell_type": "markdown",
   "metadata": {},
   "source": [
    "### Info about events and epochs"
   ]
  },
  {
   "cell_type": "code",
   "execution_count": 8,
   "metadata": {},
   "outputs": [
    {
     "data": {
      "text/html": [
       "<pre style=\"white-space:pre;overflow-x:auto;line-height:normal;font-family:Menlo,'DejaVu Sans Mono',consolas,'Courier New',monospace\">/home/lucasm/.pyenv/versions/venv_hypno/lib/python3.9/site-packages/rich/live.py:231: UserWarning: install \n",
       "\"ipywidgets\" for Jupyter support\n",
       "  warnings.warn('install \"ipywidgets\" for Jupyter support')\n",
       "</pre>\n"
      ],
      "text/plain": [
       "/home/lucasm/.pyenv/versions/venv_hypno/lib/python3.9/site-packages/rich/live.py:231: UserWarning: install \n",
       "\"ipywidgets\" for Jupyter support\n",
       "  warnings.warn('install \"ipywidgets\" for Jupyter support')\n"
      ]
     },
     "metadata": {},
     "output_type": "display_data"
    },
    {
     "data": {
      "text/html": [
       "<pre style=\"white-space:pre;overflow-x:auto;line-height:normal;font-family:Menlo,'DejaVu Sans Mono',consolas,'Courier New',monospace\">/home/lucasm/.pyenv/versions/venv_hypno/lib/python3.9/site-packages/rich/live.py:231: UserWarning: install \n",
       "\"ipywidgets\" for Jupyter support\n",
       "  warnings.warn('install \"ipywidgets\" for Jupyter support')\n",
       "</pre>\n"
      ],
      "text/plain": [
       "/home/lucasm/.pyenv/versions/venv_hypno/lib/python3.9/site-packages/rich/live.py:231: UserWarning: install \n",
       "\"ipywidgets\" for Jupyter support\n",
       "  warnings.warn('install \"ipywidgets\" for Jupyter support')\n"
      ]
     },
     "metadata": {},
     "output_type": "display_data"
    },
    {
     "data": {
      "text/html": [
       "<pre style=\"white-space:pre;overflow-x:auto;line-height:normal;font-family:Menlo,'DejaVu Sans Mono',consolas,'Courier New',monospace\">/home/lucasm/.pyenv/versions/venv_hypno/lib/python3.9/site-packages/rich/live.py:231: UserWarning: install \n",
       "\"ipywidgets\" for Jupyter support\n",
       "  warnings.warn('install \"ipywidgets\" for Jupyter support')\n",
       "</pre>\n"
      ],
      "text/plain": [
       "/home/lucasm/.pyenv/versions/venv_hypno/lib/python3.9/site-packages/rich/live.py:231: UserWarning: install \n",
       "\"ipywidgets\" for Jupyter support\n",
       "  warnings.warn('install \"ipywidgets\" for Jupyter support')\n"
      ]
     },
     "metadata": {},
     "output_type": "display_data"
    },
    {
     "data": {
      "text/html": [
       "<pre style=\"white-space:pre;overflow-x:auto;line-height:normal;font-family:Menlo,'DejaVu Sans Mono',consolas,'Courier New',monospace\">/home/lucasm/.pyenv/versions/venv_hypno/lib/python3.9/site-packages/rich/live.py:231: UserWarning: install \n",
       "\"ipywidgets\" for Jupyter support\n",
       "  warnings.warn('install \"ipywidgets\" for Jupyter support')\n",
       "</pre>\n"
      ],
      "text/plain": [
       "/home/lucasm/.pyenv/versions/venv_hypno/lib/python3.9/site-packages/rich/live.py:231: UserWarning: install \n",
       "\"ipywidgets\" for Jupyter support\n",
       "  warnings.warn('install \"ipywidgets\" for Jupyter support')\n"
      ]
     },
     "metadata": {},
     "output_type": "display_data"
    },
    {
     "data": {
      "text/html": [
       "<pre style=\"white-space:pre;overflow-x:auto;line-height:normal;font-family:Menlo,'DejaVu Sans Mono',consolas,'Courier New',monospace\">/home/lucasm/.pyenv/versions/venv_hypno/lib/python3.9/site-packages/rich/live.py:231: UserWarning: install \n",
       "\"ipywidgets\" for Jupyter support\n",
       "  warnings.warn('install \"ipywidgets\" for Jupyter support')\n",
       "</pre>\n"
      ],
      "text/plain": [
       "/home/lucasm/.pyenv/versions/venv_hypno/lib/python3.9/site-packages/rich/live.py:231: UserWarning: install \n",
       "\"ipywidgets\" for Jupyter support\n",
       "  warnings.warn('install \"ipywidgets\" for Jupyter support')\n"
      ]
     },
     "metadata": {},
     "output_type": "display_data"
    },
    {
     "data": {
      "text/html": [
       "<pre style=\"white-space:pre;overflow-x:auto;line-height:normal;font-family:Menlo,'DejaVu Sans Mono',consolas,'Courier New',monospace\">/home/lucasm/.pyenv/versions/venv_hypno/lib/python3.9/site-packages/rich/live.py:231: UserWarning: install \n",
       "\"ipywidgets\" for Jupyter support\n",
       "  warnings.warn('install \"ipywidgets\" for Jupyter support')\n",
       "</pre>\n"
      ],
      "text/plain": [
       "/home/lucasm/.pyenv/versions/venv_hypno/lib/python3.9/site-packages/rich/live.py:231: UserWarning: install \n",
       "\"ipywidgets\" for Jupyter support\n",
       "  warnings.warn('install \"ipywidgets\" for Jupyter support')\n"
      ]
     },
     "metadata": {},
     "output_type": "display_data"
    },
    {
     "data": {
      "text/html": [
       "<pre style=\"white-space:pre;overflow-x:auto;line-height:normal;font-family:Menlo,'DejaVu Sans Mono',consolas,'Courier New',monospace\">/home/lucasm/.pyenv/versions/venv_hypno/lib/python3.9/site-packages/rich/live.py:231: UserWarning: install \n",
       "\"ipywidgets\" for Jupyter support\n",
       "  warnings.warn('install \"ipywidgets\" for Jupyter support')\n",
       "</pre>\n"
      ],
      "text/plain": [
       "/home/lucasm/.pyenv/versions/venv_hypno/lib/python3.9/site-packages/rich/live.py:231: UserWarning: install \n",
       "\"ipywidgets\" for Jupyter support\n",
       "  warnings.warn('install \"ipywidgets\" for Jupyter support')\n"
      ]
     },
     "metadata": {},
     "output_type": "display_data"
    },
    {
     "data": {
      "text/html": [
       "<pre style=\"white-space:pre;overflow-x:auto;line-height:normal;font-family:Menlo,'DejaVu Sans Mono',consolas,'Courier New',monospace\">/home/lucasm/.pyenv/versions/venv_hypno/lib/python3.9/site-packages/rich/live.py:231: UserWarning: install \n",
       "\"ipywidgets\" for Jupyter support\n",
       "  warnings.warn('install \"ipywidgets\" for Jupyter support')\n",
       "</pre>\n"
      ],
      "text/plain": [
       "/home/lucasm/.pyenv/versions/venv_hypno/lib/python3.9/site-packages/rich/live.py:231: UserWarning: install \n",
       "\"ipywidgets\" for Jupyter support\n",
       "  warnings.warn('install \"ipywidgets\" for Jupyter support')\n"
      ]
     },
     "metadata": {},
     "output_type": "display_data"
    },
    {
     "data": {
      "text/html": [
       "<pre style=\"white-space:pre;overflow-x:auto;line-height:normal;font-family:Menlo,'DejaVu Sans Mono',consolas,'Courier New',monospace\">/home/lucasm/.pyenv/versions/venv_hypno/lib/python3.9/site-packages/rich/live.py:231: UserWarning: install \n",
       "\"ipywidgets\" for Jupyter support\n",
       "  warnings.warn('install \"ipywidgets\" for Jupyter support')\n",
       "</pre>\n"
      ],
      "text/plain": [
       "/home/lucasm/.pyenv/versions/venv_hypno/lib/python3.9/site-packages/rich/live.py:231: UserWarning: install \n",
       "\"ipywidgets\" for Jupyter support\n",
       "  warnings.warn('install \"ipywidgets\" for Jupyter support')\n"
      ]
     },
     "metadata": {},
     "output_type": "display_data"
    },
    {
     "data": {
      "text/html": [
       "<pre style=\"white-space:pre;overflow-x:auto;line-height:normal;font-family:Menlo,'DejaVu Sans Mono',consolas,'Courier New',monospace\">/home/lucasm/.pyenv/versions/venv_hypno/lib/python3.9/site-packages/rich/live.py:231: UserWarning: install \n",
       "\"ipywidgets\" for Jupyter support\n",
       "  warnings.warn('install \"ipywidgets\" for Jupyter support')\n",
       "</pre>\n"
      ],
      "text/plain": [
       "/home/lucasm/.pyenv/versions/venv_hypno/lib/python3.9/site-packages/rich/live.py:231: UserWarning: install \n",
       "\"ipywidgets\" for Jupyter support\n",
       "  warnings.warn('install \"ipywidgets\" for Jupyter support')\n"
      ]
     },
     "metadata": {},
     "output_type": "display_data"
    },
    {
     "data": {
      "text/html": [
       "<pre style=\"white-space:pre;overflow-x:auto;line-height:normal;font-family:Menlo,'DejaVu Sans Mono',consolas,'Courier New',monospace\">/home/lucasm/.pyenv/versions/venv_hypno/lib/python3.9/site-packages/rich/live.py:231: UserWarning: install \n",
       "\"ipywidgets\" for Jupyter support\n",
       "  warnings.warn('install \"ipywidgets\" for Jupyter support')\n",
       "</pre>\n"
      ],
      "text/plain": [
       "/home/lucasm/.pyenv/versions/venv_hypno/lib/python3.9/site-packages/rich/live.py:231: UserWarning: install \n",
       "\"ipywidgets\" for Jupyter support\n",
       "  warnings.warn('install \"ipywidgets\" for Jupyter support')\n"
      ]
     },
     "metadata": {},
     "output_type": "display_data"
    },
    {
     "data": {
      "text/html": [
       "<pre style=\"white-space:pre;overflow-x:auto;line-height:normal;font-family:Menlo,'DejaVu Sans Mono',consolas,'Courier New',monospace\">/home/lucasm/.pyenv/versions/venv_hypno/lib/python3.9/site-packages/rich/live.py:231: UserWarning: install \n",
       "\"ipywidgets\" for Jupyter support\n",
       "  warnings.warn('install \"ipywidgets\" for Jupyter support')\n",
       "</pre>\n"
      ],
      "text/plain": [
       "/home/lucasm/.pyenv/versions/venv_hypno/lib/python3.9/site-packages/rich/live.py:231: UserWarning: install \n",
       "\"ipywidgets\" for Jupyter support\n",
       "  warnings.warn('install \"ipywidgets\" for Jupyter support')\n"
      ]
     },
     "metadata": {},
     "output_type": "display_data"
    },
    {
     "data": {
      "text/html": [
       "<pre style=\"white-space:pre;overflow-x:auto;line-height:normal;font-family:Menlo,'DejaVu Sans Mono',consolas,'Courier New',monospace\">/home/lucasm/.pyenv/versions/venv_hypno/lib/python3.9/site-packages/rich/live.py:231: UserWarning: install \n",
       "\"ipywidgets\" for Jupyter support\n",
       "  warnings.warn('install \"ipywidgets\" for Jupyter support')\n",
       "</pre>\n"
      ],
      "text/plain": [
       "/home/lucasm/.pyenv/versions/venv_hypno/lib/python3.9/site-packages/rich/live.py:231: UserWarning: install \n",
       "\"ipywidgets\" for Jupyter support\n",
       "  warnings.warn('install \"ipywidgets\" for Jupyter support')\n"
      ]
     },
     "metadata": {},
     "output_type": "display_data"
    },
    {
     "data": {
      "text/html": [
       "<pre style=\"white-space:pre;overflow-x:auto;line-height:normal;font-family:Menlo,'DejaVu Sans Mono',consolas,'Courier New',monospace\">/home/lucasm/.pyenv/versions/venv_hypno/lib/python3.9/site-packages/rich/live.py:231: UserWarning: install \n",
       "\"ipywidgets\" for Jupyter support\n",
       "  warnings.warn('install \"ipywidgets\" for Jupyter support')\n",
       "</pre>\n"
      ],
      "text/plain": [
       "/home/lucasm/.pyenv/versions/venv_hypno/lib/python3.9/site-packages/rich/live.py:231: UserWarning: install \n",
       "\"ipywidgets\" for Jupyter support\n",
       "  warnings.warn('install \"ipywidgets\" for Jupyter support')\n"
      ]
     },
     "metadata": {},
     "output_type": "display_data"
    },
    {
     "data": {
      "text/html": [
       "<pre style=\"white-space:pre;overflow-x:auto;line-height:normal;font-family:Menlo,'DejaVu Sans Mono',consolas,'Courier New',monospace\">/home/lucasm/.pyenv/versions/venv_hypno/lib/python3.9/site-packages/rich/live.py:231: UserWarning: install \n",
       "\"ipywidgets\" for Jupyter support\n",
       "  warnings.warn('install \"ipywidgets\" for Jupyter support')\n",
       "</pre>\n"
      ],
      "text/plain": [
       "/home/lucasm/.pyenv/versions/venv_hypno/lib/python3.9/site-packages/rich/live.py:231: UserWarning: install \n",
       "\"ipywidgets\" for Jupyter support\n",
       "  warnings.warn('install \"ipywidgets\" for Jupyter support')\n"
      ]
     },
     "metadata": {},
     "output_type": "display_data"
    },
    {
     "data": {
      "text/html": [
       "<pre style=\"white-space:pre;overflow-x:auto;line-height:normal;font-family:Menlo,'DejaVu Sans Mono',consolas,'Courier New',monospace\">/home/lucasm/.pyenv/versions/venv_hypno/lib/python3.9/site-packages/rich/live.py:231: UserWarning: install \n",
       "\"ipywidgets\" for Jupyter support\n",
       "  warnings.warn('install \"ipywidgets\" for Jupyter support')\n",
       "</pre>\n"
      ],
      "text/plain": [
       "/home/lucasm/.pyenv/versions/venv_hypno/lib/python3.9/site-packages/rich/live.py:231: UserWarning: install \n",
       "\"ipywidgets\" for Jupyter support\n",
       "  warnings.warn('install \"ipywidgets\" for Jupyter support')\n"
      ]
     },
     "metadata": {},
     "output_type": "display_data"
    },
    {
     "data": {
      "text/html": [
       "<pre style=\"white-space:pre;overflow-x:auto;line-height:normal;font-family:Menlo,'DejaVu Sans Mono',consolas,'Courier New',monospace\">/home/lucasm/.pyenv/versions/venv_hypno/lib/python3.9/site-packages/rich/live.py:231: UserWarning: install \n",
       "\"ipywidgets\" for Jupyter support\n",
       "  warnings.warn('install \"ipywidgets\" for Jupyter support')\n",
       "</pre>\n"
      ],
      "text/plain": [
       "/home/lucasm/.pyenv/versions/venv_hypno/lib/python3.9/site-packages/rich/live.py:231: UserWarning: install \n",
       "\"ipywidgets\" for Jupyter support\n",
       "  warnings.warn('install \"ipywidgets\" for Jupyter support')\n"
      ]
     },
     "metadata": {},
     "output_type": "display_data"
    },
    {
     "data": {
      "text/html": [
       "<pre style=\"white-space:pre;overflow-x:auto;line-height:normal;font-family:Menlo,'DejaVu Sans Mono',consolas,'Courier New',monospace\"></pre>\n"
      ],
      "text/plain": []
     },
     "metadata": {},
     "output_type": "display_data"
    }
   ],
   "source": [
    "frequency = 125  # sampling freq\n",
    "eventinfo_dict = dict()\n",
    "\n",
    "# ignore runtime warnings\n",
    "with warnings.catch_warnings():\n",
    "    warnings.simplefilter(action=\"ignore\", category=RuntimeWarning)\n",
    "\n",
    "    for file_idx in track(files_highs + files_lows):\n",
    "        # extract information from the filename\n",
    "        filename = file_idx.name.split(\".\")[0]\n",
    "        name = filename.split(\"_\")[1]\n",
    "\n",
    "        key_tmp = f\"{name}\"\n",
    "        eventinfo_dict[key_tmp] = dict()\n",
    "        eventinfo_dict[key_tmp][\"subject\"] = name\n",
    "\n",
    "        # load EEG data\n",
    "        raw_EEG = mne.io.read_raw_eeglab(file_idx, preload=True, verbose=False)\n",
    "        events, event_ids = mne.events_from_annotations(\n",
    "            raw_EEG, event_id=\"auto\", verbose=False\n",
    "        )\n",
    "        tmin, tmax = 0, 175  # 3 min for condition\n",
    "        epochs = mne.Epochs(\n",
    "            raw_EEG,\n",
    "            events,\n",
    "            event_ids,\n",
    "            tmin - 0.5,\n",
    "            tmax + 0.5,\n",
    "            baseline=None,\n",
    "            preload=True,\n",
    "            verbose=False,\n",
    "        )\n",
    "        event_times = events[:, 0] / frequency\n",
    "        eventinfo_dict[key_tmp][\"events (points)\"] = events[:, 0]\n",
    "        eventinfo_dict[key_tmp][\"events times(s)\"] = event_times\n",
    "        eventinfo_dict[key_tmp][\"num events\"] = len(event_ids)\n",
    "        eventinfo_dict[key_tmp][\"num_epochs\"] = len(epochs._data)\n",
    "        eventinfo_dict[key_tmp][\"epochs durations (s)\"] = str(tmax - tmin) + \"+-1\""
   ]
  },
  {
   "cell_type": "code",
   "execution_count": 10,
   "metadata": {},
   "outputs": [
    {
     "data": {
      "text/html": [
       "<pre style=\"white-space:pre;overflow-x:auto;line-height:normal;font-family:Menlo,'DejaVu Sans Mono',consolas,'Courier New',monospace\"></pre>\n"
      ],
      "text/plain": []
     },
     "metadata": {},
     "output_type": "display_data"
    },
    {
     "data": {
      "text/html": [
       "<div>\n",
       "<style scoped>\n",
       "    .dataframe tbody tr th:only-of-type {\n",
       "        vertical-align: middle;\n",
       "    }\n",
       "\n",
       "    .dataframe tbody tr th {\n",
       "        vertical-align: top;\n",
       "    }\n",
       "\n",
       "    .dataframe thead th {\n",
       "        text-align: right;\n",
       "    }\n",
       "</style>\n",
       "<table border=\"1\" class=\"dataframe\">\n",
       "  <thead>\n",
       "    <tr style=\"text-align: right;\">\n",
       "      <th></th>\n",
       "      <th>subject</th>\n",
       "      <th>events (points)</th>\n",
       "      <th>events times(s)</th>\n",
       "      <th>num events</th>\n",
       "      <th>num_epochs</th>\n",
       "      <th>epochs durations (s)</th>\n",
       "    </tr>\n",
       "  </thead>\n",
       "  <tbody>\n",
       "    <tr>\n",
       "      <th>01</th>\n",
       "      <td>01</td>\n",
       "      <td>[3776, 27119, 50479, 98358, 123494]</td>\n",
       "      <td>[30.208, 216.952, 403.832, 786.864, 987.952]</td>\n",
       "      <td>5</td>\n",
       "      <td>5</td>\n",
       "      <td>175+-1</td>\n",
       "    </tr>\n",
       "    <tr>\n",
       "      <th>02</th>\n",
       "      <td>02</td>\n",
       "      <td>[1571, 24312, 48024, 96067, 122342]</td>\n",
       "      <td>[12.568, 194.496, 384.192, 768.536, 978.736]</td>\n",
       "      <td>5</td>\n",
       "      <td>5</td>\n",
       "      <td>175+-1</td>\n",
       "    </tr>\n",
       "    <tr>\n",
       "      <th>03</th>\n",
       "      <td>03</td>\n",
       "      <td>[3968, 27927, 51155, 99030, 124254]</td>\n",
       "      <td>[31.744, 223.416, 409.24, 792.24, 994.032]</td>\n",
       "      <td>5</td>\n",
       "      <td>5</td>\n",
       "      <td>175+-1</td>\n",
       "    </tr>\n",
       "    <tr>\n",
       "      <th>04</th>\n",
       "      <td>04</td>\n",
       "      <td>[2434, 26576, 47839, 95561, 124178]</td>\n",
       "      <td>[19.472, 212.608, 382.712, 764.488, 993.424]</td>\n",
       "      <td>5</td>\n",
       "      <td>5</td>\n",
       "      <td>175+-1</td>\n",
       "    </tr>\n",
       "    <tr>\n",
       "      <th>05</th>\n",
       "      <td>05</td>\n",
       "      <td>[521, 23050, 45929, 93805, 119242]</td>\n",
       "      <td>[4.168, 184.4, 367.432, 750.44, 953.936]</td>\n",
       "      <td>5</td>\n",
       "      <td>5</td>\n",
       "      <td>175+-1</td>\n",
       "    </tr>\n",
       "    <tr>\n",
       "      <th>06</th>\n",
       "      <td>06</td>\n",
       "      <td>[780, 23716, 46850, 94808, 120008]</td>\n",
       "      <td>[6.24, 189.728, 374.8, 758.464, 960.064]</td>\n",
       "      <td>5</td>\n",
       "      <td>5</td>\n",
       "      <td>175+-1</td>\n",
       "    </tr>\n",
       "    <tr>\n",
       "      <th>07</th>\n",
       "      <td>07</td>\n",
       "      <td>[3611, 26182, 48964, 96878, 126259]</td>\n",
       "      <td>[28.888, 209.456, 391.712, 775.024, 1010.072]</td>\n",
       "      <td>5</td>\n",
       "      <td>5</td>\n",
       "      <td>175+-1</td>\n",
       "    </tr>\n",
       "    <tr>\n",
       "      <th>08</th>\n",
       "      <td>08</td>\n",
       "      <td>[22912, 46395, 94416, 119838]</td>\n",
       "      <td>[183.296, 371.16, 755.328, 958.704]</td>\n",
       "      <td>4</td>\n",
       "      <td>4</td>\n",
       "      <td>175+-1</td>\n",
       "    </tr>\n",
       "    <tr>\n",
       "      <th>09</th>\n",
       "      <td>09</td>\n",
       "      <td>[3941, 26490, 49811, 97594, 123124]</td>\n",
       "      <td>[31.528, 211.92, 398.488, 780.752, 984.992]</td>\n",
       "      <td>5</td>\n",
       "      <td>5</td>\n",
       "      <td>175+-1</td>\n",
       "    </tr>\n",
       "    <tr>\n",
       "      <th>10</th>\n",
       "      <td>10</td>\n",
       "      <td>[6484, 29291, 52515, 100438, 126058]</td>\n",
       "      <td>[51.872, 234.328, 420.12, 803.504, 1008.464]</td>\n",
       "      <td>5</td>\n",
       "      <td>5</td>\n",
       "      <td>175+-1</td>\n",
       "    </tr>\n",
       "    <tr>\n",
       "      <th>11</th>\n",
       "      <td>11</td>\n",
       "      <td>[8168, 31391, 55969, 103339, 128760]</td>\n",
       "      <td>[65.344, 251.128, 447.752, 826.712, 1030.08]</td>\n",
       "      <td>5</td>\n",
       "      <td>5</td>\n",
       "      <td>175+-1</td>\n",
       "    </tr>\n",
       "    <tr>\n",
       "      <th>13</th>\n",
       "      <td>13</td>\n",
       "      <td>[1572, 27391, 50595, 98242, 124118]</td>\n",
       "      <td>[12.576, 219.128, 404.76, 785.936, 992.944]</td>\n",
       "      <td>5</td>\n",
       "      <td>5</td>\n",
       "      <td>175+-1</td>\n",
       "    </tr>\n",
       "    <tr>\n",
       "      <th>14</th>\n",
       "      <td>14</td>\n",
       "      <td>[600, 21431, 21758, 23348, 46834, 95816, 120585]</td>\n",
       "      <td>[4.8, 171.448, 174.064, 186.784, 374.672, 766....</td>\n",
       "      <td>5</td>\n",
       "      <td>7</td>\n",
       "      <td>175+-1</td>\n",
       "    </tr>\n",
       "    <tr>\n",
       "      <th>15</th>\n",
       "      <td>15</td>\n",
       "      <td>[2591, 25402, 48436, 96383, 121470]</td>\n",
       "      <td>[20.728, 203.216, 387.488, 771.064, 971.76]</td>\n",
       "      <td>5</td>\n",
       "      <td>5</td>\n",
       "      <td>175+-1</td>\n",
       "    </tr>\n",
       "    <tr>\n",
       "      <th>16</th>\n",
       "      <td>16</td>\n",
       "      <td>[1980, 25208, 48482, 96567, 122290]</td>\n",
       "      <td>[15.84, 201.664, 387.856, 772.536, 978.32]</td>\n",
       "      <td>5</td>\n",
       "      <td>5</td>\n",
       "      <td>175+-1</td>\n",
       "    </tr>\n",
       "    <tr>\n",
       "      <th>17</th>\n",
       "      <td>17</td>\n",
       "      <td>[2356, 25092, 48888, 101238, 120648]</td>\n",
       "      <td>[18.848, 200.736, 391.104, 809.904, 965.184]</td>\n",
       "      <td>5</td>\n",
       "      <td>5</td>\n",
       "      <td>175+-1</td>\n",
       "    </tr>\n",
       "    <tr>\n",
       "      <th>18</th>\n",
       "      <td>18</td>\n",
       "      <td>[24090, 46778, 94594, 118159]</td>\n",
       "      <td>[192.72, 374.224, 756.752, 945.272]</td>\n",
       "      <td>4</td>\n",
       "      <td>3</td>\n",
       "      <td>175+-1</td>\n",
       "    </tr>\n",
       "    <tr>\n",
       "      <th>19</th>\n",
       "      <td>19</td>\n",
       "      <td>[3142, 38275, 49222, 97478, 122033]</td>\n",
       "      <td>[25.136, 306.2, 393.776, 779.824, 976.264]</td>\n",
       "      <td>5</td>\n",
       "      <td>5</td>\n",
       "      <td>175+-1</td>\n",
       "    </tr>\n",
       "    <tr>\n",
       "      <th>20</th>\n",
       "      <td>20</td>\n",
       "      <td>[260, 23574, 46634, 94692, 120274]</td>\n",
       "      <td>[2.08, 188.592, 373.072, 757.536, 962.192]</td>\n",
       "      <td>5</td>\n",
       "      <td>5</td>\n",
       "      <td>175+-1</td>\n",
       "    </tr>\n",
       "    <tr>\n",
       "      <th>21</th>\n",
       "      <td>21</td>\n",
       "      <td>[432, 23089, 46710, 94254, 121634]</td>\n",
       "      <td>[3.456, 184.712, 373.68, 754.032, 973.072]</td>\n",
       "      <td>5</td>\n",
       "      <td>5</td>\n",
       "      <td>175+-1</td>\n",
       "    </tr>\n",
       "    <tr>\n",
       "      <th>22</th>\n",
       "      <td>22</td>\n",
       "      <td>[2820, 25658, 48724, 96592, 121346]</td>\n",
       "      <td>[22.56, 205.264, 389.792, 772.736, 970.768]</td>\n",
       "      <td>5</td>\n",
       "      <td>5</td>\n",
       "      <td>175+-1</td>\n",
       "    </tr>\n",
       "    <tr>\n",
       "      <th>23</th>\n",
       "      <td>23</td>\n",
       "      <td>[3284, 26112, 49164, 97005, 122500]</td>\n",
       "      <td>[26.272, 208.896, 393.312, 776.04, 980.0]</td>\n",
       "      <td>5</td>\n",
       "      <td>5</td>\n",
       "      <td>175+-1</td>\n",
       "    </tr>\n",
       "    <tr>\n",
       "      <th>24</th>\n",
       "      <td>24</td>\n",
       "      <td>[540, 23320, 46440, 94192, 119900]</td>\n",
       "      <td>[4.32, 186.56, 371.52, 753.536, 959.2]</td>\n",
       "      <td>5</td>\n",
       "      <td>5</td>\n",
       "      <td>175+-1</td>\n",
       "    </tr>\n",
       "    <tr>\n",
       "      <th>25</th>\n",
       "      <td>25</td>\n",
       "      <td>[2088, 25016, 48572, 96244, 122552]</td>\n",
       "      <td>[16.704, 200.128, 388.576, 769.952, 980.416]</td>\n",
       "      <td>5</td>\n",
       "      <td>5</td>\n",
       "      <td>175+-1</td>\n",
       "    </tr>\n",
       "    <tr>\n",
       "      <th>26</th>\n",
       "      <td>26</td>\n",
       "      <td>[5717, 5882, 28892, 51887, 99846, 125244]</td>\n",
       "      <td>[45.736, 47.056, 231.136, 415.096, 798.768, 10...</td>\n",
       "      <td>5</td>\n",
       "      <td>6</td>\n",
       "      <td>175+-1</td>\n",
       "    </tr>\n",
       "    <tr>\n",
       "      <th>27</th>\n",
       "      <td>27</td>\n",
       "      <td>[1635, 23581, 47836, 122415]</td>\n",
       "      <td>[13.08, 188.648, 382.688, 979.32]</td>\n",
       "      <td>4</td>\n",
       "      <td>3</td>\n",
       "      <td>175+-1</td>\n",
       "    </tr>\n",
       "    <tr>\n",
       "      <th>28</th>\n",
       "      <td>28</td>\n",
       "      <td>[1550, 25150, 50018, 97934, 123057]</td>\n",
       "      <td>[12.4, 201.2, 400.144, 783.472, 984.456]</td>\n",
       "      <td>5</td>\n",
       "      <td>5</td>\n",
       "      <td>175+-1</td>\n",
       "    </tr>\n",
       "    <tr>\n",
       "      <th>29</th>\n",
       "      <td>29</td>\n",
       "      <td>[2591, 25590, 48851, 96315, 121552]</td>\n",
       "      <td>[20.728, 204.72, 390.808, 770.52, 972.416]</td>\n",
       "      <td>5</td>\n",
       "      <td>5</td>\n",
       "      <td>175+-1</td>\n",
       "    </tr>\n",
       "    <tr>\n",
       "      <th>30</th>\n",
       "      <td>30</td>\n",
       "      <td>[3668, 26438, 49258, 97154, 123987]</td>\n",
       "      <td>[29.344, 211.504, 394.064, 777.232, 991.896]</td>\n",
       "      <td>5</td>\n",
       "      <td>5</td>\n",
       "      <td>175+-1</td>\n",
       "    </tr>\n",
       "    <tr>\n",
       "      <th>31</th>\n",
       "      <td>31</td>\n",
       "      <td>[196, 23724, 48196, 95388, 121692]</td>\n",
       "      <td>[1.568, 189.792, 385.568, 763.104, 973.536]</td>\n",
       "      <td>5</td>\n",
       "      <td>5</td>\n",
       "      <td>175+-1</td>\n",
       "    </tr>\n",
       "  </tbody>\n",
       "</table>\n",
       "</div>"
      ],
      "text/plain": [
       "\n",
       "   subject                                   events \u001b[1m(\u001b[0mpoints\u001b[1m)\u001b[0m  \\\n",
       "\u001b[1;36m01\u001b[0m      \u001b[1;36m01\u001b[0m               \u001b[1m[\u001b[0m\u001b[1;36m3776\u001b[0m, \u001b[1;36m27119\u001b[0m, \u001b[1;36m50479\u001b[0m, \u001b[1;36m98358\u001b[0m, \u001b[1;36m123494\u001b[0m\u001b[1m]\u001b[0m   \n",
       "\u001b[1;36m02\u001b[0m      \u001b[1;36m02\u001b[0m               \u001b[1m[\u001b[0m\u001b[1;36m1571\u001b[0m, \u001b[1;36m24312\u001b[0m, \u001b[1;36m48024\u001b[0m, \u001b[1;36m96067\u001b[0m, \u001b[1;36m122342\u001b[0m\u001b[1m]\u001b[0m   \n",
       "\u001b[1;36m03\u001b[0m      \u001b[1;36m03\u001b[0m               \u001b[1m[\u001b[0m\u001b[1;36m3968\u001b[0m, \u001b[1;36m27927\u001b[0m, \u001b[1;36m51155\u001b[0m, \u001b[1;36m99030\u001b[0m, \u001b[1;36m124254\u001b[0m\u001b[1m]\u001b[0m   \n",
       "\u001b[1;36m04\u001b[0m      \u001b[1;36m04\u001b[0m               \u001b[1m[\u001b[0m\u001b[1;36m2434\u001b[0m, \u001b[1;36m26576\u001b[0m, \u001b[1;36m47839\u001b[0m, \u001b[1;36m95561\u001b[0m, \u001b[1;36m124178\u001b[0m\u001b[1m]\u001b[0m   \n",
       "\u001b[1;36m05\u001b[0m      \u001b[1;36m05\u001b[0m                \u001b[1m[\u001b[0m\u001b[1;36m521\u001b[0m, \u001b[1;36m23050\u001b[0m, \u001b[1;36m45929\u001b[0m, \u001b[1;36m93805\u001b[0m, \u001b[1;36m119242\u001b[0m\u001b[1m]\u001b[0m   \n",
       "\u001b[1;36m06\u001b[0m      \u001b[1;36m06\u001b[0m                \u001b[1m[\u001b[0m\u001b[1;36m780\u001b[0m, \u001b[1;36m23716\u001b[0m, \u001b[1;36m46850\u001b[0m, \u001b[1;36m94808\u001b[0m, \u001b[1;36m120008\u001b[0m\u001b[1m]\u001b[0m   \n",
       "\u001b[1;36m07\u001b[0m      \u001b[1;36m07\u001b[0m               \u001b[1m[\u001b[0m\u001b[1;36m3611\u001b[0m, \u001b[1;36m26182\u001b[0m, \u001b[1;36m48964\u001b[0m, \u001b[1;36m96878\u001b[0m, \u001b[1;36m126259\u001b[0m\u001b[1m]\u001b[0m   \n",
       "\u001b[1;36m08\u001b[0m      \u001b[1;36m08\u001b[0m                     \u001b[1m[\u001b[0m\u001b[1;36m22912\u001b[0m, \u001b[1;36m46395\u001b[0m, \u001b[1;36m94416\u001b[0m, \u001b[1;36m119838\u001b[0m\u001b[1m]\u001b[0m   \n",
       "\u001b[1;36m09\u001b[0m      \u001b[1;36m09\u001b[0m               \u001b[1m[\u001b[0m\u001b[1;36m3941\u001b[0m, \u001b[1;36m26490\u001b[0m, \u001b[1;36m49811\u001b[0m, \u001b[1;36m97594\u001b[0m, \u001b[1;36m123124\u001b[0m\u001b[1m]\u001b[0m   \n",
       "\u001b[1;36m10\u001b[0m      \u001b[1;36m10\u001b[0m              \u001b[1m[\u001b[0m\u001b[1;36m6484\u001b[0m, \u001b[1;36m29291\u001b[0m, \u001b[1;36m52515\u001b[0m, \u001b[1;36m100438\u001b[0m, \u001b[1;36m126058\u001b[0m\u001b[1m]\u001b[0m   \n",
       "\u001b[1;36m11\u001b[0m      \u001b[1;36m11\u001b[0m              \u001b[1m[\u001b[0m\u001b[1;36m8168\u001b[0m, \u001b[1;36m31391\u001b[0m, \u001b[1;36m55969\u001b[0m, \u001b[1;36m103339\u001b[0m, \u001b[1;36m128760\u001b[0m\u001b[1m]\u001b[0m   \n",
       "\u001b[1;36m13\u001b[0m      \u001b[1;36m13\u001b[0m               \u001b[1m[\u001b[0m\u001b[1;36m1572\u001b[0m, \u001b[1;36m27391\u001b[0m, \u001b[1;36m50595\u001b[0m, \u001b[1;36m98242\u001b[0m, \u001b[1;36m124118\u001b[0m\u001b[1m]\u001b[0m   \n",
       "\u001b[1;36m14\u001b[0m      \u001b[1;36m14\u001b[0m  \u001b[1m[\u001b[0m\u001b[1;36m600\u001b[0m, \u001b[1;36m21431\u001b[0m, \u001b[1;36m21758\u001b[0m, \u001b[1;36m23348\u001b[0m, \u001b[1;36m46834\u001b[0m, \u001b[1;36m95816\u001b[0m, \u001b[1;36m120585\u001b[0m\u001b[1m]\u001b[0m   \n",
       "\u001b[1;36m15\u001b[0m      \u001b[1;36m15\u001b[0m               \u001b[1m[\u001b[0m\u001b[1;36m2591\u001b[0m, \u001b[1;36m25402\u001b[0m, \u001b[1;36m48436\u001b[0m, \u001b[1;36m96383\u001b[0m, \u001b[1;36m121470\u001b[0m\u001b[1m]\u001b[0m   \n",
       "\u001b[1;36m16\u001b[0m      \u001b[1;36m16\u001b[0m               \u001b[1m[\u001b[0m\u001b[1;36m1980\u001b[0m, \u001b[1;36m25208\u001b[0m, \u001b[1;36m48482\u001b[0m, \u001b[1;36m96567\u001b[0m, \u001b[1;36m122290\u001b[0m\u001b[1m]\u001b[0m   \n",
       "\u001b[1;36m17\u001b[0m      \u001b[1;36m17\u001b[0m              \u001b[1m[\u001b[0m\u001b[1;36m2356\u001b[0m, \u001b[1;36m25092\u001b[0m, \u001b[1;36m48888\u001b[0m, \u001b[1;36m101238\u001b[0m, \u001b[1;36m120648\u001b[0m\u001b[1m]\u001b[0m   \n",
       "\u001b[1;36m18\u001b[0m      \u001b[1;36m18\u001b[0m                     \u001b[1m[\u001b[0m\u001b[1;36m24090\u001b[0m, \u001b[1;36m46778\u001b[0m, \u001b[1;36m94594\u001b[0m, \u001b[1;36m118159\u001b[0m\u001b[1m]\u001b[0m   \n",
       "\u001b[1;36m19\u001b[0m      \u001b[1;36m19\u001b[0m               \u001b[1m[\u001b[0m\u001b[1;36m3142\u001b[0m, \u001b[1;36m38275\u001b[0m, \u001b[1;36m49222\u001b[0m, \u001b[1;36m97478\u001b[0m, \u001b[1;36m122033\u001b[0m\u001b[1m]\u001b[0m   \n",
       "\u001b[1;36m20\u001b[0m      \u001b[1;36m20\u001b[0m                \u001b[1m[\u001b[0m\u001b[1;36m260\u001b[0m, \u001b[1;36m23574\u001b[0m, \u001b[1;36m46634\u001b[0m, \u001b[1;36m94692\u001b[0m, \u001b[1;36m120274\u001b[0m\u001b[1m]\u001b[0m   \n",
       "\u001b[1;36m21\u001b[0m      \u001b[1;36m21\u001b[0m                \u001b[1m[\u001b[0m\u001b[1;36m432\u001b[0m, \u001b[1;36m23089\u001b[0m, \u001b[1;36m46710\u001b[0m, \u001b[1;36m94254\u001b[0m, \u001b[1;36m121634\u001b[0m\u001b[1m]\u001b[0m   \n",
       "\u001b[1;36m22\u001b[0m      \u001b[1;36m22\u001b[0m               \u001b[1m[\u001b[0m\u001b[1;36m2820\u001b[0m, \u001b[1;36m25658\u001b[0m, \u001b[1;36m48724\u001b[0m, \u001b[1;36m96592\u001b[0m, \u001b[1;36m121346\u001b[0m\u001b[1m]\u001b[0m   \n",
       "\u001b[1;36m23\u001b[0m      \u001b[1;36m23\u001b[0m               \u001b[1m[\u001b[0m\u001b[1;36m3284\u001b[0m, \u001b[1;36m26112\u001b[0m, \u001b[1;36m49164\u001b[0m, \u001b[1;36m97005\u001b[0m, \u001b[1;36m122500\u001b[0m\u001b[1m]\u001b[0m   \n",
       "\u001b[1;36m24\u001b[0m      \u001b[1;36m24\u001b[0m                \u001b[1m[\u001b[0m\u001b[1;36m540\u001b[0m, \u001b[1;36m23320\u001b[0m, \u001b[1;36m46440\u001b[0m, \u001b[1;36m94192\u001b[0m, \u001b[1;36m119900\u001b[0m\u001b[1m]\u001b[0m   \n",
       "\u001b[1;36m25\u001b[0m      \u001b[1;36m25\u001b[0m               \u001b[1m[\u001b[0m\u001b[1;36m2088\u001b[0m, \u001b[1;36m25016\u001b[0m, \u001b[1;36m48572\u001b[0m, \u001b[1;36m96244\u001b[0m, \u001b[1;36m122552\u001b[0m\u001b[1m]\u001b[0m   \n",
       "\u001b[1;36m26\u001b[0m      \u001b[1;36m26\u001b[0m         \u001b[1m[\u001b[0m\u001b[1;36m5717\u001b[0m, \u001b[1;36m5882\u001b[0m, \u001b[1;36m28892\u001b[0m, \u001b[1;36m51887\u001b[0m, \u001b[1;36m99846\u001b[0m, \u001b[1;36m125244\u001b[0m\u001b[1m]\u001b[0m   \n",
       "\u001b[1;36m27\u001b[0m      \u001b[1;36m27\u001b[0m                      \u001b[1m[\u001b[0m\u001b[1;36m1635\u001b[0m, \u001b[1;36m23581\u001b[0m, \u001b[1;36m47836\u001b[0m, \u001b[1;36m122415\u001b[0m\u001b[1m]\u001b[0m   \n",
       "\u001b[1;36m28\u001b[0m      \u001b[1;36m28\u001b[0m               \u001b[1m[\u001b[0m\u001b[1;36m1550\u001b[0m, \u001b[1;36m25150\u001b[0m, \u001b[1;36m50018\u001b[0m, \u001b[1;36m97934\u001b[0m, \u001b[1;36m123057\u001b[0m\u001b[1m]\u001b[0m   \n",
       "\u001b[1;36m29\u001b[0m      \u001b[1;36m29\u001b[0m               \u001b[1m[\u001b[0m\u001b[1;36m2591\u001b[0m, \u001b[1;36m25590\u001b[0m, \u001b[1;36m48851\u001b[0m, \u001b[1;36m96315\u001b[0m, \u001b[1;36m121552\u001b[0m\u001b[1m]\u001b[0m   \n",
       "\u001b[1;36m30\u001b[0m      \u001b[1;36m30\u001b[0m               \u001b[1m[\u001b[0m\u001b[1;36m3668\u001b[0m, \u001b[1;36m26438\u001b[0m, \u001b[1;36m49258\u001b[0m, \u001b[1;36m97154\u001b[0m, \u001b[1;36m123987\u001b[0m\u001b[1m]\u001b[0m   \n",
       "\u001b[1;36m31\u001b[0m      \u001b[1;36m31\u001b[0m                \u001b[1m[\u001b[0m\u001b[1;36m196\u001b[0m, \u001b[1;36m23724\u001b[0m, \u001b[1;36m48196\u001b[0m, \u001b[1;36m95388\u001b[0m, \u001b[1;36m121692\u001b[0m\u001b[1m]\u001b[0m   \n",
       "\n",
       "                                      events \u001b[1;35mtimes\u001b[0m\u001b[1m(\u001b[0ms\u001b[1m)\u001b[0m  num events  num_epochs  \\\n",
       "\u001b[1;36m01\u001b[0m       \u001b[1m[\u001b[0m\u001b[1;36m30.208\u001b[0m, \u001b[1;36m216.952\u001b[0m, \u001b[1;36m403.832\u001b[0m, \u001b[1;36m786.864\u001b[0m, \u001b[1;36m987.952\u001b[0m\u001b[1m]\u001b[0m           \u001b[1;36m5\u001b[0m           \u001b[1;36m5\u001b[0m   \n",
       "\u001b[1;36m02\u001b[0m       \u001b[1m[\u001b[0m\u001b[1;36m12.568\u001b[0m, \u001b[1;36m194.496\u001b[0m, \u001b[1;36m384.192\u001b[0m, \u001b[1;36m768.536\u001b[0m, \u001b[1;36m978.736\u001b[0m\u001b[1m]\u001b[0m           \u001b[1;36m5\u001b[0m           \u001b[1;36m5\u001b[0m   \n",
       "\u001b[1;36m03\u001b[0m         \u001b[1m[\u001b[0m\u001b[1;36m31.744\u001b[0m, \u001b[1;36m223.416\u001b[0m, \u001b[1;36m409.24\u001b[0m, \u001b[1;36m792.24\u001b[0m, \u001b[1;36m994.032\u001b[0m\u001b[1m]\u001b[0m           \u001b[1;36m5\u001b[0m           \u001b[1;36m5\u001b[0m   \n",
       "\u001b[1;36m04\u001b[0m       \u001b[1m[\u001b[0m\u001b[1;36m19.472\u001b[0m, \u001b[1;36m212.608\u001b[0m, \u001b[1;36m382.712\u001b[0m, \u001b[1;36m764.488\u001b[0m, \u001b[1;36m993.424\u001b[0m\u001b[1m]\u001b[0m           \u001b[1;36m5\u001b[0m           \u001b[1;36m5\u001b[0m   \n",
       "\u001b[1;36m05\u001b[0m           \u001b[1m[\u001b[0m\u001b[1;36m4.168\u001b[0m, \u001b[1;36m184.4\u001b[0m, \u001b[1;36m367.432\u001b[0m, \u001b[1;36m750.44\u001b[0m, \u001b[1;36m953.936\u001b[0m\u001b[1m]\u001b[0m           \u001b[1;36m5\u001b[0m           \u001b[1;36m5\u001b[0m   \n",
       "\u001b[1;36m06\u001b[0m           \u001b[1m[\u001b[0m\u001b[1;36m6.24\u001b[0m, \u001b[1;36m189.728\u001b[0m, \u001b[1;36m374.8\u001b[0m, \u001b[1;36m758.464\u001b[0m, \u001b[1;36m960.064\u001b[0m\u001b[1m]\u001b[0m           \u001b[1;36m5\u001b[0m           \u001b[1;36m5\u001b[0m   \n",
       "\u001b[1;36m07\u001b[0m      \u001b[1m[\u001b[0m\u001b[1;36m28.888\u001b[0m, \u001b[1;36m209.456\u001b[0m, \u001b[1;36m391.712\u001b[0m, \u001b[1;36m775.024\u001b[0m, \u001b[1;36m1010.072\u001b[0m\u001b[1m]\u001b[0m           \u001b[1;36m5\u001b[0m           \u001b[1;36m5\u001b[0m   \n",
       "\u001b[1;36m08\u001b[0m                \u001b[1m[\u001b[0m\u001b[1;36m183.296\u001b[0m, \u001b[1;36m371.16\u001b[0m, \u001b[1;36m755.328\u001b[0m, \u001b[1;36m958.704\u001b[0m\u001b[1m]\u001b[0m           \u001b[1;36m4\u001b[0m           \u001b[1;36m4\u001b[0m   \n",
       "\u001b[1;36m09\u001b[0m        \u001b[1m[\u001b[0m\u001b[1;36m31.528\u001b[0m, \u001b[1;36m211.92\u001b[0m, \u001b[1;36m398.488\u001b[0m, \u001b[1;36m780.752\u001b[0m, \u001b[1;36m984.992\u001b[0m\u001b[1m]\u001b[0m           \u001b[1;36m5\u001b[0m           \u001b[1;36m5\u001b[0m   \n",
       "\u001b[1;36m10\u001b[0m       \u001b[1m[\u001b[0m\u001b[1;36m51.872\u001b[0m, \u001b[1;36m234.328\u001b[0m, \u001b[1;36m420.12\u001b[0m, \u001b[1;36m803.504\u001b[0m, \u001b[1;36m1008.464\u001b[0m\u001b[1m]\u001b[0m           \u001b[1;36m5\u001b[0m           \u001b[1;36m5\u001b[0m   \n",
       "\u001b[1;36m11\u001b[0m       \u001b[1m[\u001b[0m\u001b[1;36m65.344\u001b[0m, \u001b[1;36m251.128\u001b[0m, \u001b[1;36m447.752\u001b[0m, \u001b[1;36m826.712\u001b[0m, \u001b[1;36m1030.08\u001b[0m\u001b[1m]\u001b[0m           \u001b[1;36m5\u001b[0m           \u001b[1;36m5\u001b[0m   \n",
       "\u001b[1;36m13\u001b[0m        \u001b[1m[\u001b[0m\u001b[1;36m12.576\u001b[0m, \u001b[1;36m219.128\u001b[0m, \u001b[1;36m404.76\u001b[0m, \u001b[1;36m785.936\u001b[0m, \u001b[1;36m992.944\u001b[0m\u001b[1m]\u001b[0m           \u001b[1;36m5\u001b[0m           \u001b[1;36m5\u001b[0m   \n",
       "\u001b[1;36m14\u001b[0m  \u001b[1m[\u001b[0m\u001b[1;36m4.8\u001b[0m, \u001b[1;36m171.448\u001b[0m, \u001b[1;36m174.064\u001b[0m, \u001b[1;36m186.784\u001b[0m, \u001b[1;36m374.672\u001b[0m, \u001b[1;36m766\u001b[0m\u001b[33m...\u001b[0m.           \u001b[1;36m5\u001b[0m           \u001b[1;36m7\u001b[0m   \n",
       "\u001b[1;36m15\u001b[0m        \u001b[1m[\u001b[0m\u001b[1;36m20.728\u001b[0m, \u001b[1;36m203.216\u001b[0m, \u001b[1;36m387.488\u001b[0m, \u001b[1;36m771.064\u001b[0m, \u001b[1;36m971.76\u001b[0m\u001b[1m]\u001b[0m           \u001b[1;36m5\u001b[0m           \u001b[1;36m5\u001b[0m   \n",
       "\u001b[1;36m16\u001b[0m         \u001b[1m[\u001b[0m\u001b[1;36m15.84\u001b[0m, \u001b[1;36m201.664\u001b[0m, \u001b[1;36m387.856\u001b[0m, \u001b[1;36m772.536\u001b[0m, \u001b[1;36m978.32\u001b[0m\u001b[1m]\u001b[0m           \u001b[1;36m5\u001b[0m           \u001b[1;36m5\u001b[0m   \n",
       "\u001b[1;36m17\u001b[0m       \u001b[1m[\u001b[0m\u001b[1;36m18.848\u001b[0m, \u001b[1;36m200.736\u001b[0m, \u001b[1;36m391.104\u001b[0m, \u001b[1;36m809.904\u001b[0m, \u001b[1;36m965.184\u001b[0m\u001b[1m]\u001b[0m           \u001b[1;36m5\u001b[0m           \u001b[1;36m5\u001b[0m   \n",
       "\u001b[1;36m18\u001b[0m                \u001b[1m[\u001b[0m\u001b[1;36m192.72\u001b[0m, \u001b[1;36m374.224\u001b[0m, \u001b[1;36m756.752\u001b[0m, \u001b[1;36m945.272\u001b[0m\u001b[1m]\u001b[0m           \u001b[1;36m4\u001b[0m           \u001b[1;36m3\u001b[0m   \n",
       "\u001b[1;36m19\u001b[0m         \u001b[1m[\u001b[0m\u001b[1;36m25.136\u001b[0m, \u001b[1;36m306.2\u001b[0m, \u001b[1;36m393.776\u001b[0m, \u001b[1;36m779.824\u001b[0m, \u001b[1;36m976.264\u001b[0m\u001b[1m]\u001b[0m           \u001b[1;36m5\u001b[0m           \u001b[1;36m5\u001b[0m   \n",
       "\u001b[1;36m20\u001b[0m         \u001b[1m[\u001b[0m\u001b[1;36m2.08\u001b[0m, \u001b[1;36m188.592\u001b[0m, \u001b[1;36m373.072\u001b[0m, \u001b[1;36m757.536\u001b[0m, \u001b[1;36m962.192\u001b[0m\u001b[1m]\u001b[0m           \u001b[1;36m5\u001b[0m           \u001b[1;36m5\u001b[0m   \n",
       "\u001b[1;36m21\u001b[0m         \u001b[1m[\u001b[0m\u001b[1;36m3.456\u001b[0m, \u001b[1;36m184.712\u001b[0m, \u001b[1;36m373.68\u001b[0m, \u001b[1;36m754.032\u001b[0m, \u001b[1;36m973.072\u001b[0m\u001b[1m]\u001b[0m           \u001b[1;36m5\u001b[0m           \u001b[1;36m5\u001b[0m   \n",
       "\u001b[1;36m22\u001b[0m        \u001b[1m[\u001b[0m\u001b[1;36m22.56\u001b[0m, \u001b[1;36m205.264\u001b[0m, \u001b[1;36m389.792\u001b[0m, \u001b[1;36m772.736\u001b[0m, \u001b[1;36m970.768\u001b[0m\u001b[1m]\u001b[0m           \u001b[1;36m5\u001b[0m           \u001b[1;36m5\u001b[0m   \n",
       "\u001b[1;36m23\u001b[0m          \u001b[1m[\u001b[0m\u001b[1;36m26.272\u001b[0m, \u001b[1;36m208.896\u001b[0m, \u001b[1;36m393.312\u001b[0m, \u001b[1;36m776.04\u001b[0m, \u001b[1;36m980.0\u001b[0m\u001b[1m]\u001b[0m           \u001b[1;36m5\u001b[0m           \u001b[1;36m5\u001b[0m   \n",
       "\u001b[1;36m24\u001b[0m             \u001b[1m[\u001b[0m\u001b[1;36m4.32\u001b[0m, \u001b[1;36m186.56\u001b[0m, \u001b[1;36m371.52\u001b[0m, \u001b[1;36m753.536\u001b[0m, \u001b[1;36m959.2\u001b[0m\u001b[1m]\u001b[0m           \u001b[1;36m5\u001b[0m           \u001b[1;36m5\u001b[0m   \n",
       "\u001b[1;36m25\u001b[0m       \u001b[1m[\u001b[0m\u001b[1;36m16.704\u001b[0m, \u001b[1;36m200.128\u001b[0m, \u001b[1;36m388.576\u001b[0m, \u001b[1;36m769.952\u001b[0m, \u001b[1;36m980.416\u001b[0m\u001b[1m]\u001b[0m           \u001b[1;36m5\u001b[0m           \u001b[1;36m5\u001b[0m   \n",
       "\u001b[1;36m26\u001b[0m  \u001b[1m[\u001b[0m\u001b[1;36m45.736\u001b[0m, \u001b[1;36m47.056\u001b[0m, \u001b[1;36m231.136\u001b[0m, \u001b[1;36m415.096\u001b[0m, \u001b[1;36m798.768\u001b[0m, \u001b[1;36m10\u001b[0m\u001b[33m...\u001b[0m           \u001b[1;36m5\u001b[0m           \u001b[1;36m6\u001b[0m   \n",
       "\u001b[1;36m27\u001b[0m                  \u001b[1m[\u001b[0m\u001b[1;36m13.08\u001b[0m, \u001b[1;36m188.648\u001b[0m, \u001b[1;36m382.688\u001b[0m, \u001b[1;36m979.32\u001b[0m\u001b[1m]\u001b[0m           \u001b[1;36m4\u001b[0m           \u001b[1;36m3\u001b[0m   \n",
       "\u001b[1;36m28\u001b[0m           \u001b[1m[\u001b[0m\u001b[1;36m12.4\u001b[0m, \u001b[1;36m201.2\u001b[0m, \u001b[1;36m400.144\u001b[0m, \u001b[1;36m783.472\u001b[0m, \u001b[1;36m984.456\u001b[0m\u001b[1m]\u001b[0m           \u001b[1;36m5\u001b[0m           \u001b[1;36m5\u001b[0m   \n",
       "\u001b[1;36m29\u001b[0m         \u001b[1m[\u001b[0m\u001b[1;36m20.728\u001b[0m, \u001b[1;36m204.72\u001b[0m, \u001b[1;36m390.808\u001b[0m, \u001b[1;36m770.52\u001b[0m, \u001b[1;36m972.416\u001b[0m\u001b[1m]\u001b[0m           \u001b[1;36m5\u001b[0m           \u001b[1;36m5\u001b[0m   \n",
       "\u001b[1;36m30\u001b[0m       \u001b[1m[\u001b[0m\u001b[1;36m29.344\u001b[0m, \u001b[1;36m211.504\u001b[0m, \u001b[1;36m394.064\u001b[0m, \u001b[1;36m777.232\u001b[0m, \u001b[1;36m991.896\u001b[0m\u001b[1m]\u001b[0m           \u001b[1;36m5\u001b[0m           \u001b[1;36m5\u001b[0m   \n",
       "\u001b[1;36m31\u001b[0m        \u001b[1m[\u001b[0m\u001b[1;36m1.568\u001b[0m, \u001b[1;36m189.792\u001b[0m, \u001b[1;36m385.568\u001b[0m, \u001b[1;36m763.104\u001b[0m, \u001b[1;36m973.536\u001b[0m\u001b[1m]\u001b[0m           \u001b[1;36m5\u001b[0m           \u001b[1;36m5\u001b[0m   \n",
       "\n",
       "   epochs durations \u001b[1m(\u001b[0ms\u001b[1m)\u001b[0m  \n",
       "\u001b[1;36m01\u001b[0m               \u001b[1;36m175\u001b[0m+\u001b[1;36m-1\u001b[0m  \n",
       "\u001b[1;36m02\u001b[0m               \u001b[1;36m175\u001b[0m+\u001b[1;36m-1\u001b[0m  \n",
       "\u001b[1;36m03\u001b[0m               \u001b[1;36m175\u001b[0m+\u001b[1;36m-1\u001b[0m  \n",
       "\u001b[1;36m04\u001b[0m               \u001b[1;36m175\u001b[0m+\u001b[1;36m-1\u001b[0m  \n",
       "\u001b[1;36m05\u001b[0m               \u001b[1;36m175\u001b[0m+\u001b[1;36m-1\u001b[0m  \n",
       "\u001b[1;36m06\u001b[0m               \u001b[1;36m175\u001b[0m+\u001b[1;36m-1\u001b[0m  \n",
       "\u001b[1;36m07\u001b[0m               \u001b[1;36m175\u001b[0m+\u001b[1;36m-1\u001b[0m  \n",
       "\u001b[1;36m08\u001b[0m               \u001b[1;36m175\u001b[0m+\u001b[1;36m-1\u001b[0m  \n",
       "\u001b[1;36m09\u001b[0m               \u001b[1;36m175\u001b[0m+\u001b[1;36m-1\u001b[0m  \n",
       "\u001b[1;36m10\u001b[0m               \u001b[1;36m175\u001b[0m+\u001b[1;36m-1\u001b[0m  \n",
       "\u001b[1;36m11\u001b[0m               \u001b[1;36m175\u001b[0m+\u001b[1;36m-1\u001b[0m  \n",
       "\u001b[1;36m13\u001b[0m               \u001b[1;36m175\u001b[0m+\u001b[1;36m-1\u001b[0m  \n",
       "\u001b[1;36m14\u001b[0m               \u001b[1;36m175\u001b[0m+\u001b[1;36m-1\u001b[0m  \n",
       "\u001b[1;36m15\u001b[0m               \u001b[1;36m175\u001b[0m+\u001b[1;36m-1\u001b[0m  \n",
       "\u001b[1;36m16\u001b[0m               \u001b[1;36m175\u001b[0m+\u001b[1;36m-1\u001b[0m  \n",
       "\u001b[1;36m17\u001b[0m               \u001b[1;36m175\u001b[0m+\u001b[1;36m-1\u001b[0m  \n",
       "\u001b[1;36m18\u001b[0m               \u001b[1;36m175\u001b[0m+\u001b[1;36m-1\u001b[0m  \n",
       "\u001b[1;36m19\u001b[0m               \u001b[1;36m175\u001b[0m+\u001b[1;36m-1\u001b[0m  \n",
       "\u001b[1;36m20\u001b[0m               \u001b[1;36m175\u001b[0m+\u001b[1;36m-1\u001b[0m  \n",
       "\u001b[1;36m21\u001b[0m               \u001b[1;36m175\u001b[0m+\u001b[1;36m-1\u001b[0m  \n",
       "\u001b[1;36m22\u001b[0m               \u001b[1;36m175\u001b[0m+\u001b[1;36m-1\u001b[0m  \n",
       "\u001b[1;36m23\u001b[0m               \u001b[1;36m175\u001b[0m+\u001b[1;36m-1\u001b[0m  \n",
       "\u001b[1;36m24\u001b[0m               \u001b[1;36m175\u001b[0m+\u001b[1;36m-1\u001b[0m  \n",
       "\u001b[1;36m25\u001b[0m               \u001b[1;36m175\u001b[0m+\u001b[1;36m-1\u001b[0m  \n",
       "\u001b[1;36m26\u001b[0m               \u001b[1;36m175\u001b[0m+\u001b[1;36m-1\u001b[0m  \n",
       "\u001b[1;36m27\u001b[0m               \u001b[1;36m175\u001b[0m+\u001b[1;36m-1\u001b[0m  \n",
       "\u001b[1;36m28\u001b[0m               \u001b[1;36m175\u001b[0m+\u001b[1;36m-1\u001b[0m  \n",
       "\u001b[1;36m29\u001b[0m               \u001b[1;36m175\u001b[0m+\u001b[1;36m-1\u001b[0m  \n",
       "\u001b[1;36m30\u001b[0m               \u001b[1;36m175\u001b[0m+\u001b[1;36m-1\u001b[0m  \n",
       "\u001b[1;36m31\u001b[0m               \u001b[1;36m175\u001b[0m+\u001b[1;36m-1\u001b[0m  "
      ]
     },
     "execution_count": 10,
     "metadata": {},
     "output_type": "execute_result"
    }
   ],
   "source": [
    "# save to file\n",
    "eventinfo_df = pd.DataFrame.from_dict(eventinfo_dict, orient=\"index\")\n",
    "eventinfo_df.to_excel(\"../data/event_df.xlsx\", index=False)\n",
    "eventinfo_df"
   ]
  },
  {
   "cell_type": "markdown",
   "metadata": {},
   "source": [
    "### EEG data"
   ]
  },
  {
   "cell_type": "code",
   "execution_count": null,
   "metadata": {},
   "outputs": [],
   "source": [
    "# empty dictionary to store EEG data\n",
    "data_dict = dict()\n",
    "\n",
    "# ignore runtime warnings\n",
    "with warnings.catch_warnings():\n",
    "    warnings.simplefilter(action=\"ignore\", category=RuntimeWarning)\n",
    "    # loop through each file in the list of EEG files\n",
    "    for file_idx in track(files_highs + files_lows):\n",
    "        # extract information from the filename\n",
    "        filename = file_idx.name.split(\".\")[0]\n",
    "        name = filename.split(\"_\")[1]\n",
    "\n",
    "        if file_idx in files_lows:\n",
    "            group = \"low\"\n",
    "        else:\n",
    "            group = \"high\"\n",
    "\n",
    "        # load the EEG data using mne\n",
    "        raw_EEG = mne.io.read_raw_eeglab(file_idx, preload=True, verbose=False)\n",
    "        raw_data = pd.DataFrame(raw_EEG.get_data().T, columns=raw_EEG.ch_names)\n",
    "        # print(raw_EEG.annotations)\n",
    "        series = raw_EEG.get_data()\n",
    "        channels = raw_EEG.ch_names\n",
    "\n",
    "        # finding epochs\n",
    "        events, event_ids = mne.events_from_annotations(\n",
    "            raw_EEG, event_id=\"auto\", verbose=False\n",
    "        )\n",
    "        tmin, tmax = -1, 4\n",
    "        epochs = mne.Epochs(\n",
    "            raw_EEG,\n",
    "            events,\n",
    "            event_ids,\n",
    "            tmin - 0.5,\n",
    "            tmax + 0.5,\n",
    "            baseline=None,\n",
    "            preload=True,\n",
    "            verbose=False,\n",
    "        )\n",
    "\n",
    "        # key for the current EEG data in the dictionary\n",
    "        key_tmp = f\"{name}\"\n",
    "        data_dict[key_tmp] = dict()\n",
    "\n",
    "        # add the EEG data to the dictionary\n",
    "        data_dict[key_tmp][\"file\"] = file_idx.name\n",
    "        data_dict[key_tmp][\"group\"] = group\n",
    "        data_dict[key_tmp][\"subject\"] = name\n",
    "        # data_dict[key_tmp][\"group\"] = group\n",
    "        # data_dict[key_tmp][\"condition\"] = condition\n",
    "        data_dict[key_tmp][\"series\"] = series\n",
    "        data_dict[key_tmp][\"channels\"] = raw_EEG.ch_names\n",
    "        data_dict[key_tmp][\"num_ch\"] = series.shape[0]\n",
    "        data_dict[key_tmp][\"length\"] = series.shape[1]\n",
    "        data_dict[key_tmp][\"epochs\"] = epochs\n",
    "        data_dict[key_tmp][\"epochs data\"] = epochs._data\n",
    "        data_dict[key_tmp][\"num_epochs\"] = len(epochs._data)\n",
    "\n",
    "data_df = pd.DataFrame.from_dict(data_dict, orient=\"index\")"
   ]
  },
  {
   "cell_type": "markdown",
   "metadata": {},
   "source": [
    "### save to file"
   ]
  },
  {
   "cell_type": "code",
   "execution_count": 7,
   "metadata": {},
   "outputs": [],
   "source": [
    "# pk.dump(data_df, open(\"../data/datadf.pkl\", \"wb\"))\n",
    "# pk.dump(data_dict, open(\"../data/datadict.pkl\", \"wb\"))\n",
    "\n",
    "# save to a CSV file\n",
    "data_df.to_csv(f\"{data_dir}EEG_raw_df.csv\", index=False)\n",
    "pk.dump(data_dict, open(f\"{data_dir}EEG_raw_dict.pkl\", \"wb\"))"
   ]
  },
  {
   "cell_type": "markdown",
   "metadata": {},
   "source": [
    "## Data exploration and checks"
   ]
  },
  {
   "cell_type": "markdown",
   "metadata": {},
   "source": [
    "### Check number of channels"
   ]
  },
  {
   "cell_type": "code",
   "execution_count": 17,
   "metadata": {},
   "outputs": [],
   "source": [
    "# creation of a list of empty lists\n",
    "ch_lists = [[] for i in range(len(files_highs + files_lows))]\n",
    "\n",
    "# ignore runtime warnings\n",
    "with warnings.catch_warnings():\n",
    "    warnings.simplefilter(action=\"ignore\", category=RuntimeWarning)\n",
    "    # loop through file\n",
    "    for i, file_idx in enumerate(files_highs + files_lows):\n",
    "        # extract data\n",
    "        raw_EEG = mne.io.read_raw_eeglab(file_idx, preload=True, verbose=False)\n",
    "        series = raw_EEG.get_data()\n",
    "\n",
    "        # extract channels\n",
    "        channels = raw_EEG.ch_names\n",
    "\n",
    "        # add channels to the list\n",
    "        ch_lists[i] = channels"
   ]
  },
  {
   "cell_type": "code",
   "execution_count": 18,
   "metadata": {},
   "outputs": [
    {
     "data": {
      "text/html": [
       "<pre style=\"white-space:pre;overflow-x:auto;line-height:normal;font-family:Menlo,'DejaVu Sans Mono',consolas,'Courier New',monospace\">Common channels: \n",
       "<span style=\"font-weight: bold\">[</span><span style=\"color: #008000; text-decoration-color: #008000\">'C3'</span>, <span style=\"color: #008000; text-decoration-color: #008000\">'C4'</span>, <span style=\"color: #008000; text-decoration-color: #008000\">'CZ'</span>, <span style=\"color: #008000; text-decoration-color: #008000\">'F3'</span>, <span style=\"color: #008000; text-decoration-color: #008000\">'F4'</span>, <span style=\"color: #008000; text-decoration-color: #008000\">'F7'</span>, <span style=\"color: #008000; text-decoration-color: #008000\">'F8'</span>, <span style=\"color: #008000; text-decoration-color: #008000\">'FZ'</span>, <span style=\"color: #008000; text-decoration-color: #008000\">'OZ'</span>, <span style=\"color: #008000; text-decoration-color: #008000\">'P3'</span>, <span style=\"color: #008000; text-decoration-color: #008000\">'P4'</span>, <span style=\"color: #008000; text-decoration-color: #008000\">'PO3'</span>, <span style=\"color: #008000; text-decoration-color: #008000\">'PO4'</span>, <span style=\"color: #008000; text-decoration-color: #008000\">'PZ'</span>, <span style=\"color: #008000; text-decoration-color: #008000\">'T7'</span>, <span style=\"color: #008000; text-decoration-color: #008000\">'T8'</span><span style=\"font-weight: bold\">]</span>\n",
       " length:  <span style=\"color: #008080; text-decoration-color: #008080; font-weight: bold\">16</span>\n",
       "</pre>\n"
      ],
      "text/plain": [
       "Common channels: \n",
       "\u001b[1m[\u001b[0m\u001b[32m'C3'\u001b[0m, \u001b[32m'C4'\u001b[0m, \u001b[32m'CZ'\u001b[0m, \u001b[32m'F3'\u001b[0m, \u001b[32m'F4'\u001b[0m, \u001b[32m'F7'\u001b[0m, \u001b[32m'F8'\u001b[0m, \u001b[32m'FZ'\u001b[0m, \u001b[32m'OZ'\u001b[0m, \u001b[32m'P3'\u001b[0m, \u001b[32m'P4'\u001b[0m, \u001b[32m'PO3'\u001b[0m, \u001b[32m'PO4'\u001b[0m, \u001b[32m'PZ'\u001b[0m, \u001b[32m'T7'\u001b[0m, \u001b[32m'T8'\u001b[0m\u001b[1m]\u001b[0m\n",
       " length:  \u001b[1;36m16\u001b[0m\n"
      ]
     },
     "metadata": {},
     "output_type": "display_data"
    }
   ],
   "source": [
    "# intersection between all channels\n",
    "common_channels = sorted(set.intersection(*[set(lst) for lst in ch_lists]))\n",
    "\n",
    "# print common channels\n",
    "if common_channels:\n",
    "    print(\"Common channels: \", common_channels, \" length: \", len(common_channels))\n",
    "else:\n",
    "    print(\"Non ci sono canali in comune tra tutte le liste.\")"
   ]
  },
  {
   "cell_type": "markdown",
   "metadata": {},
   "source": [
    "### Check length of time series"
   ]
  },
  {
   "cell_type": "code",
   "execution_count": 12,
   "metadata": {},
   "outputs": [
    {
     "data": {
      "text/html": [
       "<pre style=\"white-space:pre;overflow-x:auto;line-height:normal;font-family:Menlo,'DejaVu Sans Mono',consolas,'Courier New',monospace\">Min length between time series:  <span style=\"color: #008080; text-decoration-color: #008080; font-weight: bold\">140063</span>\n",
       "</pre>\n"
      ],
      "text/plain": [
       "Min length between time series:  \u001b[1;36m140063\u001b[0m\n"
      ]
     },
     "metadata": {},
     "output_type": "display_data"
    },
    {
     "data": {
      "text/html": [
       "<pre style=\"white-space:pre;overflow-x:auto;line-height:normal;font-family:Menlo,'DejaVu Sans Mono',consolas,'Courier New',monospace\">Min length between time series in time <span style=\"font-weight: bold\">(</span>min<span style=\"font-weight: bold\">)</span>:  <span style=\"color: #008080; text-decoration-color: #008080; font-weight: bold\">18.675066666666666</span>\n",
       "</pre>\n"
      ],
      "text/plain": [
       "Min length between time series in time \u001b[1m(\u001b[0mmin\u001b[1m)\u001b[0m:  \u001b[1;36m18.675066666666666\u001b[0m\n"
      ]
     },
     "metadata": {},
     "output_type": "display_data"
    },
    {
     "data": {
      "text/html": [
       "<pre style=\"white-space:pre;overflow-x:auto;line-height:normal;font-family:Menlo,'DejaVu Sans Mono',consolas,'Courier New',monospace\">Max length between time series:  <span style=\"color: #008080; text-decoration-color: #008080; font-weight: bold\">152318</span>\n",
       "</pre>\n"
      ],
      "text/plain": [
       "Max length between time series:  \u001b[1;36m152318\u001b[0m\n"
      ]
     },
     "metadata": {},
     "output_type": "display_data"
    },
    {
     "data": {
      "text/html": [
       "<pre style=\"white-space:pre;overflow-x:auto;line-height:normal;font-family:Menlo,'DejaVu Sans Mono',consolas,'Courier New',monospace\">Max length between time series in time <span style=\"font-weight: bold\">(</span>min<span style=\"font-weight: bold\">)</span>:  <span style=\"color: #008080; text-decoration-color: #008080; font-weight: bold\">20.309066666666666</span>\n",
       "</pre>\n"
      ],
      "text/plain": [
       "Max length between time series in time \u001b[1m(\u001b[0mmin\u001b[1m)\u001b[0m:  \u001b[1;36m20.309066666666666\u001b[0m\n"
      ]
     },
     "metadata": {},
     "output_type": "display_data"
    },
    {
     "data": {
      "text/html": [
       "<pre style=\"white-space:pre;overflow-x:auto;line-height:normal;font-family:Menlo,'DejaVu Sans Mono',consolas,'Courier New',monospace\">Average length between time series:  <span style=\"color: #008080; text-decoration-color: #008080; font-weight: bold\">145699.73333333334</span>\n",
       "</pre>\n"
      ],
      "text/plain": [
       "Average length between time series:  \u001b[1;36m145699.73333333334\u001b[0m\n"
      ]
     },
     "metadata": {},
     "output_type": "display_data"
    },
    {
     "data": {
      "text/html": [
       "<pre style=\"white-space:pre;overflow-x:auto;line-height:normal;font-family:Menlo,'DejaVu Sans Mono',consolas,'Courier New',monospace\">Average length between time series in time <span style=\"font-weight: bold\">(</span>min<span style=\"font-weight: bold\">)</span>:  <span style=\"color: #008080; text-decoration-color: #008080; font-weight: bold\">19.42663111111111</span>\n",
       "</pre>\n"
      ],
      "text/plain": [
       "Average length between time series in time \u001b[1m(\u001b[0mmin\u001b[1m)\u001b[0m:  \u001b[1;36m19.42663111111111\u001b[0m\n"
      ]
     },
     "metadata": {},
     "output_type": "display_data"
    }
   ],
   "source": [
    "min_length = data_df[\"length\"].min()\n",
    "print(\"Min length between time series: \", min_length)\n",
    "print(\"Min length between time series in time (min): \", min_length / (60 * frequency))\n",
    "\n",
    "max_length = data_df[\"length\"].max()\n",
    "print(\"Max length between time series: \", max_length)\n",
    "print(\"Max length between time series in time (min): \", max_length / (60 * frequency))\n",
    "\n",
    "avg_length = data_df[\"length\"].mean()\n",
    "print(\"Average length between time series: \", avg_length)\n",
    "print(\n",
    "    \"Average length between time series in time (min): \", avg_length / (60 * frequency)\n",
    ")"
   ]
  },
  {
   "cell_type": "code",
   "execution_count": 14,
   "metadata": {},
   "outputs": [
    {
     "data": {
      "text/html": [
       "<pre style=\"white-space:pre;overflow-x:auto;line-height:normal;font-family:Menlo,'DejaVu Sans Mono',consolas,'Courier New',monospace\"></pre>\n"
      ],
      "text/plain": []
     },
     "metadata": {},
     "output_type": "display_data"
    },
    {
     "data": {
      "text/plain": [
       "\u001b[1m<\u001b[0m\u001b[1;95mAxes:\u001b[0m\u001b[39m \u001b[0m\u001b[33mylabel\u001b[0m\u001b[39m=\u001b[0m\u001b[32m'Frequency'\u001b[0m\u001b[1m>\u001b[0m"
      ]
     },
     "execution_count": 14,
     "metadata": {},
     "output_type": "execute_result"
    },
    {
     "data": {
      "text/html": [
       "<pre style=\"white-space:pre;overflow-x:auto;line-height:normal;font-family:Menlo,'DejaVu Sans Mono',consolas,'Courier New',monospace\"></pre>\n"
      ],
      "text/plain": []
     },
     "metadata": {},
     "output_type": "display_data"
    },
    {
     "data": {
      "image/png": "[encoded data removed]",
      "text/plain": [
       "\u001b[1m<\u001b[0m\u001b[1;95mFigure\u001b[0m\u001b[39m size 432x288 with \u001b[0m\u001b[1;36m1\u001b[0m\u001b[39m Axes\u001b[0m\u001b[1m>\u001b[0m"
      ]
     },
     "metadata": {
      "needs_background": "light"
     },
     "output_type": "display_data"
    }
   ],
   "source": [
    "data_df[\"length\"].plot.hist()"
   ]
  }
 ],
 "metadata": {
  "kernelspec": {
   "display_name": "venv_hypno",
   "language": "python",
   "name": "venv_hypno"
  },
  "language_info": {
   "codemirror_mode": {
    "name": "ipython",
    "version": 3
   },
   "file_extension": ".py",
   "mimetype": "text/x-python",
   "name": "python",
   "nbconvert_exporter": "python",
   "pygments_lexer": "ipython3",
   "version": "3.9.19"
  },
  "toc": {
   "base_numbering": 1,
   "nav_menu": {},
   "number_sections": true,
   "sideBar": true,
   "skip_h1_title": false,
   "title_cell": "Table of Contents",
   "title_sidebar": "Contents",
   "toc_cell": false,
   "toc_position": {},
   "toc_section_display": true,
   "toc_window_display": true
  },
  "vscode": {
   "interpreter": {
    "hash": "314029f3f19242a720a9e541280aeb3bc73f0c53a3986a74abd6f51c7de6a597"
   }
  }
 },
 "nbformat": 4,
 "nbformat_minor": 4
}
