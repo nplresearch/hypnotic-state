{
 "cells": [
  {
   "cell_type": "markdown",
   "metadata": {},
   "source": [
    "# Functional connectivity: condition identifiability"
   ]
  },
  {
   "cell_type": "code",
   "execution_count": 1,
   "metadata": {},
   "outputs": [],
   "source": [
    "# import necessary libraries\n",
    "import pickle as pk\n",
    "import warnings\n",
    "from itertools import combinations\n",
    "from pathlib import Path\n",
    "\n",
    "import matplotlib.pyplot as plt\n",
    "import matplotlib.ticker as ticker\n",
    "import numpy as np\n",
    "import pandas as pd\n",
    "import seaborn as sb\n",
    "from rich import inspect, pretty, print\n",
    "from rich.progress import track\n",
    "from scipy.signal import hilbert\n",
    "from scipy.stats import pearsonr\n",
    "from seaborn import heatmap\n",
    "from sklearn.metrics.pairwise import pairwise_distances\n",
    "from tda import windowing\n",
    "from tqdm import tqdm\n",
    "\n",
    "pretty.install()\n",
    "\n",
    "sb.set_theme(style=\"ticks\", context=\"paper\")\n",
    "\n",
    "results_dir = \"../results/functional_connectivity/\"\n",
    "data_dir = \"../data/preprocessing/\"\n",
    "data_out_dir = \"../data/functional_connectivity/\"\n",
    "Path(results_dir).mkdir(parents=True, exist_ok=True)\n",
    "Path(data_dir).mkdir(parents=True, exist_ok=True)\n",
    "Path(data_out_dir).mkdir(parents=True, exist_ok=True)"
   ]
  },
  {
   "cell_type": "markdown",
   "metadata": {},
   "source": [
    "## Load data"
   ]
  },
  {
   "cell_type": "code",
   "execution_count": 2,
   "metadata": {},
   "outputs": [],
   "source": [
    "test_retest_corr = pk.load(open(f\"{data_dir}test_retest_corr.pkl\", \"rb\"))"
   ]
  },
  {
   "cell_type": "code",
   "execution_count": 3,
   "metadata": {},
   "outputs": [],
   "source": [
    "n_windows = 2"
   ]
  },
  {
   "cell_type": "markdown",
   "metadata": {},
   "source": [
    "## Identifiability of conditions"
   ]
  },
  {
   "cell_type": "markdown",
   "metadata": {},
   "source": [
    "### Compute Iself and Iothers (matrices)"
   ]
  },
  {
   "cell_type": "code",
   "execution_count": 5,
   "metadata": {},
   "outputs": [],
   "source": [
    "my_group = \"high\"\n",
    "\n",
    "subject_list_high = []\n",
    "condition_list = []\n",
    "windows = [0, 1]\n",
    "\n",
    "for subject in test_retest_corr[my_group]:\n",
    "    my_subject = subject\n",
    "    subject_list_high.append(my_subject)\n",
    "\n",
    "for condition in test_retest_corr[my_group][my_subject]:\n",
    "    my_condition = condition\n",
    "    condition_list.append(condition)"
   ]
  },
  {
   "cell_type": "code",
   "execution_count": 6,
   "metadata": {},
   "outputs": [],
   "source": [
    "idmatrixhighs_dict = dict()\n",
    "\n",
    "for my_subject in subject_list_high:\n",
    "    idmatrixhighs_dict[my_subject] = dict()\n",
    "\n",
    "    idmatrixhighs = np.zeros((len(condition_list), len(condition_list)))\n",
    "\n",
    "    for i, condition_i in enumerate(condition_list):\n",
    "        FC_i0 = (\n",
    "            test_retest_corr[my_group][my_subject][condition_i][0].to_numpy().flatten()\n",
    "        )\n",
    "\n",
    "        for j, condition_j in enumerate(condition_list):\n",
    "            FC_j1 = (\n",
    "                test_retest_corr[my_group][my_subject][condition_j][1]\n",
    "                .to_numpy()\n",
    "                .flatten()\n",
    "            )\n",
    "            # print(\"finestra2\", m)\n",
    "\n",
    "            if i != j:\n",
    "                idmatrixhighs[i, j] = np.corrcoef(FC_i0, FC_j1)[0, 1]\n",
    "\n",
    "            elif i == j:\n",
    "                idmatrixhighs[i, j] = np.corrcoef(FC_i0, FC_j1)[0, 1]\n",
    "\n",
    "    idmatrixhighs_dict[my_subject][\"idmatrix\"] = idmatrixhighs"
   ]
  },
  {
   "cell_type": "code",
   "execution_count": 7,
   "metadata": {},
   "outputs": [],
   "source": [
    "my_group = \"low\"\n",
    "\n",
    "subject_list_low = []\n",
    "condition_list = []\n",
    "windows = [0, 1]\n",
    "\n",
    "for subject in test_retest_corr[my_group]:\n",
    "    my_subject = subject\n",
    "    subject_list_low.append(my_subject)\n",
    "\n",
    "for condition in test_retest_corr[my_group][my_subject]:\n",
    "    my_condition = condition\n",
    "    condition_list.append(condition)"
   ]
  },
  {
   "cell_type": "code",
   "execution_count": 8,
   "metadata": {},
   "outputs": [],
   "source": [
    "idmatrixlows_dict = dict()\n",
    "\n",
    "for my_subject in subject_list_low:\n",
    "    idmatrixlows_dict[my_subject] = dict()\n",
    "\n",
    "    idmatrixlows = np.zeros((len(condition_list), len(condition_list)))\n",
    "\n",
    "    for i, condition_i in enumerate(condition_list):\n",
    "        FC_i0 = (\n",
    "            test_retest_corr[my_group][my_subject][condition_i][0].to_numpy().flatten()\n",
    "        )\n",
    "\n",
    "        for j, condition_j in enumerate(condition_list):\n",
    "            FC_j1 = (\n",
    "                test_retest_corr[my_group][my_subject][condition_j][1]\n",
    "                .to_numpy()\n",
    "                .flatten()\n",
    "            )\n",
    "            # print(\"finestra2\", m)\n",
    "\n",
    "            if i != j:\n",
    "                idmatrixlows[i, j] = np.corrcoef(FC_i0, FC_j1)[0, 1]\n",
    "\n",
    "            elif i == j:\n",
    "                idmatrixlows[i, j] = np.corrcoef(FC_i0, FC_j1)[0, 1]\n",
    "\n",
    "    idmatrixlows_dict[my_subject][\"idmatrix\"] = idmatrixlows"
   ]
  },
  {
   "cell_type": "markdown",
   "metadata": {},
   "source": [
    "### Compute Idiff"
   ]
  },
  {
   "cell_type": "code",
   "execution_count": 9,
   "metadata": {},
   "outputs": [],
   "source": [
    "idiffs_dict = dict()\n",
    "idiffs_dict[\"high\"] = dict()\n",
    "\n",
    "for my_subject in idmatrixhighs_dict:\n",
    "    idiffs_dict[\"high\"][my_subject] = dict()\n",
    "    idmatrix = idmatrixhighs_dict[my_subject][\"idmatrix\"]\n",
    "    for i, condition_i in enumerate(condition_list):\n",
    "        idiffs_dict[\"high\"][my_subject][condition_i] = dict()\n",
    "\n",
    "        iself_value = idmatrix[i, i]\n",
    "        idiffs_dict[\"high\"][my_subject][condition_i][\"iself\"] = iself_value\n",
    "\n",
    "        iothers_sum = 0.0\n",
    "        for j, condition_j in enumerate(condition_list):\n",
    "            if i != j:\n",
    "                iothers_sum += idmatrix[i, j] + idmatrix[j, i]\n",
    "        iothers_mean = iothers_sum / (2 * (len(condition_list) - 1))\n",
    "        idiffs_dict[\"high\"][my_subject][condition_i][\"iothers\"] = iothers_mean"
   ]
  },
  {
   "cell_type": "code",
   "execution_count": 10,
   "metadata": {},
   "outputs": [],
   "source": [
    "idiffs_dict[\"low\"] = dict()\n",
    "\n",
    "for my_subject in idmatrixlows_dict:\n",
    "    idiffs_dict[\"low\"][my_subject] = dict()\n",
    "    idmatrix = idmatrixlows_dict[my_subject][\"idmatrix\"]\n",
    "    for i, condition_i in enumerate(condition_list):\n",
    "        idiffs_dict[\"low\"][my_subject][condition_i] = dict()\n",
    "\n",
    "        iself_value = idmatrix[i, i]\n",
    "        idiffs_dict[\"low\"][my_subject][condition_i][\"iself\"] = iself_value\n",
    "\n",
    "        iothers_sum = 0.0\n",
    "        for j, condition_j in enumerate(condition_list):\n",
    "            if i != j:\n",
    "                iothers_sum += idmatrix[i, j] + idmatrix[j, i]\n",
    "        iothers_mean = iothers_sum / (2 * (len(condition_list) - 1))\n",
    "        idiffs_dict[\"low\"][my_subject][condition_i][\"iothers\"] = iothers_mean"
   ]
  },
  {
   "cell_type": "code",
   "execution_count": 11,
   "metadata": {},
   "outputs": [],
   "source": [
    "iself_values = []\n",
    "iothers_values = []\n",
    "\n",
    "# Calcolo delle medie\n",
    "for subject in idiffs_dict[\"high\"]:\n",
    "    for condition in idiffs_dict[\"high\"][subject]:\n",
    "        iself_value = idiffs_dict[\"high\"][subject][condition][\"iself\"]\n",
    "        iothers_value = idiffs_dict[\"high\"][subject][condition][\"iothers\"]\n",
    "\n",
    "        iself_values.append(iself_value)\n",
    "        iothers_values.append(iothers_value)\n",
    "\n",
    "    # Calcolo delle medie complessive\n",
    "    iself_mean = np.mean(iself_values)\n",
    "    iothers_mean = np.mean(iothers_values)\n",
    "\n",
    "    # Calcolo della differenza\n",
    "    idiff = iself_mean - iothers_mean\n",
    "\n",
    "    idiffs_dict[\"high\"][subject][\"idiff\"] = idiff"
   ]
  },
  {
   "cell_type": "code",
   "execution_count": 12,
   "metadata": {},
   "outputs": [],
   "source": [
    "iself_values = []\n",
    "iothers_values = []\n",
    "\n",
    "# Calcolo delle medie\n",
    "for subject in idiffs_dict[\"low\"]:\n",
    "    for condition in idiffs_dict[\"low\"][subject]:\n",
    "        iself_value = idiffs_dict[\"low\"][subject][condition][\"iself\"]\n",
    "        iothers_value = idiffs_dict[\"low\"][subject][condition][\"iothers\"]\n",
    "\n",
    "        iself_values.append(iself_value)\n",
    "        iothers_values.append(iothers_value)\n",
    "\n",
    "    # Calcolo delle medie complessive\n",
    "    iself_mean = np.mean(iself_values)\n",
    "    iothers_mean = np.mean(iothers_values)\n",
    "\n",
    "    # Calcolo della differenza\n",
    "    idiff = iself_mean - iothers_mean\n",
    "\n",
    "    idiffs_dict[\"low\"][subject][\"idiff\"] = idiff"
   ]
  },
  {
   "cell_type": "markdown",
   "metadata": {},
   "source": [
    "### Draw identifiability matrix per subject per group"
   ]
  },
  {
   "cell_type": "code",
   "execution_count": 13,
   "metadata": {},
   "outputs": [
    {
     "data": {
      "text/html": [
       "<pre style=\"white-space:pre;overflow-x:auto;line-height:normal;font-family:Menlo,'DejaVu Sans Mono',consolas,'Courier New',monospace\"></pre>\n"
      ],
      "text/plain": []
     },
     "metadata": {},
     "output_type": "display_data"
    },
    {
     "data": {
      "image/png": "[encoded data removed]",
      "text/plain": [
       "\u001b[1m<\u001b[0m\u001b[1;95mFigure\u001b[0m\u001b[39m size 504x288 with \u001b[0m\u001b[1;36m16\u001b[0m\u001b[39m Axes\u001b[0m\u001b[1m>\u001b[0m"
      ]
     },
     "metadata": {
      "needs_background": "light"
     },
     "output_type": "display_data"
    }
   ],
   "source": [
    "cmap = sb.color_palette(\"light:b\", as_cmap=True)\n",
    "\n",
    "fig, axs = plt.subplots(\n",
    "    3, 5, figsize=(7, 4), sharey=True, sharex=True\n",
    ")  # layout=\"constrained\")\n",
    "\n",
    "for i, subject in enumerate(subject_list_high):\n",
    "\n",
    "    ax = axs.flat[i]\n",
    "\n",
    "    sb.heatmap(\n",
    "        idmatrixhighs_dict[subject][\"idmatrix\"],\n",
    "        cmap=cmap,\n",
    "        cbar=False,\n",
    "        square=True,\n",
    "        vmin=0.6,  # Sostituisci con il valore minimo desiderato\n",
    "        vmax=1,\n",
    "        xticklabels=condition_list,  # subject_list_high,\n",
    "        yticklabels=condition_list,  # subject_list_high,\n",
    "        ax=ax,\n",
    "    )\n",
    "\n",
    "    # print(idmatrixhighs_dict[subject][\"idmatrix\"].max())\n",
    "    # print(idmatrixhighs_dict[subject][\"idmatrix\"].min())\n",
    "\n",
    "    idiff = idiffs_dict[\"high\"][subject][\"idiff\"]\n",
    "    title = f\"Highs {subject}, Idiff: {idiff:.3f}\"\n",
    "    ax.set_title(subject, style=\"italic\")\n",
    "\n",
    "    t = ax.text(\n",
    "        0.95,\n",
    "        0.95,\n",
    "        f\"Idiff: {idiff:.2f}\",\n",
    "        va=\"top\",\n",
    "        ha=\"right\",\n",
    "        transform=ax.transAxes,\n",
    "        color=\"w\",\n",
    "    )\n",
    "    t.set_bbox(dict(facecolor=\"grey\", alpha=0.5, boxstyle=\"round,pad=0.2\"))\n",
    "\n",
    "for ax in axs[:, 0]:\n",
    "    ax.set_ylabel(\"Condition i\")\n",
    "for ax in axs[-1, :]:\n",
    "    ax.set_xlabel(\"Condition j\")\n",
    "\n",
    "title = \"Identifiability matrix: highs\"\n",
    "plt.suptitle(title)\n",
    "plt.subplots_adjust(top=0.85, hspace=0.4, wspace=0.2)\n",
    "\n",
    "fig.colorbar(ax.get_children()[0], ax=axs[:, -1], shrink=0.5)  # , ticks=[0, 0.5, 1])\n",
    "\n",
    "fig_name = f\"FC_condition_idiff_matrix_highs_{n_windows}_windows\"\n",
    "plt.savefig(f\"{results_dir}{fig_name}.png\", facecolor=\"w\", dpi=250, bbox_inches=\"tight\")\n",
    "\n",
    "plt.show()"
   ]
  },
  {
   "cell_type": "code",
   "execution_count": 14,
   "metadata": {},
   "outputs": [
    {
     "data": {
      "text/html": [
       "<pre style=\"white-space:pre;overflow-x:auto;line-height:normal;font-family:Menlo,'DejaVu Sans Mono',consolas,'Courier New',monospace\"></pre>\n"
      ],
      "text/plain": []
     },
     "metadata": {},
     "output_type": "display_data"
    },
    {
     "data": {
      "image/png": "[encoded data removed]",
      "text/plain": [
       "\u001b[1m<\u001b[0m\u001b[1;95mFigure\u001b[0m\u001b[39m size 504x288 with \u001b[0m\u001b[1;36m16\u001b[0m\u001b[39m Axes\u001b[0m\u001b[1m>\u001b[0m"
      ]
     },
     "metadata": {
      "needs_background": "light"
     },
     "output_type": "display_data"
    }
   ],
   "source": [
    "cmap = sb.color_palette(\"light:b\", as_cmap=True)\n",
    "\n",
    "fig, axs = plt.subplots(\n",
    "    3, 5, figsize=(7, 4), sharey=True, sharex=True\n",
    ")  # layout=\"constrained\")\n",
    "\n",
    "for i, subject in enumerate(subject_list_low):\n",
    "\n",
    "    ax = axs.flat[i]\n",
    "\n",
    "    sb.heatmap(\n",
    "        idmatrixlows_dict[subject][\"idmatrix\"],\n",
    "        cmap=cmap,\n",
    "        cbar=False,\n",
    "        square=True,\n",
    "        vmin=0.6,  # Sostituisci con il valore minimo desiderato\n",
    "        vmax=1,\n",
    "        xticklabels=condition_list,  # subject_list_high,\n",
    "        yticklabels=condition_list,  # subject_list_high,\n",
    "        ax=ax,\n",
    "    )\n",
    "\n",
    "    # print(idmatrixlows_dict[subject][\"idmatrix\"].max())\n",
    "    # print(idmatrixlows_dict[subject][\"idmatrix\"].min())\n",
    "\n",
    "    idiff = idiffs_dict[\"low\"][subject][\"idiff\"]\n",
    "    title = f\"Lows {subject}, Idiff: {idiff:.3f}\"\n",
    "    ax.set_title(subject, style=\"italic\")\n",
    "\n",
    "    t = ax.text(\n",
    "        0.95,\n",
    "        0.95,\n",
    "        f\"Idiff: {idiff:.2f}\",\n",
    "        va=\"top\",\n",
    "        ha=\"right\",\n",
    "        transform=ax.transAxes,\n",
    "        color=\"w\",\n",
    "    )\n",
    "    t.set_bbox(dict(facecolor=\"grey\", alpha=0.5, boxstyle=\"round,pad=0.2\"))\n",
    "\n",
    "for ax in axs[:, 0]:\n",
    "    ax.set_ylabel(\"Condition i\")\n",
    "for ax in axs[-1, :]:\n",
    "    ax.set_xlabel(\"Condition j\")\n",
    "\n",
    "title = \"Identifiability matrix: lows\"\n",
    "plt.suptitle(title)\n",
    "plt.subplots_adjust(top=0.85, hspace=0.4, wspace=0.2)\n",
    "\n",
    "fig.colorbar(ax.get_children()[0], ax=axs[:, -1], shrink=0.5)  # , ticks=[0, 0.5, 1])\n",
    "\n",
    "fig_name = f\"FC_condition_idiff_matrix_lows_{n_windows}_windows\"\n",
    "plt.savefig(f\"{results_dir}{fig_name}.png\", facecolor=\"w\", dpi=250, bbox_inches=\"tight\")\n",
    "\n",
    "plt.show()"
   ]
  },
  {
   "cell_type": "markdown",
   "metadata": {},
   "source": [
    "### Identifiability averaged over subjects in group"
   ]
  },
  {
   "cell_type": "code",
   "execution_count": 15,
   "metadata": {},
   "outputs": [],
   "source": [
    "# Inizializza la matrice media con zeri\n",
    "mean_matrix_highs = np.zeros((len(condition_list), len(condition_list)))\n",
    "\n",
    "# Conta il numero di matrici\n",
    "num_matrices = len(idmatrixhighs_dict)\n",
    "\n",
    "# Somma le matrici\n",
    "for subject in idmatrixhighs_dict:\n",
    "    idmatrix = idmatrixhighs_dict[subject][\"idmatrix\"]\n",
    "    mean_matrix_highs += idmatrix\n",
    "\n",
    "mean_idiff_high = np.mean(\n",
    "    [idiffs_dict[\"high\"][subject][\"idiff\"] for subject in idmatrixhighs_dict]\n",
    ")\n",
    "# Calcola la media dividendo per il numero di matrici\n",
    "mean_matrix_highs /= num_matrices"
   ]
  },
  {
   "cell_type": "code",
   "execution_count": 16,
   "metadata": {},
   "outputs": [],
   "source": [
    "# Inizializza la matrice media con zeri\n",
    "mean_matrix_lows = np.zeros((len(condition_list), len(condition_list)))\n",
    "\n",
    "# Conta il numero di matrici\n",
    "num_matrices = len(idmatrixlows_dict)\n",
    "\n",
    "# Somma le matrici\n",
    "for subject in idmatrixlows_dict:\n",
    "    idmatrix = idmatrixlows_dict[subject][\"idmatrix\"]\n",
    "    mean_matrix_lows += idmatrix\n",
    "\n",
    "mean_idiff_low = np.mean(\n",
    "    [idiffs_dict[\"low\"][subject][\"idiff\"] for subject in idmatrixlows_dict]\n",
    ")\n",
    "# Calcola la media dividendo per il numero di matrici\n",
    "mean_matrix_lows /= num_matrices"
   ]
  },
  {
   "cell_type": "code",
   "execution_count": 17,
   "metadata": {},
   "outputs": [
    {
     "data": {
      "text/html": [
       "<pre style=\"white-space:pre;overflow-x:auto;line-height:normal;font-family:Menlo,'DejaVu Sans Mono',consolas,'Courier New',monospace\"></pre>\n"
      ],
      "text/plain": []
     },
     "metadata": {},
     "output_type": "display_data"
    },
    {
     "data": {
      "image/png": "[encoded data removed]",
      "text/plain": [
       "\u001b[1m<\u001b[0m\u001b[1;95mFigure\u001b[0m\u001b[39m size 216x144 with \u001b[0m\u001b[1;36m3\u001b[0m\u001b[39m Axes\u001b[0m\u001b[1m>\u001b[0m"
      ]
     },
     "metadata": {
      "needs_background": "light"
     },
     "output_type": "display_data"
    }
   ],
   "source": [
    "fig, (ax1, ax2) = plt.subplots(1, 2, sharey=True, figsize=(3, 2), layout=\"constrained\")\n",
    "\n",
    "\n",
    "sb.heatmap(\n",
    "    mean_matrix_highs,\n",
    "    cmap=cmap,\n",
    "    cbar=False,\n",
    "    square=True,\n",
    "    vmin=0.6,  # Sostituisci con il valore minimo desiderato\n",
    "    vmax=1,\n",
    "    ax=ax1,\n",
    "    xticklabels=condition_list,  # subject_list_high,\n",
    "    yticklabels=condition_list,\n",
    ")\n",
    "\n",
    "ax1.set_title(\"Highs\", style=\"italic\")\n",
    "\n",
    "t = ax1.text(\n",
    "    0.95,\n",
    "    0.95,\n",
    "    f\"Idiff: {mean_idiff_high:.3f}\",\n",
    "    va=\"top\",\n",
    "    ha=\"right\",\n",
    "    transform=ax1.transAxes,\n",
    "    color=\"w\",\n",
    ")\n",
    "t.set_bbox(dict(facecolor=\"grey\", alpha=0.5, boxstyle=\"round,pad=0.2\"))\n",
    "\n",
    "\n",
    "sb.heatmap(\n",
    "    mean_matrix_lows,\n",
    "    cmap=cmap,\n",
    "    cbar=True,\n",
    "    square=True,\n",
    "    vmin=0.6,  # Sostituisci con il valore minimo desiderato\n",
    "    vmax=1,\n",
    "    ax=ax2,\n",
    "    cbar_kws=dict(shrink=0.5),\n",
    "    xticklabels=condition_list,  # subject_list_high,\n",
    "    yticklabels=condition_list,\n",
    ")\n",
    "\n",
    "ax2.set_title(\"Lows\", style=\"italic\")\n",
    "\n",
    "t = ax2.text(\n",
    "    0.95,\n",
    "    0.95,\n",
    "    f\"Idiff: {mean_idiff_low:.3f}\",\n",
    "    va=\"top\",\n",
    "    ha=\"right\",\n",
    "    transform=ax2.transAxes,\n",
    "    color=\"w\",\n",
    ")\n",
    "t.set_bbox(dict(facecolor=\"grey\", alpha=0.5, boxstyle=\"round,pad=0.2\"))\n",
    "\n",
    "\n",
    "title = f\"Identifiability matrix: {condition}\"\n",
    "plt.suptitle(title)\n",
    "# plt.subplots_adjust(top=0.85)\n",
    "\n",
    "ax1.set_ylabel(\"Condition i\")\n",
    "ax1.set_xlabel(\"Condition j\")\n",
    "ax2.set_xlabel(\"Condition j\")\n",
    "\n",
    "title = \"Avg identifiability matrix\"\n",
    "plt.suptitle(title)\n",
    "\n",
    "fig_name = f\"FC_condition_idiff_matrix_avg_highlow_{n_windows}_windows\"\n",
    "plt.savefig(f\"{results_dir}{fig_name}.png\", facecolor=\"w\", dpi=250, bbox_inches=\"tight\")\n",
    "\n",
    "\n",
    "plt.show()\n",
    "# plt.close()"
   ]
  },
  {
   "cell_type": "markdown",
   "metadata": {},
   "source": [
    "## Viz Idiff distributions"
   ]
  },
  {
   "cell_type": "code",
   "execution_count": 18,
   "metadata": {},
   "outputs": [],
   "source": [
    "idiff_distribution = dict()\n",
    "\n",
    "idiff_distribution[\"high\"] = dict()\n",
    "\n",
    "for subject in subject_list_high:\n",
    "    idiff_distribution[\"high\"][subject] = dict()\n",
    "\n",
    "    idmatrix_highs = idmatrixhighs_dict[subject][\"idmatrix\"]\n",
    "\n",
    "    for i, condition_i in enumerate(condition_list):\n",
    "        idiff_i = idmatrix_highs[i, i] - np.mean(np.delete(idmatrix_highs[i, :], i))\n",
    "        idiff_distribution[\"high\"][subject][condition_i] = idiff_i"
   ]
  },
  {
   "cell_type": "code",
   "execution_count": 19,
   "metadata": {},
   "outputs": [],
   "source": [
    "idiff_distribution[\"low\"] = dict()\n",
    "\n",
    "for subject in subject_list_low:\n",
    "    idiff_distribution[\"low\"][subject] = dict()\n",
    "\n",
    "    idmatrix_lows = idmatrixlows_dict[subject][\"idmatrix\"]\n",
    "\n",
    "    for i, condition_i in enumerate(condition_list):\n",
    "        idiff_i = idmatrix_lows[i, i] - np.mean(np.delete(idmatrix_lows[i, :], i))\n",
    "        idiff_distribution[\"low\"][subject][condition_i] = idiff_i"
   ]
  },
  {
   "cell_type": "code",
   "execution_count": 20,
   "metadata": {},
   "outputs": [],
   "source": [
    "data = []\n",
    "\n",
    "for group, subjects in idiff_distribution.items():\n",
    "    for subject, conditions in subjects.items():\n",
    "        for condition, idiff_i in conditions.items():\n",
    "            data.append(\n",
    "                {\n",
    "                    \"Group\": group,\n",
    "                    \"Subject\": subject,\n",
    "                    \"Condition\": condition,\n",
    "                    \"Data\": idiff_i,\n",
    "                }\n",
    "            )\n",
    "\n",
    "# Crea un DataFrame con le distribuzioni\n",
    "df = pd.DataFrame(data)"
   ]
  },
  {
   "cell_type": "code",
   "execution_count": 21,
   "metadata": {},
   "outputs": [
    {
     "data": {
      "text/html": [
       "<pre style=\"white-space:pre;overflow-x:auto;line-height:normal;font-family:Menlo,'DejaVu Sans Mono',consolas,'Courier New',monospace\"></pre>\n"
      ],
      "text/plain": []
     },
     "metadata": {},
     "output_type": "display_data"
    },
    {
     "data": {
      "text/html": [
       "<div>\n",
       "<style scoped>\n",
       "    .dataframe tbody tr th:only-of-type {\n",
       "        vertical-align: middle;\n",
       "    }\n",
       "\n",
       "    .dataframe tbody tr th {\n",
       "        vertical-align: top;\n",
       "    }\n",
       "\n",
       "    .dataframe thead th {\n",
       "        text-align: right;\n",
       "    }\n",
       "</style>\n",
       "<table border=\"1\" class=\"dataframe\">\n",
       "  <thead>\n",
       "    <tr style=\"text-align: right;\">\n",
       "      <th></th>\n",
       "      <th>Group</th>\n",
       "      <th>Subject</th>\n",
       "      <th>Condition</th>\n",
       "      <th>Data</th>\n",
       "    </tr>\n",
       "  </thead>\n",
       "  <tbody>\n",
       "    <tr>\n",
       "      <th>0</th>\n",
       "      <td>high</td>\n",
       "      <td>01</td>\n",
       "      <td>ROE</td>\n",
       "      <td>0.035411</td>\n",
       "    </tr>\n",
       "    <tr>\n",
       "      <th>1</th>\n",
       "      <td>high</td>\n",
       "      <td>01</td>\n",
       "      <td>RCE</td>\n",
       "      <td>0.012345</td>\n",
       "    </tr>\n",
       "    <tr>\n",
       "      <th>2</th>\n",
       "      <td>high</td>\n",
       "      <td>01</td>\n",
       "      <td>IND1</td>\n",
       "      <td>0.017735</td>\n",
       "    </tr>\n",
       "    <tr>\n",
       "      <th>3</th>\n",
       "      <td>high</td>\n",
       "      <td>01</td>\n",
       "      <td>IND2</td>\n",
       "      <td>0.020411</td>\n",
       "    </tr>\n",
       "    <tr>\n",
       "      <th>4</th>\n",
       "      <td>high</td>\n",
       "      <td>01</td>\n",
       "      <td>NH</td>\n",
       "      <td>0.014589</td>\n",
       "    </tr>\n",
       "    <tr>\n",
       "      <th>...</th>\n",
       "      <td>...</td>\n",
       "      <td>...</td>\n",
       "      <td>...</td>\n",
       "      <td>...</td>\n",
       "    </tr>\n",
       "    <tr>\n",
       "      <th>175</th>\n",
       "      <td>low</td>\n",
       "      <td>31</td>\n",
       "      <td>RCE</td>\n",
       "      <td>0.004894</td>\n",
       "    </tr>\n",
       "    <tr>\n",
       "      <th>176</th>\n",
       "      <td>low</td>\n",
       "      <td>31</td>\n",
       "      <td>IND1</td>\n",
       "      <td>-0.019832</td>\n",
       "    </tr>\n",
       "    <tr>\n",
       "      <th>177</th>\n",
       "      <td>low</td>\n",
       "      <td>31</td>\n",
       "      <td>IND2</td>\n",
       "      <td>0.009199</td>\n",
       "    </tr>\n",
       "    <tr>\n",
       "      <th>178</th>\n",
       "      <td>low</td>\n",
       "      <td>31</td>\n",
       "      <td>NH</td>\n",
       "      <td>-0.008563</td>\n",
       "    </tr>\n",
       "    <tr>\n",
       "      <th>179</th>\n",
       "      <td>low</td>\n",
       "      <td>31</td>\n",
       "      <td>POST</td>\n",
       "      <td>-0.033700</td>\n",
       "    </tr>\n",
       "  </tbody>\n",
       "</table>\n",
       "<p>180 rows × 4 columns</p>\n",
       "</div>"
      ],
      "text/plain": [
       "\n",
       "    Group Subject Condition      Data\n",
       "\u001b[1;36m0\u001b[0m    high      \u001b[1;36m01\u001b[0m       ROE  \u001b[1;36m0.035411\u001b[0m\n",
       "\u001b[1;36m1\u001b[0m    high      \u001b[1;36m01\u001b[0m       RCE  \u001b[1;36m0.012345\u001b[0m\n",
       "\u001b[1;36m2\u001b[0m    high      \u001b[1;36m01\u001b[0m      IND1  \u001b[1;36m0.017735\u001b[0m\n",
       "\u001b[1;36m3\u001b[0m    high      \u001b[1;36m01\u001b[0m      IND2  \u001b[1;36m0.020411\u001b[0m\n",
       "\u001b[1;36m4\u001b[0m    high      \u001b[1;36m01\u001b[0m        NH  \u001b[1;36m0.014589\u001b[0m\n",
       "..    \u001b[33m...\u001b[0m     \u001b[33m...\u001b[0m       \u001b[33m...\u001b[0m       \u001b[33m...\u001b[0m\n",
       "\u001b[1;36m175\u001b[0m   low      \u001b[1;36m31\u001b[0m       RCE  \u001b[1;36m0.004894\u001b[0m\n",
       "\u001b[1;36m176\u001b[0m   low      \u001b[1;36m31\u001b[0m      IND1 \u001b[1;36m-0.019832\u001b[0m\n",
       "\u001b[1;36m177\u001b[0m   low      \u001b[1;36m31\u001b[0m      IND2  \u001b[1;36m0.009199\u001b[0m\n",
       "\u001b[1;36m178\u001b[0m   low      \u001b[1;36m31\u001b[0m        NH \u001b[1;36m-0.008563\u001b[0m\n",
       "\u001b[1;36m179\u001b[0m   low      \u001b[1;36m31\u001b[0m      POST \u001b[1;36m-0.033700\u001b[0m\n",
       "\n",
       "\u001b[1m[\u001b[0m\u001b[1;36m180\u001b[0m rows x \u001b[1;36m4\u001b[0m columns\u001b[1m]\u001b[0m"
      ]
     },
     "execution_count": 21,
     "metadata": {},
     "output_type": "execute_result"
    }
   ],
   "source": [
    "df"
   ]
  },
  {
   "cell_type": "code",
   "execution_count": 22,
   "metadata": {},
   "outputs": [
    {
     "name": "stderr",
     "output_type": "stream",
     "text": [
      "/Users/maxime/.pyenv/versions/venv_hypno/lib/python3.9/site-packages/seaborn/categorical.py:166: FutureWarning: Setting a gradient palette using color= is deprecated and will be removed in version 0.13. Set `palette='dark:grey'` for same effect.\n",
      "  warnings.warn(msg, FutureWarning)\n"
     ]
    },
    {
     "data": {
      "text/html": [
       "<pre style=\"white-space:pre;overflow-x:auto;line-height:normal;font-family:Menlo,'DejaVu Sans Mono',consolas,'Courier New',monospace\"></pre>\n"
      ],
      "text/plain": []
     },
     "metadata": {},
     "output_type": "display_data"
    },
    {
     "data": {
      "image/png": "[encoded data removed]",
      "text/plain": [
       "\u001b[1m<\u001b[0m\u001b[1;95mFigure\u001b[0m\u001b[39m size 216x144 with \u001b[0m\u001b[1;36m1\u001b[0m\u001b[39m Axes\u001b[0m\u001b[1m>\u001b[0m"
      ]
     },
     "metadata": {
      "needs_background": "light"
     },
     "output_type": "display_data"
    }
   ],
   "source": [
    "fig, ax = plt.subplots(figsize=(3, 2))\n",
    "\n",
    "sb.boxplot(x=\"Condition\", y=\"Data\", data=df, hue=\"Group\")\n",
    "sb.stripplot(\n",
    "    x=\"Condition\",\n",
    "    y=\"Data\",\n",
    "    data=df,\n",
    "    hue=\"Group\",\n",
    "    dodge=True,\n",
    "    legend=False,\n",
    "    alpha=0.4,\n",
    "    color=\"grey\",\n",
    ")\n",
    "\n",
    "sb.move_legend(ax, bbox_to_anchor=(1, 0.5), loc=\"center left\", frameon=False)\n",
    "\n",
    "ax.set_ylabel(\"Idiff\")\n",
    "\n",
    "sb.despine()\n",
    "\n",
    "fig_name = f\"FC_condition_idiff_distrib_{n_windows}_windows\"\n",
    "plt.savefig(f\"{results_dir}{fig_name}.png\", facecolor=\"w\", dpi=250, bbox_inches=\"tight\")"
   ]
  },
  {
   "cell_type": "code",
   "execution_count": 23,
   "metadata": {},
   "outputs": [
    {
     "name": "stdout",
     "output_type": "stream",
     "text": [
      "p-value annotation legend:\n",
      "      ns: p <= 1.00e+00\n",
      "       *: 1.00e-02 < p <= 5.00e-02\n",
      "      **: 1.00e-03 < p <= 1.00e-02\n",
      "     ***: 1.00e-04 < p <= 1.00e-03\n",
      "    ****: p <= 1.00e-04\n",
      "\n",
      "RCE_high vs. RCE_low: Wilcoxon test (paired samples), P_val:6.788e-01 Stat=5.200e+01\n",
      "ROE_high vs. ROE_low: Wilcoxon test (paired samples), P_val:8.040e-01 Stat=5.500e+01\n",
      "IND1_high vs. IND1_low: Wilcoxon test (paired samples), P_val:8.904e-01 Stat=5.700e+01\n",
      "IND2_high vs. IND2_low: Wilcoxon test (paired samples), P_val:5.995e-01 Stat=5.000e+01\n",
      "NH_high vs. NH_low: Wilcoxon test (paired samples), P_val:6.788e-01 Stat=5.200e+01\n",
      "POST_high vs. POST_low: Wilcoxon test (paired samples), P_val:8.040e-01 Stat=5.500e+01\n"
     ]
    },
    {
     "data": {
      "text/html": [
       "<pre style=\"white-space:pre;overflow-x:auto;line-height:normal;font-family:Menlo,'DejaVu Sans Mono',consolas,'Courier New',monospace\"></pre>\n"
      ],
      "text/plain": []
     },
     "metadata": {},
     "output_type": "display_data"
    },
    {
     "data": {
      "image/png": "[encoded data removed]",
      "text/plain": [
       "\u001b[1m<\u001b[0m\u001b[1;95mFigure\u001b[0m\u001b[39m size \u001b[0m\u001b[1;36m244.\u001b[0m\u001b[39m8x144 with \u001b[0m\u001b[1;36m1\u001b[0m\u001b[39m Axes\u001b[0m\u001b[1m>\u001b[0m"
      ]
     },
     "metadata": {
      "needs_background": "light"
     },
     "output_type": "display_data"
    }
   ],
   "source": [
    "fig, ax = plt.subplots(figsize=(3.4, 2))\n",
    "\n",
    "order = [(\"ROE\"), (\"RCE\"), (\"IND1\"), (\"IND2\"), (\"NH\"), (\"POST\")]\n",
    "\n",
    "\n",
    "# Crea un barplot delle distribuzioni\n",
    "sb.barplot(x=\"Condition\", y=\"Data\", data=df, hue=\"Group\")\n",
    "\n",
    "# Titolo del grafico\n",
    "# plt.title(\"Idiff distribuition\")\n",
    "\n",
    "var = order\n",
    "pairs1 = [[(i, \"high\"), (i, \"low\")] for i in var]\n",
    "# pairs2 = [[(i, \"low\"), (j, \"low\")] for i, j in combinations([\"ROE\", \"RCE\", \"NH\"], 2)]\n",
    "pairs3 = [[(i, \"high\"), (j, \"high\")] for i, j in combinations([\"ROE\", \"RCE\", \"NH\"], 2)]\n",
    "\n",
    "pairs = pairs1  # + pairs3\n",
    "\n",
    "from statannotations.Annotator import Annotator\n",
    "\n",
    "annotator = Annotator(\n",
    "    ax,\n",
    "    pairs,\n",
    "    data=df,\n",
    "    x=\"Condition\",\n",
    "    y=\"Data\",\n",
    "    hue=\"Group\",\n",
    "    order=order,\n",
    "    hue_order=[\"high\", \"low\"],\n",
    ")\n",
    "annotator.configure(test=\"Wilcoxon\", text_format=\"star\", loc=\"inside\")\n",
    "annotator.apply_and_annotate()\n",
    "\n",
    "sb.move_legend(ax, bbox_to_anchor=(1, 0.5), loc=\"center left\", frameon=False)\n",
    "\n",
    "ax.set_ylabel(\"IDiff\")\n",
    "\n",
    "sb.despine()\n",
    "\n",
    "fig_name = f\"FC_condition_idiff_distrib_barplots_{n_windows}_windows\"\n",
    "plt.savefig(f\"{results_dir}{fig_name}.png\", facecolor=\"w\", dpi=250, bbox_inches=\"tight\")\n",
    "\n",
    "\n",
    "plt.show()"
   ]
  },
  {
   "cell_type": "code",
   "execution_count": 27,
   "metadata": {},
   "outputs": [],
   "source": [
    "df.to_csv(f\"{data_out_dir}FC_idiff_per_condition.csv\", index=False)"
   ]
  },
  {
   "cell_type": "code",
   "execution_count": null,
   "metadata": {},
   "outputs": [],
   "source": []
  },
  {
   "cell_type": "code",
   "execution_count": 73,
   "metadata": {},
   "outputs": [
    {
     "name": "stdout",
     "output_type": "stream",
     "text": [
      "p-value annotation legend:\n",
      "      ns: p <= 1.00e+00\n",
      "       *: 1.00e-02 < p <= 5.00e-02\n",
      "      **: 1.00e-03 < p <= 1.00e-02\n",
      "     ***: 1.00e-04 < p <= 1.00e-03\n",
      "    ****: p <= 1.00e-04\n",
      "\n",
      "high vs. low: Wilcoxon test (paired samples), P_val:7.158e-01 Stat=1.957e+03\n"
     ]
    },
    {
     "data": {
      "text/html": [
       "<pre style=\"white-space:pre;overflow-x:auto;line-height:normal;font-family:Menlo,'DejaVu Sans Mono',consolas,'Courier New',monospace\"></pre>\n"
      ],
      "text/plain": []
     },
     "metadata": {},
     "output_type": "display_data"
    },
    {
     "data": {
      "image/png": "[encoded data removed]",
      "text/plain": [
       "\u001b[1m<\u001b[0m\u001b[1;95mFigure\u001b[0m\u001b[39m size \u001b[0m\u001b[1;36m244.\u001b[0m\u001b[39m8x144 with \u001b[0m\u001b[1;36m1\u001b[0m\u001b[39m Axes\u001b[0m\u001b[1m>\u001b[0m"
      ]
     },
     "metadata": {
      "needs_background": "light"
     },
     "output_type": "display_data"
    }
   ],
   "source": [
    "fig, ax = plt.subplots(figsize=(3.4, 2))\n",
    "\n",
    "# Crea un barplot delle distribuzioni\n",
    "sb.barplot(x=\"Group\", y=\"Data\", data=df)\n",
    "# sb.stripplot(x='Group', y='Data', data=df, dodge=True, color=\"k\")\n",
    "\n",
    "from statannotations.Annotator import Annotator\n",
    "\n",
    "annotator = Annotator(ax, pairs=[(\"high\", \"low\")], data=df, x=\"Group\", y=\"Data\")\n",
    "annotator.test = \"Wilcoxon\"\n",
    "annotator.loc = \"inside\"\n",
    "annotator.text_format = \"star\"\n",
    "annotator.apply_and_annotate()\n",
    "\n",
    "# Titolo del grafico\n",
    "# plt.title(\"Idiff distribuition\")\n",
    "ax.set_ylabel(\"IDiff\")\n",
    "sb.despine()\n",
    "\n",
    "fig_name = f\"FC_condition_idiff_distrib_barplots_grouped_{n_windows}_windows\"\n",
    "plt.savefig(f\"{results_dir}{fig_name}.png\", facecolor=\"w\", dpi=250, bbox_inches=\"tight\")\n",
    "\n",
    "plt.show()"
   ]
  },
  {
   "cell_type": "code",
   "execution_count": null,
   "metadata": {},
   "outputs": [],
   "source": []
  }
 ],
 "metadata": {
  "kernelspec": {
   "display_name": "venv_hypno",
   "language": "python",
   "name": "venv_hypno"
  },
  "language_info": {
   "codemirror_mode": {
    "name": "ipython",
    "version": 3
   },
   "file_extension": ".py",
   "mimetype": "text/x-python",
   "name": "python",
   "nbconvert_exporter": "python",
   "pygments_lexer": "ipython3",
   "version": "3.9.19"
  },
  "toc": {
   "base_numbering": 1,
   "nav_menu": {},
   "number_sections": true,
   "sideBar": true,
   "skip_h1_title": false,
   "title_cell": "Table of Contents",
   "title_sidebar": "Contents",
   "toc_cell": false,
   "toc_position": {},
   "toc_section_display": true,
   "toc_window_display": true
  }
 },
 "nbformat": 4,
 "nbformat_minor": 4
}
