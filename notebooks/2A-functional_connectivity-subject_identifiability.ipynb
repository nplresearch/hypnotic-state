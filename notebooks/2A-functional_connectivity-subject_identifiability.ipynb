{
 "cells": [
  {
   "cell_type": "markdown",
   "metadata": {},
   "source": [
    "# Functional connectivity: identifiability of subjects"
   ]
  },
  {
   "cell_type": "code",
   "execution_count": 1,
   "metadata": {},
   "outputs": [],
   "source": [
    "# import necessary libraries\n",
    "import pickle as pk\n",
    "from itertools import combinations\n",
    "from pathlib import Path\n",
    "\n",
    "import matplotlib.pyplot as plt\n",
    "import numpy as np\n",
    "import pandas as pd\n",
    "import seaborn as sb\n",
    "from rich import pretty\n",
    "from rich.progress import track\n",
    "from tda import windowing\n",
    "from tqdm import tqdm\n",
    "\n",
    "pretty.install()\n",
    "\n",
    "sb.set_theme(style=\"ticks\", context=\"paper\")\n",
    "\n",
    "results_dir = \"../results/functional_connectivity/\"\n",
    "data_dir = \"../data/preprocessing/\"\n",
    "data_out_dir = \"../data/functional_connectivity/\"\n",
    "Path(results_dir).mkdir(parents=True, exist_ok=True)\n",
    "Path(data_dir).mkdir(parents=True, exist_ok=True)\n",
    "Path(data_out_dir).mkdir(parents=True, exist_ok=True)"
   ]
  },
  {
   "cell_type": "markdown",
   "metadata": {},
   "source": [
    "## Load data"
   ]
  },
  {
   "cell_type": "code",
   "execution_count": 2,
   "metadata": {},
   "outputs": [],
   "source": [
    "# cropped6_data = pk.load(open(\"../data/sixconditiondata.pkl\", \"rb\"))\n",
    "\n",
    "cropped6_data = pk.load(open(f\"{data_dir}EEG_per_condition_dict.pkl\", \"rb\"))"
   ]
  },
  {
   "cell_type": "markdown",
   "metadata": {},
   "source": [
    "### Divide each condition into test and rest"
   ]
  },
  {
   "cell_type": "code",
   "execution_count": 3,
   "metadata": {},
   "outputs": [],
   "source": [
    "n_windows = 2  # per condition"
   ]
  },
  {
   "cell_type": "code",
   "execution_count": 4,
   "metadata": {},
   "outputs": [],
   "source": [
    "test_retest_data = dict()\n",
    "\n",
    "\n",
    "for key in cropped6_data:\n",
    "    filename = cropped6_data[key][\"file\"]\n",
    "    group = cropped6_data[key][\"group\"]\n",
    "    subject = cropped6_data[key][\"subject\"]\n",
    "    condition = cropped6_data[key][\"condition\"]\n",
    "    serie = cropped6_data[key][\"series\"]\n",
    "    chs = cropped6_data[key][\"channels\"]\n",
    "\n",
    "    # divide into windows\n",
    "    windowed_series = windowing(serie, n_windows=n_windows)\n",
    "\n",
    "    for i in range(n_windows):\n",
    "        window_key = f\"{subject}_{condition}_{i}\"\n",
    "        test_retest_data[window_key] = dict()\n",
    "\n",
    "        test_retest_data[window_key][\"file\"] = window_key\n",
    "        test_retest_data[window_key][\"group\"] = group\n",
    "        test_retest_data[window_key][\"subject\"] = subject\n",
    "        test_retest_data[window_key][\"condition\"] = condition\n",
    "        test_retest_data[window_key][\"window\"] = i\n",
    "        test_retest_data[window_key][\"series\"] = windowed_series[i]\n",
    "        test_retest_data[window_key][\"channels\"] = chs"
   ]
  },
  {
   "cell_type": "code",
   "execution_count": 5,
   "metadata": {},
   "outputs": [],
   "source": [
    "# pandas DataFrame from the raw_data_dict\n",
    "test_retest_data_df = pd.DataFrame.from_dict(test_retest_data, orient=\"index\")"
   ]
  },
  {
   "cell_type": "code",
   "execution_count": 6,
   "metadata": {},
   "outputs": [
    {
     "data": {
      "text/html": [
       "<pre style=\"white-space:pre;overflow-x:auto;line-height:normal;font-family:Menlo,'DejaVu Sans Mono',consolas,'Courier New',monospace\"></pre>\n"
      ],
      "text/plain": []
     },
     "metadata": {},
     "output_type": "display_data"
    },
    {
     "data": {
      "text/html": [
       "<div>\n",
       "<style scoped>\n",
       "    .dataframe tbody tr th:only-of-type {\n",
       "        vertical-align: middle;\n",
       "    }\n",
       "\n",
       "    .dataframe tbody tr th {\n",
       "        vertical-align: top;\n",
       "    }\n",
       "\n",
       "    .dataframe thead th {\n",
       "        text-align: right;\n",
       "    }\n",
       "</style>\n",
       "<table border=\"1\" class=\"dataframe\">\n",
       "  <thead>\n",
       "    <tr style=\"text-align: right;\">\n",
       "      <th></th>\n",
       "      <th>file</th>\n",
       "      <th>group</th>\n",
       "      <th>subject</th>\n",
       "      <th>condition</th>\n",
       "      <th>window</th>\n",
       "      <th>series</th>\n",
       "      <th>channels</th>\n",
       "    </tr>\n",
       "  </thead>\n",
       "  <tbody>\n",
       "    <tr>\n",
       "      <th>01_ROE_0</th>\n",
       "      <td>01_ROE_0</td>\n",
       "      <td>high</td>\n",
       "      <td>01</td>\n",
       "      <td>ROE</td>\n",
       "      <td>0</td>\n",
       "      <td>[[1.0079775810241698e-05, 2.074808597564697e-0...</td>\n",
       "      <td>[F7, F3, FZ, F4, F8, C3, C4, T7, CZ, T8, P3, P...</td>\n",
       "    </tr>\n",
       "    <tr>\n",
       "      <th>01_ROE_1</th>\n",
       "      <td>01_ROE_1</td>\n",
       "      <td>high</td>\n",
       "      <td>01</td>\n",
       "      <td>ROE</td>\n",
       "      <td>1</td>\n",
       "      <td>[[3.193559646606445e-07, 2.6713578701019288e-0...</td>\n",
       "      <td>[F7, F3, FZ, F4, F8, C3, C4, T7, CZ, T8, P3, P...</td>\n",
       "    </tr>\n",
       "    <tr>\n",
       "      <th>01_RCE_0</th>\n",
       "      <td>01_RCE_0</td>\n",
       "      <td>high</td>\n",
       "      <td>01</td>\n",
       "      <td>RCE</td>\n",
       "      <td>0</td>\n",
       "      <td>[[3.207792043685913e-06, 3.530672192573547e-07...</td>\n",
       "      <td>[F7, F3, FZ, F4, F8, C3, C4, T7, CZ, T8, P3, P...</td>\n",
       "    </tr>\n",
       "    <tr>\n",
       "      <th>01_RCE_1</th>\n",
       "      <td>01_RCE_1</td>\n",
       "      <td>high</td>\n",
       "      <td>01</td>\n",
       "      <td>RCE</td>\n",
       "      <td>1</td>\n",
       "      <td>[[-6.098387241363525e-06, -3.1650547981262207e...</td>\n",
       "      <td>[F7, F3, FZ, F4, F8, C3, C4, T7, CZ, T8, P3, P...</td>\n",
       "    </tr>\n",
       "    <tr>\n",
       "      <th>01_IND1_0</th>\n",
       "      <td>01_IND1_0</td>\n",
       "      <td>high</td>\n",
       "      <td>01</td>\n",
       "      <td>IND1</td>\n",
       "      <td>0</td>\n",
       "      <td>[[-4.318517208099365e-06, -6.90339183807373e-0...</td>\n",
       "      <td>[F7, F3, FZ, F4, F8, C3, C4, T7, CZ, T8, P3, P...</td>\n",
       "    </tr>\n",
       "    <tr>\n",
       "      <th>...</th>\n",
       "      <td>...</td>\n",
       "      <td>...</td>\n",
       "      <td>...</td>\n",
       "      <td>...</td>\n",
       "      <td>...</td>\n",
       "      <td>...</td>\n",
       "      <td>...</td>\n",
       "    </tr>\n",
       "    <tr>\n",
       "      <th>31_IND2_1</th>\n",
       "      <td>31_IND2_1</td>\n",
       "      <td>low</td>\n",
       "      <td>31</td>\n",
       "      <td>IND2</td>\n",
       "      <td>1</td>\n",
       "      <td>[[-6.951308250427246e-06, -7.668952941894531e-...</td>\n",
       "      <td>[F7, F3, FZ, F4, F8, C3, C4, T7, CZ, T8, P3, P...</td>\n",
       "    </tr>\n",
       "    <tr>\n",
       "      <th>31_NH_0</th>\n",
       "      <td>31_NH_0</td>\n",
       "      <td>low</td>\n",
       "      <td>31</td>\n",
       "      <td>NH</td>\n",
       "      <td>0</td>\n",
       "      <td>[[4.52498197555542e-08, 3.130119144916534e-07,...</td>\n",
       "      <td>[F7, F3, FZ, F4, F8, C3, C4, T7, CZ, T8, P3, P...</td>\n",
       "    </tr>\n",
       "    <tr>\n",
       "      <th>31_NH_1</th>\n",
       "      <td>31_NH_1</td>\n",
       "      <td>low</td>\n",
       "      <td>31</td>\n",
       "      <td>NH</td>\n",
       "      <td>1</td>\n",
       "      <td>[[-2.650147438049316e-06, -2.064450263977051e-...</td>\n",
       "      <td>[F7, F3, FZ, F4, F8, C3, C4, T7, CZ, T8, P3, P...</td>\n",
       "    </tr>\n",
       "    <tr>\n",
       "      <th>31_POST_0</th>\n",
       "      <td>31_POST_0</td>\n",
       "      <td>low</td>\n",
       "      <td>31</td>\n",
       "      <td>POST</td>\n",
       "      <td>0</td>\n",
       "      <td>[[-3.4078838825225827e-06, -1.5270864963531493...</td>\n",
       "      <td>[F7, F3, FZ, F4, F8, C3, C4, T7, CZ, T8, P3, P...</td>\n",
       "    </tr>\n",
       "    <tr>\n",
       "      <th>31_POST_1</th>\n",
       "      <td>31_POST_1</td>\n",
       "      <td>low</td>\n",
       "      <td>31</td>\n",
       "      <td>POST</td>\n",
       "      <td>1</td>\n",
       "      <td>[[5.918614864349365e-06, 5.555428981781005e-06...</td>\n",
       "      <td>[F7, F3, FZ, F4, F8, C3, C4, T7, CZ, T8, P3, P...</td>\n",
       "    </tr>\n",
       "  </tbody>\n",
       "</table>\n",
       "<p>360 rows × 7 columns</p>\n",
       "</div>"
      ],
      "text/plain": [
       "\n",
       "                file group subject condition  window   \n",
       "01_ROE_0    01_ROE_0  high      \u001b[1;36m01\u001b[0m       ROE       \u001b[1;36m0\u001b[0m  \\\n",
       "01_ROE_1    01_ROE_1  high      \u001b[1;36m01\u001b[0m       ROE       \u001b[1;36m1\u001b[0m   \n",
       "01_RCE_0    01_RCE_0  high      \u001b[1;36m01\u001b[0m       RCE       \u001b[1;36m0\u001b[0m   \n",
       "01_RCE_1    01_RCE_1  high      \u001b[1;36m01\u001b[0m       RCE       \u001b[1;36m1\u001b[0m   \n",
       "01_IND1_0  01_IND1_0  high      \u001b[1;36m01\u001b[0m      IND1       \u001b[1;36m0\u001b[0m   \n",
       "\u001b[33m...\u001b[0m              \u001b[33m...\u001b[0m   \u001b[33m...\u001b[0m     \u001b[33m...\u001b[0m       \u001b[33m...\u001b[0m     \u001b[33m...\u001b[0m   \n",
       "31_IND2_1  31_IND2_1   low      \u001b[1;36m31\u001b[0m      IND2       \u001b[1;36m1\u001b[0m   \n",
       "31_NH_0      31_NH_0   low      \u001b[1;36m31\u001b[0m        NH       \u001b[1;36m0\u001b[0m   \n",
       "31_NH_1      31_NH_1   low      \u001b[1;36m31\u001b[0m        NH       \u001b[1;36m1\u001b[0m   \n",
       "31_POST_0  31_POST_0   low      \u001b[1;36m31\u001b[0m      POST       \u001b[1;36m0\u001b[0m   \n",
       "31_POST_1  31_POST_1   low      \u001b[1;36m31\u001b[0m      POST       \u001b[1;36m1\u001b[0m   \n",
       "\n",
       "                                                      series   \n",
       "01_ROE_0   \u001b[1m[\u001b[0m\u001b[1m[\u001b[0m\u001b[1;36m1.0079775810241698e-05\u001b[0m, \u001b[1;36m2.074808597564697e-0\u001b[0m\u001b[33m...\u001b[0m  \\\n",
       "01_ROE_1   \u001b[1m[\u001b[0m\u001b[1m[\u001b[0m\u001b[1;36m3.193559646606445e-07\u001b[0m, \u001b[1;36m2.6713578701019288e-0\u001b[0m\u001b[33m...\u001b[0m   \n",
       "01_RCE_0   \u001b[1m[\u001b[0m\u001b[1m[\u001b[0m\u001b[1;36m3.207792043685913e-06\u001b[0m, \u001b[1;36m3.530672192573547e-07\u001b[0m\u001b[33m...\u001b[0m   \n",
       "01_RCE_1   \u001b[1m[\u001b[0m\u001b[1m[\u001b[0m\u001b[1;36m-6.098387241363525e-06\u001b[0m, \u001b[1;36m-3.\u001b[0m1650547981262207e\u001b[33m...\u001b[0m   \n",
       "01_IND1_0  \u001b[1m[\u001b[0m\u001b[1m[\u001b[0m\u001b[1;36m-4.318517208099365e-06\u001b[0m, \u001b[1;36m-6.90339183807373e-0\u001b[0m\u001b[33m...\u001b[0m   \n",
       "\u001b[33m...\u001b[0m                                                      \u001b[33m...\u001b[0m   \n",
       "31_IND2_1  \u001b[1m[\u001b[0m\u001b[1m[\u001b[0m\u001b[1;36m-6.951308250427246e-06\u001b[0m, \u001b[1;36m-7.\u001b[0m668952941894531e-\u001b[33m...\u001b[0m   \n",
       "31_NH_0    \u001b[1m[\u001b[0m\u001b[1m[\u001b[0m\u001b[1;36m4.52498197555542e-08\u001b[0m, \u001b[1;36m3.130119144916534e-07\u001b[0m,\u001b[33m...\u001b[0m   \n",
       "31_NH_1    \u001b[1m[\u001b[0m\u001b[1m[\u001b[0m\u001b[1;36m-2.650147438049316e-06\u001b[0m, \u001b[1;36m-2.\u001b[0m064450263977051e-\u001b[33m...\u001b[0m   \n",
       "31_POST_0  \u001b[1m[\u001b[0m\u001b[1m[\u001b[0m\u001b[1;36m-3.4078838825225827e-06\u001b[0m, \u001b[1;36m-1.5270864963531493\u001b[0m\u001b[33m...\u001b[0m   \n",
       "31_POST_1  \u001b[1m[\u001b[0m\u001b[1m[\u001b[0m\u001b[1;36m5.918614864349365e-06\u001b[0m, \u001b[1;36m5.555428981781005e-06\u001b[0m\u001b[33m...\u001b[0m   \n",
       "\n",
       "                                                    channels  \n",
       "01_ROE_0   \u001b[1m[\u001b[0mF7, F3, FZ, F4, F8, C3, C4, T7, CZ, T8, P3, P\u001b[33m...\u001b[0m  \n",
       "01_ROE_1   \u001b[1m[\u001b[0mF7, F3, FZ, F4, F8, C3, C4, T7, CZ, T8, P3, P\u001b[33m...\u001b[0m  \n",
       "01_RCE_0   \u001b[1m[\u001b[0mF7, F3, FZ, F4, F8, C3, C4, T7, CZ, T8, P3, P\u001b[33m...\u001b[0m  \n",
       "01_RCE_1   \u001b[1m[\u001b[0mF7, F3, FZ, F4, F8, C3, C4, T7, CZ, T8, P3, P\u001b[33m...\u001b[0m  \n",
       "01_IND1_0  \u001b[1m[\u001b[0mF7, F3, FZ, F4, F8, C3, C4, T7, CZ, T8, P3, P\u001b[33m...\u001b[0m  \n",
       "\u001b[33m...\u001b[0m                                                      \u001b[33m...\u001b[0m  \n",
       "31_IND2_1  \u001b[1m[\u001b[0mF7, F3, FZ, F4, F8, C3, C4, T7, CZ, T8, P3, P\u001b[33m...\u001b[0m  \n",
       "31_NH_0    \u001b[1m[\u001b[0mF7, F3, FZ, F4, F8, C3, C4, T7, CZ, T8, P3, P\u001b[33m...\u001b[0m  \n",
       "31_NH_1    \u001b[1m[\u001b[0mF7, F3, FZ, F4, F8, C3, C4, T7, CZ, T8, P3, P\u001b[33m...\u001b[0m  \n",
       "31_POST_0  \u001b[1m[\u001b[0mF7, F3, FZ, F4, F8, C3, C4, T7, CZ, T8, P3, P\u001b[33m...\u001b[0m  \n",
       "31_POST_1  \u001b[1m[\u001b[0mF7, F3, FZ, F4, F8, C3, C4, T7, CZ, T8, P3, P\u001b[33m...\u001b[0m  \n",
       "\n",
       "\u001b[1m[\u001b[0m\u001b[1;36m360\u001b[0m rows x \u001b[1;36m7\u001b[0m columns\u001b[1m]\u001b[0m"
      ]
     },
     "execution_count": 6,
     "metadata": {},
     "output_type": "execute_result"
    }
   ],
   "source": [
    "test_retest_data_df"
   ]
  },
  {
   "cell_type": "markdown",
   "metadata": {},
   "source": [
    "### Compute FC for test and retest"
   ]
  },
  {
   "cell_type": "code",
   "execution_count": 7,
   "metadata": {},
   "outputs": [
    {
     "data": {
      "text/html": [
       "<pre style=\"white-space:pre;overflow-x:auto;line-height:normal;font-family:Menlo,'DejaVu Sans Mono',consolas,'Courier New',monospace\">Working... <span style=\"color: #729c1f; text-decoration-color: #729c1f\">━━━━━━━━━━━━━━━━━━━━━━━━━━━━━━━━━━━━━━━━</span> <span style=\"color: #800080; text-decoration-color: #800080\">100%</span> <span style=\"color: #808000; text-decoration-color: #808000\">0:00:02</span>\n",
       "</pre>\n"
      ],
      "text/plain": [
       "Working... \u001b[38;2;114;156;31m━━━━━━━━━━━━━━━━━━━━━━━━━━━━━━━━━━━━━━━━\u001b[0m \u001b[35m100%\u001b[0m \u001b[33m0:00:02\u001b[0m\n"
      ]
     },
     "metadata": {},
     "output_type": "display_data"
    },
    {
     "data": {
      "text/html": [
       "<pre style=\"white-space:pre;overflow-x:auto;line-height:normal;font-family:Menlo,'DejaVu Sans Mono',consolas,'Courier New',monospace\"></pre>\n"
      ],
      "text/plain": []
     },
     "metadata": {},
     "output_type": "display_data"
    },
    {
     "data": {
      "text/html": [
       "<pre style=\"white-space:pre;overflow-x:auto;line-height:normal;font-family:Menlo,'DejaVu Sans Mono',consolas,'Courier New',monospace\">\n",
       "</pre>\n"
      ],
      "text/plain": [
       "\n"
      ]
     },
     "metadata": {},
     "output_type": "display_data"
    }
   ],
   "source": [
    "# empty dictionary to store EEG data\n",
    "test_retest_corr = dict()\n",
    "\n",
    "# loop through each file in the list of EEG files\n",
    "for window_key in track(test_retest_data):\n",
    "    # extract information from the dictionary\n",
    "    subject = test_retest_data[window_key][\"subject\"]\n",
    "    group = test_retest_data[window_key][\"group\"]\n",
    "    serie = test_retest_data[window_key][\"series\"]\n",
    "    condition = test_retest_data[window_key][\"condition\"]\n",
    "    window = test_retest_data[window_key][\"window\"]\n",
    "    ch = test_retest_data[window_key][\"channels\"]\n",
    "    raw_data = pd.DataFrame(serie.T, columns=ch)\n",
    "    corr = raw_data.corr()\n",
    "\n",
    "    if group not in test_retest_corr:\n",
    "        test_retest_corr[group] = dict()\n",
    "    if subject not in test_retest_corr[group]:\n",
    "        test_retest_corr[group][subject] = dict()\n",
    "    if condition not in test_retest_corr[group][subject]:\n",
    "        test_retest_corr[group][subject][condition] = dict()\n",
    "    if window not in test_retest_corr[group][subject][condition]:\n",
    "        test_retest_corr[group][subject][condition][window] = dict()\n",
    "\n",
    "    test_retest_corr[group][subject][condition][window] = corr"
   ]
  },
  {
   "cell_type": "code",
   "execution_count": 8,
   "metadata": {},
   "outputs": [],
   "source": [
    "pk.dump(test_retest_corr, open(f\"{data_dir}test_retest_corr.pkl\", \"wb\"))"
   ]
  },
  {
   "cell_type": "markdown",
   "metadata": {},
   "source": [
    "## Identifiability of subjects"
   ]
  },
  {
   "cell_type": "markdown",
   "metadata": {},
   "source": [
    "### Compute Iself and Iothers (matrices)"
   ]
  },
  {
   "cell_type": "code",
   "execution_count": 9,
   "metadata": {},
   "outputs": [],
   "source": [
    "my_group = \"high\"\n",
    "\n",
    "subject_list_high = []\n",
    "condition_list = []\n",
    "windows = [0, 1]\n",
    "\n",
    "for subject in test_retest_corr[my_group]:\n",
    "    my_subject = subject\n",
    "    subject_list_high.append(my_subject)\n",
    "\n",
    "for condition in test_retest_corr[my_group][my_subject]:\n",
    "    my_condition = condition\n",
    "    condition_list.append(condition)"
   ]
  },
  {
   "cell_type": "code",
   "execution_count": 10,
   "metadata": {},
   "outputs": [],
   "source": [
    "idmatrixhighs_dict = dict()\n",
    "\n",
    "for my_condition in condition_list:\n",
    "    idmatrixhighs_dict[my_condition] = dict()\n",
    "\n",
    "    idmatrixhighs = np.zeros((len(subject_list_high), len(subject_list_high)))\n",
    "\n",
    "    for i, subject_i in enumerate(subject_list_high):\n",
    "        FC_i0 = (\n",
    "            test_retest_corr[my_group][subject_i][my_condition][0].to_numpy().flatten()\n",
    "        )\n",
    "\n",
    "        for j, subject_j in enumerate(subject_list_high):\n",
    "            FC_j1 = (\n",
    "                test_retest_corr[my_group][subject_j][my_condition][1]\n",
    "                .to_numpy()\n",
    "                .flatten()\n",
    "            )\n",
    "            # print(\"finestra2\", m)\n",
    "\n",
    "            if i != j:  # Iothers\n",
    "                idmatrixhighs[i, j] = np.corrcoef(FC_i0, FC_j1)[0, 1]\n",
    "\n",
    "            elif i == j:  # Iself\n",
    "                idmatrixhighs[i, j] = np.corrcoef(FC_i0, FC_j1)[0, 1]\n",
    "\n",
    "    idmatrixhighs_dict[my_condition][\"idmatrix\"] = idmatrixhighs"
   ]
  },
  {
   "cell_type": "code",
   "execution_count": 11,
   "metadata": {},
   "outputs": [],
   "source": [
    "my_group = \"low\"\n",
    "\n",
    "subject_list_low = []\n",
    "condition_list = []\n",
    "windows = [0, 1]\n",
    "\n",
    "for subject in test_retest_corr[my_group]:\n",
    "    my_subject = subject\n",
    "    subject_list_low.append(my_subject)\n",
    "\n",
    "for condition in test_retest_corr[my_group][my_subject]:\n",
    "    my_condition = condition\n",
    "    condition_list.append(condition)"
   ]
  },
  {
   "cell_type": "code",
   "execution_count": 12,
   "metadata": {},
   "outputs": [],
   "source": [
    "idmatrixlows_dict = dict()\n",
    "\n",
    "for my_condition in condition_list:\n",
    "    idmatrixlows_dict[my_condition] = dict()\n",
    "\n",
    "    idmatrixlows = np.zeros((len(subject_list_low), len(subject_list_low)))\n",
    "\n",
    "    for i, subject_i in enumerate(subject_list_low):\n",
    "        FC_i0 = (\n",
    "            test_retest_corr[my_group][subject_i][my_condition][0].to_numpy().flatten()\n",
    "        )\n",
    "\n",
    "        for j, subject_j in enumerate(subject_list_low):\n",
    "            FC_j1 = (\n",
    "                test_retest_corr[my_group][subject_j][my_condition][1]\n",
    "                .to_numpy()\n",
    "                .flatten()\n",
    "            )\n",
    "\n",
    "            if i != j:\n",
    "                idmatrixlows[i, j] = np.corrcoef(FC_i0, FC_j1)[0, 1]\n",
    "\n",
    "            elif i == j:\n",
    "                idmatrixlows[i, j] = np.corrcoef(FC_i0, FC_j1)[0, 1]\n",
    "\n",
    "    idmatrixlows_dict[my_condition][\"idmatrix\"] = idmatrixlows"
   ]
  },
  {
   "cell_type": "markdown",
   "metadata": {},
   "source": [
    "### Compute Idiff"
   ]
  },
  {
   "cell_type": "code",
   "execution_count": 13,
   "metadata": {},
   "outputs": [],
   "source": [
    "idiffs_dict = dict()\n",
    "idiffs_dict[\"high\"] = dict()\n",
    "\n",
    "for my_condition in idmatrixhighs_dict:\n",
    "    idiffs_dict[\"high\"][my_condition] = dict()\n",
    "    idmatrix = idmatrixhighs_dict[my_condition][\"idmatrix\"]\n",
    "    for i, subject_i in enumerate(subject_list_high):\n",
    "        idiffs_dict[\"high\"][my_condition][subject_i] = dict()\n",
    "\n",
    "        iself_value = idmatrix[i, i]\n",
    "        idiffs_dict[\"high\"][my_condition][subject_i][\"iself\"] = iself_value\n",
    "\n",
    "        iothers_sum = 0.0\n",
    "        for j, subject_j in enumerate(subject_list_high):\n",
    "            if i != j:\n",
    "                iothers_sum += idmatrix[i, j] + idmatrix[j, i]\n",
    "        iothers_mean = iothers_sum / (2 * (len(subject_list_high) - 1))\n",
    "        idiffs_dict[\"high\"][my_condition][subject_i][\"iothers\"] = iothers_mean"
   ]
  },
  {
   "cell_type": "code",
   "execution_count": 14,
   "metadata": {},
   "outputs": [],
   "source": [
    "idiffs_dict[\"low\"] = dict()\n",
    "\n",
    "for my_condition in idmatrixlows_dict:\n",
    "    idiffs_dict[\"low\"][my_condition] = dict()\n",
    "    idmatrix = idmatrixlows_dict[my_condition][\"idmatrix\"]\n",
    "    for i, subject_i in enumerate(subject_list_low):\n",
    "        idiffs_dict[\"low\"][my_condition][subject_i] = dict()\n",
    "\n",
    "        iself_value = idmatrix[i, i]\n",
    "        idiffs_dict[\"low\"][my_condition][subject_i][\"iself\"] = iself_value\n",
    "\n",
    "        iothers_sum = 0.0\n",
    "        for j, subject_j in enumerate(subject_list_low):\n",
    "            if i != j:\n",
    "                iothers_sum += idmatrix[i, j] + idmatrix[j, i]\n",
    "        iothers_mean = iothers_sum / (2 * (len(subject_list_low) - 1))\n",
    "        idiffs_dict[\"low\"][my_condition][subject_i][\"iothers\"] = iothers_mean"
   ]
  },
  {
   "cell_type": "code",
   "execution_count": 15,
   "metadata": {},
   "outputs": [],
   "source": [
    "iself_values = []\n",
    "iothers_values = []\n",
    "\n",
    "# Calcolo delle medie\n",
    "for condition in idiffs_dict[\"high\"]:\n",
    "    for subject in idiffs_dict[\"high\"][condition]:\n",
    "        iself_value = idiffs_dict[\"high\"][condition][subject][\"iself\"]\n",
    "        iothers_value = idiffs_dict[\"high\"][condition][subject][\"iothers\"]\n",
    "\n",
    "        iself_values.append(iself_value)\n",
    "        iothers_values.append(iothers_value)\n",
    "\n",
    "    # Calcolo delle medie complessive\n",
    "    iself_mean = np.mean(iself_values)\n",
    "    iothers_mean = np.mean(iothers_values)\n",
    "\n",
    "    # Calcolo della differenza\n",
    "    idiff = iself_mean - iothers_mean\n",
    "\n",
    "    idiffs_dict[\"high\"][condition][\"idiff\"] = idiff"
   ]
  },
  {
   "cell_type": "code",
   "execution_count": 16,
   "metadata": {},
   "outputs": [],
   "source": [
    "iself_values = []\n",
    "iothers_values = []\n",
    "\n",
    "# Calcolo delle medie\n",
    "for condition in idiffs_dict[\"low\"]:\n",
    "    for subject in idiffs_dict[\"low\"][condition]:\n",
    "        iself_value = idiffs_dict[\"low\"][condition][subject][\"iself\"]\n",
    "        iothers_value = idiffs_dict[\"low\"][condition][subject][\"iothers\"]\n",
    "\n",
    "        iself_values.append(iself_value)\n",
    "        iothers_values.append(iothers_value)\n",
    "\n",
    "    # Calcolo delle medie complessive\n",
    "    iself_mean = np.mean(iself_values)\n",
    "    iothers_mean = np.mean(iothers_values)\n",
    "\n",
    "    # Calcolo della differenza\n",
    "    idiff = iself_mean - iothers_mean\n",
    "\n",
    "    idiffs_dict[\"low\"][condition][\"idiff\"] = idiff"
   ]
  },
  {
   "cell_type": "markdown",
   "metadata": {},
   "source": [
    "### Draw matrices per condition and group"
   ]
  },
  {
   "cell_type": "code",
   "execution_count": 17,
   "metadata": {},
   "outputs": [
    {
     "data": {
      "text/html": [
       "<pre style=\"white-space:pre;overflow-x:auto;line-height:normal;font-family:Menlo,'DejaVu Sans Mono',consolas,'Courier New',monospace\"></pre>\n"
      ],
      "text/plain": []
     },
     "metadata": {},
     "output_type": "display_data"
    },
    {
     "data": {
      "image/png": "[encoded data removed]",
      "text/plain": [
       "\u001b[1m<\u001b[0m\u001b[1;95mFigure\u001b[0m\u001b[39m size 36\u001b[0m\u001b[1;36m0x216\u001b[0m\u001b[39m with \u001b[0m\u001b[1;36m7\u001b[0m\u001b[39m Axes\u001b[0m\u001b[1m>\u001b[0m"
      ]
     },
     "metadata": {
      "needs_background": "light"
     },
     "output_type": "display_data"
    }
   ],
   "source": [
    "cmap = sb.color_palette(\"light:b\", as_cmap=True)\n",
    "\n",
    "fig, axs = plt.subplots(\n",
    "    2, 3, figsize=(5, 3), sharey=True, sharex=True\n",
    ")  # , layout=\"constrained\")\n",
    "\n",
    "for i, condition in enumerate(condition_list):\n",
    "\n",
    "    ax = axs.flat[i]\n",
    "\n",
    "    ax = sb.heatmap(\n",
    "        idmatrixhighs_dict[condition][\"idmatrix\"],\n",
    "        cmap=cmap,\n",
    "        cbar=False,\n",
    "        square=True,\n",
    "        # annot=True,\n",
    "        fmt=\".3f\",\n",
    "        # annot_kws={\"fontsize\": 6},\n",
    "        vmin=0.3,  # Sostituisci con il valore minimo desiderato\n",
    "        vmax=1,\n",
    "        xticklabels=[],  # subject_list_high,\n",
    "        yticklabels=[],  # subject_list_high,\n",
    "        ax=ax,\n",
    "    )\n",
    "\n",
    "    # print(idmatrixhighs_dict[condition][\"idmatrix\"].max())\n",
    "    # print(idmatrixhighs_dict[condition][\"idmatrix\"].min())\n",
    "\n",
    "    idiff = idiffs_dict[\"high\"][condition][\"idiff\"]\n",
    "    title = f\"Highs {condition}, Idiff: {idiff:.3f}\"\n",
    "    ax.set_title(condition, style=\"italic\")\n",
    "\n",
    "    t = ax.text(\n",
    "        0.95,\n",
    "        0.95,\n",
    "        f\"Idiff: {idiff:.2f}\",\n",
    "        va=\"top\",\n",
    "        ha=\"right\",\n",
    "        transform=ax.transAxes,\n",
    "        color=\"w\",\n",
    "    )\n",
    "    t.set_bbox(dict(facecolor=\"grey\", alpha=0.5, boxstyle=\"round,pad=0.2\"))\n",
    "\n",
    "for ax in axs[:, 0]:\n",
    "    ax.set_ylabel(\"Subject i\")\n",
    "for ax in axs[-1, :]:\n",
    "    ax.set_xlabel(\"Subject j\")\n",
    "\n",
    "title = \"Identifiability matrix: highs\"\n",
    "plt.suptitle(title)\n",
    "plt.subplots_adjust(top=0.85)\n",
    "\n",
    "fig.colorbar(ax.get_children()[0], ax=axs[:, -1], shrink=0.5)  # , ticks=[0, 0.5, 1])\n",
    "\n",
    "fig_name = f\"FC_subject_idiff_matrix_conditions_highs_{n_windows}_windows\"\n",
    "plt.savefig(f\"{results_dir}{fig_name}.png\", facecolor=\"w\", dpi=250, bbox_inches=\"tight\")\n",
    "\n",
    "plt.show()"
   ]
  },
  {
   "cell_type": "code",
   "execution_count": 18,
   "metadata": {},
   "outputs": [
    {
     "data": {
      "text/html": [
       "<pre style=\"white-space:pre;overflow-x:auto;line-height:normal;font-family:Menlo,'DejaVu Sans Mono',consolas,'Courier New',monospace\"></pre>\n"
      ],
      "text/plain": []
     },
     "metadata": {},
     "output_type": "display_data"
    },
    {
     "data": {
      "image/png": "[encoded data removed]",
      "text/plain": [
       "\u001b[1m<\u001b[0m\u001b[1;95mFigure\u001b[0m\u001b[39m size 36\u001b[0m\u001b[1;36m0x216\u001b[0m\u001b[39m with \u001b[0m\u001b[1;36m7\u001b[0m\u001b[39m Axes\u001b[0m\u001b[1m>\u001b[0m"
      ]
     },
     "metadata": {
      "needs_background": "light"
     },
     "output_type": "display_data"
    }
   ],
   "source": [
    "cmap = sb.color_palette(\"light:b\", as_cmap=True)\n",
    "\n",
    "fig, axs = plt.subplots(\n",
    "    2, 3, figsize=(5, 3), sharey=True, sharex=True\n",
    ")  # , layout=\"constrained\")\n",
    "\n",
    "for i, condition in enumerate(condition_list):\n",
    "\n",
    "    ax = axs.flat[i]\n",
    "\n",
    "    ax = sb.heatmap(\n",
    "        idmatrixlows_dict[condition][\"idmatrix\"],\n",
    "        cmap=cmap,\n",
    "        cbar=False,\n",
    "        square=True,\n",
    "        # annot=True,\n",
    "        fmt=\".3f\",\n",
    "        # annot_kws={\"fontsize\": 6},\n",
    "        vmin=0,  # Sostituisci con il valore minimo desiderato\n",
    "        vmax=1,\n",
    "        xticklabels=[],  # subject_list_high,\n",
    "        yticklabels=[],  # subject_list_high,\n",
    "        ax=ax,\n",
    "    )\n",
    "\n",
    "    # print(idmatrixlows_dict[condition][\"idmatrix\"].max())\n",
    "    # print(idmatrixlows_dict[condition][\"idmatrix\"].min())\n",
    "\n",
    "    idiff = idiffs_dict[\"low\"][condition][\"idiff\"]\n",
    "    title = f\"Lows {condition}, Idiff: {idiff:.3f}\"\n",
    "    ax.set_title(condition, style=\"italic\")\n",
    "\n",
    "    t = ax.text(\n",
    "        0.95,\n",
    "        0.95,\n",
    "        f\"Idiff: {idiff:.2f}\",\n",
    "        va=\"top\",\n",
    "        ha=\"right\",\n",
    "        transform=ax.transAxes,\n",
    "        color=\"w\",\n",
    "    )\n",
    "    t.set_bbox(dict(facecolor=\"grey\", alpha=0.5, boxstyle=\"round,pad=0.2\"))\n",
    "\n",
    "for ax in axs[:, 0]:\n",
    "    ax.set_ylabel(\"Subject i\")\n",
    "for ax in axs[-1, :]:\n",
    "    ax.set_xlabel(\"Subject j\")\n",
    "\n",
    "title = \"Identifiability matrix: lows\"\n",
    "plt.suptitle(title)\n",
    "plt.subplots_adjust(top=0.85)\n",
    "\n",
    "fig.colorbar(ax.get_children()[0], ax=axs[:, -1], shrink=0.5, ticks=[0, 0.5, 1])\n",
    "\n",
    "fig_name = f\"FC_subject_idiff_matrix_conditions_lows_{n_windows}_windows\"\n",
    "plt.savefig(f\"{results_dir}{fig_name}.png\", facecolor=\"w\", dpi=250, bbox_inches=\"tight\")\n",
    "\n",
    "plt.show()\n",
    "# plt.close()"
   ]
  },
  {
   "cell_type": "code",
   "execution_count": 19,
   "metadata": {},
   "outputs": [
    {
     "name": "stderr",
     "output_type": "stream",
     "text": [
      "/var/folders/wm/5gv37br900l73y63tjf8sr1r0000gn/T/ipykernel_54373/3295319520.py:71: UserWarning: This figure was using a layout engine that is incompatible with subplots_adjust and/or tight_layout; not calling subplots_adjust.\n",
      "  plt.subplots_adjust(top=0.85)\n"
     ]
    },
    {
     "data": {
      "text/html": [
       "<pre style=\"white-space:pre;overflow-x:auto;line-height:normal;font-family:Menlo,'DejaVu Sans Mono',consolas,'Courier New',monospace\"></pre>\n"
      ],
      "text/plain": []
     },
     "metadata": {},
     "output_type": "display_data"
    },
    {
     "data": {
      "image/png": "[encoded data removed]",
      "text/plain": [
       "\u001b[1m<\u001b[0m\u001b[1;95mFigure\u001b[0m\u001b[39m size 216x144 with \u001b[0m\u001b[1;36m3\u001b[0m\u001b[39m Axes\u001b[0m\u001b[1m>\u001b[0m"
      ]
     },
     "metadata": {
      "needs_background": "light"
     },
     "output_type": "display_data"
    }
   ],
   "source": [
    "cmap = sb.color_palette(\"light:b\", as_cmap=True)\n",
    "\n",
    "fig, (ax1, ax2) = plt.subplots(\n",
    "    1, 2, figsize=(3, 2), sharey=True, sharex=True, layout=\"constrained\"\n",
    ")\n",
    "\n",
    "condition = \"ROE\"\n",
    "\n",
    "ax1 = sb.heatmap(\n",
    "    idmatrixhighs_dict[condition][\"idmatrix\"],\n",
    "    cmap=cmap,\n",
    "    cbar=False,\n",
    "    square=True,\n",
    "    # annot=True,\n",
    "    fmt=\".3f\",\n",
    "    # annot_kws={\"fontsize\": 6},\n",
    "    vmin=0,  # Sostituisci con il valore minimo desiderato\n",
    "    vmax=1,\n",
    "    xticklabels=[],  # subject_list_high,\n",
    "    yticklabels=[],  # subject_list_high,\n",
    "    ax=ax1,\n",
    ")\n",
    "\n",
    "idiff = idiffs_dict[\"high\"][condition][\"idiff\"]\n",
    "ax1.set_title(\"Highs\", style=\"italic\")\n",
    "\n",
    "t = ax1.text(\n",
    "    0.95,\n",
    "    0.95,\n",
    "    f\"Idiff: {idiff:.2f}\",\n",
    "    va=\"top\",\n",
    "    ha=\"right\",\n",
    "    transform=ax1.transAxes,\n",
    "    color=\"w\",\n",
    ")\n",
    "t.set_bbox(dict(facecolor=\"grey\", alpha=0.5, boxstyle=\"round,pad=0.2\"))\n",
    "\n",
    "ax2 = sb.heatmap(\n",
    "    idmatrixlows_dict[condition][\"idmatrix\"],\n",
    "    cmap=cmap,\n",
    "    cbar=True,\n",
    "    square=True,\n",
    "    # annot=True,\n",
    "    fmt=\".3f\",\n",
    "    # annot_kws={\"fontsize\": 6},\n",
    "    vmin=0,  # Sostituisci con il valore minimo desiderato\n",
    "    vmax=1,\n",
    "    xticklabels=[],  # subject_list_high,\n",
    "    yticklabels=[],  # subject_list_high,\n",
    "    ax=ax2,\n",
    "    cbar_kws=dict(shrink=0.5),\n",
    ")\n",
    "\n",
    "idiff = idiffs_dict[\"low\"][condition][\"idiff\"]\n",
    "ax2.set_title(\"Lows\", style=\"italic\")\n",
    "\n",
    "t = ax2.text(\n",
    "    0.95,\n",
    "    0.95,\n",
    "    f\"Idiff: {idiff:.2f}\",\n",
    "    va=\"top\",\n",
    "    ha=\"right\",\n",
    "    transform=ax2.transAxes,\n",
    "    color=\"w\",\n",
    ")\n",
    "t.set_bbox(dict(facecolor=\"grey\", alpha=0.5, boxstyle=\"round,pad=0.2\"))\n",
    "\n",
    "\n",
    "title = f\"Identifiability matrix: {condition}\"\n",
    "plt.suptitle(title)\n",
    "plt.subplots_adjust(top=0.85)\n",
    "\n",
    "ax1.set_ylabel(\"Subject i\")\n",
    "ax1.set_xlabel(\"Subject j\")\n",
    "ax2.set_xlabel(\"Subject j\")\n",
    "\n",
    "fig_name = f\"FC_subject_idiff_matrix_{condition}_highlow_{n_windows}_windows\"\n",
    "plt.savefig(f\"{results_dir}{fig_name}.png\", facecolor=\"w\", dpi=250, bbox_inches=\"tight\")\n",
    "\n",
    "plt.show()"
   ]
  },
  {
   "cell_type": "markdown",
   "metadata": {},
   "source": [
    "### Viz Idiff distributions"
   ]
  },
  {
   "cell_type": "code",
   "execution_count": 20,
   "metadata": {},
   "outputs": [],
   "source": [
    "idiff_distribution = dict()\n",
    "\n",
    "idiff_distribution[\"high\"] = dict()\n",
    "\n",
    "for condition in condition_list:\n",
    "    idiff_distribution[\"high\"][condition] = dict()\n",
    "\n",
    "    idmatrix_highs = idmatrixhighs_dict[condition][\"idmatrix\"]\n",
    "\n",
    "    for i, subject_i in enumerate(subject_list_high):\n",
    "        idiff_i = idmatrix_highs[i, i] - np.mean(np.delete(idmatrix_highs[i, :], i))\n",
    "        idiff_distribution[\"high\"][condition][subject_i] = idiff_i\n",
    "\n",
    "idiff_distribution[\"low\"] = dict()\n",
    "\n",
    "for condition in condition_list:\n",
    "    idiff_distribution[\"low\"][condition] = dict()\n",
    "\n",
    "    idmatrix_lows = idmatrixlows_dict[condition][\"idmatrix\"]\n",
    "\n",
    "    for i, subject_i in enumerate(subject_list_low):\n",
    "        idiff_i = idmatrix_lows[i, i] - np.mean(np.delete(idmatrix_lows[i, :], i))\n",
    "        idiff_distribution[\"low\"][condition][subject_i] = idiff_i"
   ]
  },
  {
   "cell_type": "code",
   "execution_count": 22,
   "metadata": {},
   "outputs": [],
   "source": [
    "groups = [\"high\", \"low\"]\n",
    "\n",
    "data = []\n",
    "\n",
    "for group in groups:\n",
    "    for condition in condition_list:\n",
    "        for subject_i, distribution in idiff_distribution[group][condition].items():\n",
    "            if isinstance(distribution, (int, float)):  # Verifica se è int o float\n",
    "                distribution_list = [distribution]  # Crea una lista con il valore\n",
    "            else:\n",
    "                distribution_list = distribution.tolist()  # Converti in una lista\n",
    "            for value in distribution_list:\n",
    "                data.append(\n",
    "                    {\n",
    "                        \"Group\": group,\n",
    "                        \"Condition\": condition,\n",
    "                        \"Subject\": subject_i,\n",
    "                        \"Data\": value,\n",
    "                    }\n",
    "                )\n",
    "\n",
    "# Crea un DataFrame con le distribuzioni\n",
    "df = pd.DataFrame(data)"
   ]
  },
  {
   "cell_type": "code",
   "execution_count": 23,
   "metadata": {},
   "outputs": [
    {
     "data": {
      "text/html": [
       "<pre style=\"white-space:pre;overflow-x:auto;line-height:normal;font-family:Menlo,'DejaVu Sans Mono',consolas,'Courier New',monospace\"></pre>\n"
      ],
      "text/plain": []
     },
     "metadata": {},
     "output_type": "display_data"
    },
    {
     "data": {
      "text/html": [
       "<div>\n",
       "<style scoped>\n",
       "    .dataframe tbody tr th:only-of-type {\n",
       "        vertical-align: middle;\n",
       "    }\n",
       "\n",
       "    .dataframe tbody tr th {\n",
       "        vertical-align: top;\n",
       "    }\n",
       "\n",
       "    .dataframe thead th {\n",
       "        text-align: right;\n",
       "    }\n",
       "</style>\n",
       "<table border=\"1\" class=\"dataframe\">\n",
       "  <thead>\n",
       "    <tr style=\"text-align: right;\">\n",
       "      <th></th>\n",
       "      <th>Group</th>\n",
       "      <th>Condition</th>\n",
       "      <th>Subject</th>\n",
       "      <th>Data</th>\n",
       "    </tr>\n",
       "  </thead>\n",
       "  <tbody>\n",
       "    <tr>\n",
       "      <th>0</th>\n",
       "      <td>high</td>\n",
       "      <td>ROE</td>\n",
       "      <td>01</td>\n",
       "      <td>0.362353</td>\n",
       "    </tr>\n",
       "    <tr>\n",
       "      <th>1</th>\n",
       "      <td>high</td>\n",
       "      <td>ROE</td>\n",
       "      <td>02</td>\n",
       "      <td>0.200803</td>\n",
       "    </tr>\n",
       "    <tr>\n",
       "      <th>2</th>\n",
       "      <td>high</td>\n",
       "      <td>ROE</td>\n",
       "      <td>03</td>\n",
       "      <td>0.178728</td>\n",
       "    </tr>\n",
       "    <tr>\n",
       "      <th>3</th>\n",
       "      <td>high</td>\n",
       "      <td>ROE</td>\n",
       "      <td>04</td>\n",
       "      <td>0.184328</td>\n",
       "    </tr>\n",
       "    <tr>\n",
       "      <th>4</th>\n",
       "      <td>high</td>\n",
       "      <td>ROE</td>\n",
       "      <td>05</td>\n",
       "      <td>0.338107</td>\n",
       "    </tr>\n",
       "    <tr>\n",
       "      <th>...</th>\n",
       "      <td>...</td>\n",
       "      <td>...</td>\n",
       "      <td>...</td>\n",
       "      <td>...</td>\n",
       "    </tr>\n",
       "    <tr>\n",
       "      <th>175</th>\n",
       "      <td>low</td>\n",
       "      <td>POST</td>\n",
       "      <td>27</td>\n",
       "      <td>0.336996</td>\n",
       "    </tr>\n",
       "    <tr>\n",
       "      <th>176</th>\n",
       "      <td>low</td>\n",
       "      <td>POST</td>\n",
       "      <td>28</td>\n",
       "      <td>0.327475</td>\n",
       "    </tr>\n",
       "    <tr>\n",
       "      <th>177</th>\n",
       "      <td>low</td>\n",
       "      <td>POST</td>\n",
       "      <td>29</td>\n",
       "      <td>0.419431</td>\n",
       "    </tr>\n",
       "    <tr>\n",
       "      <th>178</th>\n",
       "      <td>low</td>\n",
       "      <td>POST</td>\n",
       "      <td>30</td>\n",
       "      <td>0.484738</td>\n",
       "    </tr>\n",
       "    <tr>\n",
       "      <th>179</th>\n",
       "      <td>low</td>\n",
       "      <td>POST</td>\n",
       "      <td>31</td>\n",
       "      <td>0.569415</td>\n",
       "    </tr>\n",
       "  </tbody>\n",
       "</table>\n",
       "<p>180 rows × 4 columns</p>\n",
       "</div>"
      ],
      "text/plain": [
       "\n",
       "    Group Condition Subject      Data\n",
       "\u001b[1;36m0\u001b[0m    high       ROE      \u001b[1;36m01\u001b[0m  \u001b[1;36m0.362353\u001b[0m\n",
       "\u001b[1;36m1\u001b[0m    high       ROE      \u001b[1;36m02\u001b[0m  \u001b[1;36m0.200803\u001b[0m\n",
       "\u001b[1;36m2\u001b[0m    high       ROE      \u001b[1;36m03\u001b[0m  \u001b[1;36m0.178728\u001b[0m\n",
       "\u001b[1;36m3\u001b[0m    high       ROE      \u001b[1;36m04\u001b[0m  \u001b[1;36m0.184328\u001b[0m\n",
       "\u001b[1;36m4\u001b[0m    high       ROE      \u001b[1;36m05\u001b[0m  \u001b[1;36m0.338107\u001b[0m\n",
       "..    \u001b[33m...\u001b[0m       \u001b[33m...\u001b[0m     \u001b[33m...\u001b[0m       \u001b[33m...\u001b[0m\n",
       "\u001b[1;36m175\u001b[0m   low      POST      \u001b[1;36m27\u001b[0m  \u001b[1;36m0.336996\u001b[0m\n",
       "\u001b[1;36m176\u001b[0m   low      POST      \u001b[1;36m28\u001b[0m  \u001b[1;36m0.327475\u001b[0m\n",
       "\u001b[1;36m177\u001b[0m   low      POST      \u001b[1;36m29\u001b[0m  \u001b[1;36m0.419431\u001b[0m\n",
       "\u001b[1;36m178\u001b[0m   low      POST      \u001b[1;36m30\u001b[0m  \u001b[1;36m0.484738\u001b[0m\n",
       "\u001b[1;36m179\u001b[0m   low      POST      \u001b[1;36m31\u001b[0m  \u001b[1;36m0.569415\u001b[0m\n",
       "\n",
       "\u001b[1m[\u001b[0m\u001b[1;36m180\u001b[0m rows x \u001b[1;36m4\u001b[0m columns\u001b[1m]\u001b[0m"
      ]
     },
     "execution_count": 23,
     "metadata": {},
     "output_type": "execute_result"
    }
   ],
   "source": [
    "df"
   ]
  },
  {
   "cell_type": "code",
   "execution_count": 24,
   "metadata": {},
   "outputs": [],
   "source": [
    "# save to file\n",
    "df.to_csv(f\"{data_out_dir}idiff_distrib.csv\", index=False)"
   ]
  },
  {
   "cell_type": "code",
   "execution_count": 26,
   "metadata": {},
   "outputs": [
    {
     "data": {
      "text/html": [
       "<pre style=\"white-space:pre;overflow-x:auto;line-height:normal;font-family:Menlo,'DejaVu Sans Mono',consolas,'Courier New',monospace\"></pre>\n"
      ],
      "text/plain": []
     },
     "metadata": {},
     "output_type": "display_data"
    },
    {
     "data": {
      "text/plain": [
       "\u001b[32m'../data/functional_connectivity/'\u001b[0m"
      ]
     },
     "execution_count": 26,
     "metadata": {},
     "output_type": "execute_result"
    }
   ],
   "source": [
    "data_out_dir"
   ]
  },
  {
   "cell_type": "markdown",
   "metadata": {},
   "source": [
    "#### boxplots"
   ]
  },
  {
   "cell_type": "code",
   "execution_count": 25,
   "metadata": {},
   "outputs": [
    {
     "name": "stderr",
     "output_type": "stream",
     "text": [
      "/Users/maxime/.pyenv/versions/venv_hypno/lib/python3.9/site-packages/seaborn/categorical.py:166: FutureWarning: Setting a gradient palette using color= is deprecated and will be removed in version 0.13. Set `palette='dark:grey'` for same effect.\n",
      "  warnings.warn(msg, FutureWarning)\n"
     ]
    },
    {
     "data": {
      "text/html": [
       "<pre style=\"white-space:pre;overflow-x:auto;line-height:normal;font-family:Menlo,'DejaVu Sans Mono',consolas,'Courier New',monospace\"></pre>\n"
      ],
      "text/plain": []
     },
     "metadata": {},
     "output_type": "display_data"
    },
    {
     "data": {
      "image/png": "[encoded data removed]",
      "text/plain": [
       "\u001b[1m<\u001b[0m\u001b[1;95mFigure\u001b[0m\u001b[39m size 216x144 with \u001b[0m\u001b[1;36m1\u001b[0m\u001b[39m Axes\u001b[0m\u001b[1m>\u001b[0m"
      ]
     },
     "metadata": {
      "needs_background": "light"
     },
     "output_type": "display_data"
    }
   ],
   "source": [
    "fig, ax = plt.subplots(figsize=(3, 2))\n",
    "\n",
    "sb.boxplot(x=\"Condition\", y=\"Data\", data=df, hue=\"Group\")\n",
    "sb.stripplot(\n",
    "    x=\"Condition\",\n",
    "    y=\"Data\",\n",
    "    data=df,\n",
    "    hue=\"Group\",\n",
    "    dodge=True,\n",
    "    legend=False,\n",
    "    alpha=0.4,\n",
    "    color=\"grey\",\n",
    ")\n",
    "\n",
    "sb.move_legend(ax, bbox_to_anchor=(1, 0.5), loc=\"center left\", frameon=False)\n",
    "\n",
    "ax.set_ylabel(\"Idiff\")\n",
    "\n",
    "sb.despine()\n",
    "\n",
    "fig_name = f\"FC_subject_idiff_distrib_{n_windows}_windows\"\n",
    "plt.savefig(f\"{results_dir}{fig_name}.png\", facecolor=\"w\", dpi=250, bbox_inches=\"tight\")"
   ]
  },
  {
   "cell_type": "markdown",
   "metadata": {},
   "source": [
    "#### barplots"
   ]
  },
  {
   "cell_type": "code",
   "execution_count": 171,
   "metadata": {},
   "outputs": [
    {
     "name": "stdout",
     "output_type": "stream",
     "text": [
      "p-value annotation legend:\n",
      "      ns: p <= 1.00e+00\n",
      "       *: 1.00e-02 < p <= 5.00e-02\n",
      "      **: 1.00e-03 < p <= 1.00e-02\n",
      "     ***: 1.00e-04 < p <= 1.00e-03\n",
      "    ****: p <= 1.00e-04\n",
      "\n",
      "RCE_high vs. RCE_low: Wilcoxon test (paired samples), P_val:6.104e-05 Stat=0.000e+00\n",
      "ROE_high vs. ROE_low: Wilcoxon test (paired samples), P_val:1.221e-04 Stat=1.000e+00\n",
      "IND1_high vs. IND1_low: Wilcoxon test (paired samples), P_val:6.104e-05 Stat=0.000e+00\n",
      "IND2_high vs. IND2_low: Wilcoxon test (paired samples), P_val:3.052e-04 Stat=3.000e+00\n",
      "NH_high vs. NH_low: Wilcoxon test (paired samples), P_val:6.104e-05 Stat=0.000e+00\n",
      "POST_high vs. POST_low: Wilcoxon test (paired samples), P_val:4.272e-04 Stat=4.000e+00\n"
     ]
    },
    {
     "data": {
      "text/html": [
       "<pre style=\"white-space:pre;overflow-x:auto;line-height:normal;font-family:Menlo,'DejaVu Sans Mono',consolas,'Courier New',monospace\"></pre>\n"
      ],
      "text/plain": []
     },
     "metadata": {},
     "output_type": "display_data"
    },
    {
     "data": {
      "image/png": "[encoded data removed]",
      "text/plain": [
       "\u001b[1m<\u001b[0m\u001b[1;95mFigure\u001b[0m\u001b[39m size \u001b[0m\u001b[1;36m244.\u001b[0m\u001b[39m8x144 with \u001b[0m\u001b[1;36m1\u001b[0m\u001b[39m Axes\u001b[0m\u001b[1m>\u001b[0m"
      ]
     },
     "metadata": {},
     "output_type": "display_data"
    }
   ],
   "source": [
    "fig, ax = plt.subplots(figsize=(3.4, 2))\n",
    "\n",
    "order = [(\"ROE\"), (\"RCE\"), (\"IND1\"), (\"IND2\"), (\"NH\"), (\"POST\")]\n",
    "\n",
    "\n",
    "# Crea un barplot delle distribuzioni\n",
    "sb.barplot(x=\"Condition\", y=\"Data\", data=df, hue=\"Group\")\n",
    "\n",
    "# Titolo del grafico\n",
    "# plt.title(\"Idiff distribuition\")\n",
    "\n",
    "var = order\n",
    "pairs1 = [[(i, \"high\"), (i, \"low\")] for i in var]\n",
    "# pairs2 = [[(i, \"low\"), (j, \"low\")] for i, j in combinations([\"ROE\", \"RCE\", \"NH\"], 2)]\n",
    "pairs3 = [[(i, \"high\"), (j, \"high\")] for i, j in combinations([\"ROE\", \"RCE\", \"NH\"], 2)]\n",
    "\n",
    "pairs = pairs1  # + pairs3\n",
    "\n",
    "from statannotations.Annotator import Annotator\n",
    "\n",
    "annotator = Annotator(\n",
    "    ax,\n",
    "    pairs,\n",
    "    data=df,\n",
    "    x=\"Condition\",\n",
    "    y=\"Data\",\n",
    "    hue=\"Group\",\n",
    "    order=order,\n",
    "    hue_order=[\"high\", \"low\"],\n",
    ")\n",
    "annotator.configure(test=\"Wilcoxon\", text_format=\"star\", loc=\"inside\")\n",
    "annotator.apply_and_annotate()\n",
    "\n",
    "sb.move_legend(ax, bbox_to_anchor=(1, 0.5), loc=\"center left\", frameon=False)\n",
    "\n",
    "ax.set_ylabel(\"IDiff\")\n",
    "\n",
    "sb.despine()\n",
    "\n",
    "fig_name = f\"FC_subject_idiff_distrib_barplots_{n_windows}_windows\"\n",
    "plt.savefig(f\"{results_dir}{fig_name}.png\", facecolor=\"w\", dpi=250, bbox_inches=\"tight\")\n",
    "\n",
    "\n",
    "plt.show()"
   ]
  },
  {
   "cell_type": "code",
   "execution_count": null,
   "metadata": {},
   "outputs": [],
   "source": []
  }
 ],
 "metadata": {
  "kernelspec": {
   "display_name": "venv_hypno",
   "language": "python",
   "name": "venv_hypno"
  },
  "language_info": {
   "codemirror_mode": {
    "name": "ipython",
    "version": 3
   },
   "file_extension": ".py",
   "mimetype": "text/x-python",
   "name": "python",
   "nbconvert_exporter": "python",
   "pygments_lexer": "ipython3",
   "version": "3.9.19"
  },
  "toc": {
   "base_numbering": 1,
   "nav_menu": {},
   "number_sections": true,
   "sideBar": true,
   "skip_h1_title": false,
   "title_cell": "Table of Contents",
   "title_sidebar": "Contents",
   "toc_cell": false,
   "toc_position": {},
   "toc_section_display": true,
   "toc_window_display": true
  }
 },
 "nbformat": 4,
 "nbformat_minor": 4
}
