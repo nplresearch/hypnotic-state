{
 "cells": [
  {
   "cell_type": "markdown",
   "metadata": {},
   "source": [
    "# Preprocess EEg data for temporal embedding"
   ]
  },
  {
   "cell_type": "code",
   "execution_count": 2,
   "metadata": {},
   "outputs": [],
   "source": [
    "# import necessary libraries\n",
    "import pickle as pk\n",
    "import warnings\n",
    "from pathlib import Path\n",
    "\n",
    "import matplotlib.pyplot as plt\n",
    "import numpy as np\n",
    "import pandas as pd\n",
    "import ripser\n",
    "import seaborn as sb\n",
    "from rich import inspect, pretty, print\n",
    "from rich.progress import track\n",
    "from sklearn.metrics import pairwise_distances\n",
    "from tda import (downsample, persistent_homology_loop,\n",
    "                 topological_features_loop, trim, windowing)\n",
    "from tqdm import tqdm\n",
    "\n",
    "pretty.install()\n",
    "\n",
    "sb.set_theme(style=\"ticks\", context=\"paper\")\n",
    "\n",
    "results_dir = \"../results/functional_connectivity/\"\n",
    "data_dir = \"../data/preprocessing/\"\n",
    "data_out_dir = \"../data/functional_connectivity/\"\n",
    "Path(results_dir).mkdir(parents=True, exist_ok=True)\n",
    "Path(data_dir).mkdir(parents=True, exist_ok=True)\n",
    "Path(data_out_dir).mkdir(parents=True, exist_ok=True)"
   ]
  },
  {
   "cell_type": "markdown",
   "metadata": {},
   "source": [
    "## Load data"
   ]
  },
  {
   "cell_type": "code",
   "execution_count": 3,
   "metadata": {},
   "outputs": [],
   "source": [
    "# cropped6_data = pk.load(open('../data/sixconditiondata.pkl', 'rb'))\n",
    "cropped6_data = pk.load(open(f\"{data_dir}EEG_per_condition_dict.pkl\", \"rb\"))"
   ]
  },
  {
   "cell_type": "markdown",
   "metadata": {},
   "source": [
    "## Divide into windows (and downsample if needed)"
   ]
  },
  {
   "cell_type": "code",
   "execution_count": 50,
   "metadata": {},
   "outputs": [],
   "source": [
    "skip = 25  # factor by which the input data is to be downsampled\n",
    "n_windows = 1  # number of equally-sized windows into which a condition is divided"
   ]
  },
  {
   "cell_type": "code",
   "execution_count": 51,
   "metadata": {},
   "outputs": [],
   "source": [
    "# empty dictionary\n",
    "prep_data = dict()\n",
    "\n",
    "for key in cropped6_data:\n",
    "    filename = cropped6_data[key][\"file\"]\n",
    "    group = cropped6_data[key][\"group\"]\n",
    "    subject = cropped6_data[key][\"subject\"]\n",
    "    condition = cropped6_data[key][\"condition\"]\n",
    "    serie = cropped6_data[key][\"series\"]\n",
    "    chs = cropped6_data[key][\"channels\"]\n",
    "\n",
    "    # trim time series to desired length\n",
    "    # trimmed_series = trim(serie, i_ini = i_ini, i_end = i_end, max_length = max_length)\n",
    "\n",
    "    downsampled_series = downsample(serie, skip=skip)\n",
    "    windowed_series = windowing(downsampled_series, n_windows=n_windows)\n",
    "\n",
    "    for i in range(n_windows):\n",
    "\n",
    "        window_key = f\"{subject}_{condition}_{i}\"\n",
    "        prep_data[window_key] = dict()\n",
    "\n",
    "        prep_data[window_key][\"file\"] = window_key\n",
    "        prep_data[window_key][\"group\"] = group\n",
    "        prep_data[window_key][\"subject\"] = subject\n",
    "        prep_data[window_key][\"condition\"] = condition\n",
    "        prep_data[window_key][\"window\"] = i\n",
    "        prep_data[window_key][\"series\"] = windowed_series[i]\n",
    "        prep_data[window_key][\"channels\"] = chs"
   ]
  },
  {
   "cell_type": "code",
   "execution_count": 52,
   "metadata": {},
   "outputs": [],
   "source": [
    "# pandas DataFrame from the prep_data_dict\n",
    "prep_data_df = pd.DataFrame.from_dict(prep_data, orient=\"index\")"
   ]
  },
  {
   "cell_type": "code",
   "execution_count": 53,
   "metadata": {},
   "outputs": [
    {
     "data": {
      "text/html": [
       "<pre style=\"white-space:pre;overflow-x:auto;line-height:normal;font-family:Menlo,'DejaVu Sans Mono',consolas,'Courier New',monospace\"></pre>\n"
      ],
      "text/plain": []
     },
     "metadata": {},
     "output_type": "display_data"
    },
    {
     "data": {
      "text/plain": [
       "\u001b[1m(\u001b[0m\u001b[1;36m16\u001b[0m, \u001b[1;36m999\u001b[0m\u001b[1m)\u001b[0m"
      ]
     },
     "execution_count": 53,
     "metadata": {},
     "output_type": "execute_result"
    }
   ],
   "source": [
    "prep_data_df.loc[\"07_ROE_0\"][\"series\"].shape"
   ]
  },
  {
   "cell_type": "code",
   "execution_count": 54,
   "metadata": {},
   "outputs": [
    {
     "data": {
      "text/html": [
       "<pre style=\"white-space:pre;overflow-x:auto;line-height:normal;font-family:Menlo,'DejaVu Sans Mono',consolas,'Courier New',monospace\"></pre>\n"
      ],
      "text/plain": []
     },
     "metadata": {},
     "output_type": "display_data"
    },
    {
     "data": {
      "text/html": [
       "<div>\n",
       "<style scoped>\n",
       "    .dataframe tbody tr th:only-of-type {\n",
       "        vertical-align: middle;\n",
       "    }\n",
       "\n",
       "    .dataframe tbody tr th {\n",
       "        vertical-align: top;\n",
       "    }\n",
       "\n",
       "    .dataframe thead th {\n",
       "        text-align: right;\n",
       "    }\n",
       "</style>\n",
       "<table border=\"1\" class=\"dataframe\">\n",
       "  <thead>\n",
       "    <tr style=\"text-align: right;\">\n",
       "      <th></th>\n",
       "      <th>file</th>\n",
       "      <th>group</th>\n",
       "      <th>subject</th>\n",
       "      <th>condition</th>\n",
       "      <th>window</th>\n",
       "      <th>series</th>\n",
       "      <th>channels</th>\n",
       "    </tr>\n",
       "  </thead>\n",
       "  <tbody>\n",
       "    <tr>\n",
       "      <th>01_ROE_0</th>\n",
       "      <td>01_ROE_0</td>\n",
       "      <td>high</td>\n",
       "      <td>01</td>\n",
       "      <td>ROE</td>\n",
       "      <td>0</td>\n",
       "      <td>[[1.0079775810241698e-05, 6.223475456237792e-0...</td>\n",
       "      <td>[F7, F3, FZ, F4, F8, C3, C4, T7, CZ, T8, P3, P...</td>\n",
       "    </tr>\n",
       "    <tr>\n",
       "      <th>01_RCE_0</th>\n",
       "      <td>01_RCE_0</td>\n",
       "      <td>high</td>\n",
       "      <td>01</td>\n",
       "      <td>RCE</td>\n",
       "      <td>0</td>\n",
       "      <td>[[3.207792043685913e-06, 3.089810609817505e-06...</td>\n",
       "      <td>[F7, F3, FZ, F4, F8, C3, C4, T7, CZ, T8, P3, P...</td>\n",
       "    </tr>\n",
       "    <tr>\n",
       "      <th>01_IND1_0</th>\n",
       "      <td>01_IND1_0</td>\n",
       "      <td>high</td>\n",
       "      <td>01</td>\n",
       "      <td>IND1</td>\n",
       "      <td>0</td>\n",
       "      <td>[[-4.318517208099365e-06, -4.166403770446777e-...</td>\n",
       "      <td>[F7, F3, FZ, F4, F8, C3, C4, T7, CZ, T8, P3, P...</td>\n",
       "    </tr>\n",
       "    <tr>\n",
       "      <th>01_IND2_0</th>\n",
       "      <td>01_IND2_0</td>\n",
       "      <td>high</td>\n",
       "      <td>01</td>\n",
       "      <td>IND2</td>\n",
       "      <td>0</td>\n",
       "      <td>[[1.0585275888442992e-06, 2.9010703563690185e-...</td>\n",
       "      <td>[F7, F3, FZ, F4, F8, C3, C4, T7, CZ, T8, P3, P...</td>\n",
       "    </tr>\n",
       "    <tr>\n",
       "      <th>01_NH_0</th>\n",
       "      <td>01_NH_0</td>\n",
       "      <td>high</td>\n",
       "      <td>01</td>\n",
       "      <td>NH</td>\n",
       "      <td>0</td>\n",
       "      <td>[[-4.6376829147338864e-06, 9.220789074897765e-...</td>\n",
       "      <td>[F7, F3, FZ, F4, F8, C3, C4, T7, CZ, T8, P3, P...</td>\n",
       "    </tr>\n",
       "    <tr>\n",
       "      <th>...</th>\n",
       "      <td>...</td>\n",
       "      <td>...</td>\n",
       "      <td>...</td>\n",
       "      <td>...</td>\n",
       "      <td>...</td>\n",
       "      <td>...</td>\n",
       "      <td>...</td>\n",
       "    </tr>\n",
       "    <tr>\n",
       "      <th>31_RCE_0</th>\n",
       "      <td>31_RCE_0</td>\n",
       "      <td>low</td>\n",
       "      <td>31</td>\n",
       "      <td>RCE</td>\n",
       "      <td>0</td>\n",
       "      <td>[[3.0984611511230466e-06, 4.155732631683349e-0...</td>\n",
       "      <td>[F7, F3, FZ, F4, F8, C3, C4, T7, CZ, T8, P3, P...</td>\n",
       "    </tr>\n",
       "    <tr>\n",
       "      <th>31_IND1_0</th>\n",
       "      <td>31_IND1_0</td>\n",
       "      <td>low</td>\n",
       "      <td>31</td>\n",
       "      <td>IND1</td>\n",
       "      <td>0</td>\n",
       "      <td>[[8.021036148071288e-06, 3.1144559383392333e-0...</td>\n",
       "      <td>[F7, F3, FZ, F4, F8, C3, C4, T7, CZ, T8, P3, P...</td>\n",
       "    </tr>\n",
       "    <tr>\n",
       "      <th>31_IND2_0</th>\n",
       "      <td>31_IND2_0</td>\n",
       "      <td>low</td>\n",
       "      <td>31</td>\n",
       "      <td>IND2</td>\n",
       "      <td>0</td>\n",
       "      <td>[[7.2614860534667964e-06, 7.123832702636719e-0...</td>\n",
       "      <td>[F7, F3, FZ, F4, F8, C3, C4, T7, CZ, T8, P3, P...</td>\n",
       "    </tr>\n",
       "    <tr>\n",
       "      <th>31_NH_0</th>\n",
       "      <td>31_NH_0</td>\n",
       "      <td>low</td>\n",
       "      <td>31</td>\n",
       "      <td>NH</td>\n",
       "      <td>0</td>\n",
       "      <td>[[4.52498197555542e-08, 3.796555399894714e-07,...</td>\n",
       "      <td>[F7, F3, FZ, F4, F8, C3, C4, T7, CZ, T8, P3, P...</td>\n",
       "    </tr>\n",
       "    <tr>\n",
       "      <th>31_POST_0</th>\n",
       "      <td>31_POST_0</td>\n",
       "      <td>low</td>\n",
       "      <td>31</td>\n",
       "      <td>POST</td>\n",
       "      <td>0</td>\n",
       "      <td>[[-3.4078838825225827e-06, 8.972633481025695e-...</td>\n",
       "      <td>[F7, F3, FZ, F4, F8, C3, C4, T7, CZ, T8, P3, P...</td>\n",
       "    </tr>\n",
       "  </tbody>\n",
       "</table>\n",
       "<p>180 rows × 7 columns</p>\n",
       "</div>"
      ],
      "text/plain": [
       "\n",
       "                file group subject condition  window   \n",
       "01_ROE_0    01_ROE_0  high      \u001b[1;36m01\u001b[0m       ROE       \u001b[1;36m0\u001b[0m  \\\n",
       "01_RCE_0    01_RCE_0  high      \u001b[1;36m01\u001b[0m       RCE       \u001b[1;36m0\u001b[0m   \n",
       "01_IND1_0  01_IND1_0  high      \u001b[1;36m01\u001b[0m      IND1       \u001b[1;36m0\u001b[0m   \n",
       "01_IND2_0  01_IND2_0  high      \u001b[1;36m01\u001b[0m      IND2       \u001b[1;36m0\u001b[0m   \n",
       "01_NH_0      01_NH_0  high      \u001b[1;36m01\u001b[0m        NH       \u001b[1;36m0\u001b[0m   \n",
       "\u001b[33m...\u001b[0m              \u001b[33m...\u001b[0m   \u001b[33m...\u001b[0m     \u001b[33m...\u001b[0m       \u001b[33m...\u001b[0m     \u001b[33m...\u001b[0m   \n",
       "31_RCE_0    31_RCE_0   low      \u001b[1;36m31\u001b[0m       RCE       \u001b[1;36m0\u001b[0m   \n",
       "31_IND1_0  31_IND1_0   low      \u001b[1;36m31\u001b[0m      IND1       \u001b[1;36m0\u001b[0m   \n",
       "31_IND2_0  31_IND2_0   low      \u001b[1;36m31\u001b[0m      IND2       \u001b[1;36m0\u001b[0m   \n",
       "31_NH_0      31_NH_0   low      \u001b[1;36m31\u001b[0m        NH       \u001b[1;36m0\u001b[0m   \n",
       "31_POST_0  31_POST_0   low      \u001b[1;36m31\u001b[0m      POST       \u001b[1;36m0\u001b[0m   \n",
       "\n",
       "                                                      series   \n",
       "01_ROE_0   \u001b[1m[\u001b[0m\u001b[1m[\u001b[0m\u001b[1;36m1.0079775810241698e-05\u001b[0m, \u001b[1;36m6.223475456237792e-0\u001b[0m\u001b[33m...\u001b[0m  \\\n",
       "01_RCE_0   \u001b[1m[\u001b[0m\u001b[1m[\u001b[0m\u001b[1;36m3.207792043685913e-06\u001b[0m, \u001b[1;36m3.089810609817505e-06\u001b[0m\u001b[33m...\u001b[0m   \n",
       "01_IND1_0  \u001b[1m[\u001b[0m\u001b[1m[\u001b[0m\u001b[1;36m-4.318517208099365e-06\u001b[0m, \u001b[1;36m-4.\u001b[0m166403770446777e-\u001b[33m...\u001b[0m   \n",
       "01_IND2_0  \u001b[1m[\u001b[0m\u001b[1m[\u001b[0m\u001b[1;36m1.0585275888442992e-06\u001b[0m, \u001b[1;36m2.\u001b[0m9010703563690185e-\u001b[33m...\u001b[0m   \n",
       "01_NH_0    \u001b[1m[\u001b[0m\u001b[1m[\u001b[0m\u001b[1;36m-4.6376829147338864e-06\u001b[0m, \u001b[1;36m9.\u001b[0m220789074897765e-\u001b[33m...\u001b[0m   \n",
       "\u001b[33m...\u001b[0m                                                      \u001b[33m...\u001b[0m   \n",
       "31_RCE_0   \u001b[1m[\u001b[0m\u001b[1m[\u001b[0m\u001b[1;36m3.0984611511230466e-06\u001b[0m, \u001b[1;36m4.155732631683349e-0\u001b[0m\u001b[33m...\u001b[0m   \n",
       "31_IND1_0  \u001b[1m[\u001b[0m\u001b[1m[\u001b[0m\u001b[1;36m8.021036148071288e-06\u001b[0m, \u001b[1;36m3.1144559383392333e-0\u001b[0m\u001b[33m...\u001b[0m   \n",
       "31_IND2_0  \u001b[1m[\u001b[0m\u001b[1m[\u001b[0m\u001b[1;36m7.2614860534667964e-06\u001b[0m, \u001b[1;36m7.123832702636719e-0\u001b[0m\u001b[33m...\u001b[0m   \n",
       "31_NH_0    \u001b[1m[\u001b[0m\u001b[1m[\u001b[0m\u001b[1;36m4.52498197555542e-08\u001b[0m, \u001b[1;36m3.796555399894714e-07\u001b[0m,\u001b[33m...\u001b[0m   \n",
       "31_POST_0  \u001b[1m[\u001b[0m\u001b[1m[\u001b[0m\u001b[1;36m-3.4078838825225827e-06\u001b[0m, \u001b[1;36m8.\u001b[0m972633481025695e-\u001b[33m...\u001b[0m   \n",
       "\n",
       "                                                    channels  \n",
       "01_ROE_0   \u001b[1m[\u001b[0mF7, F3, FZ, F4, F8, C3, C4, T7, CZ, T8, P3, P\u001b[33m...\u001b[0m  \n",
       "01_RCE_0   \u001b[1m[\u001b[0mF7, F3, FZ, F4, F8, C3, C4, T7, CZ, T8, P3, P\u001b[33m...\u001b[0m  \n",
       "01_IND1_0  \u001b[1m[\u001b[0mF7, F3, FZ, F4, F8, C3, C4, T7, CZ, T8, P3, P\u001b[33m...\u001b[0m  \n",
       "01_IND2_0  \u001b[1m[\u001b[0mF7, F3, FZ, F4, F8, C3, C4, T7, CZ, T8, P3, P\u001b[33m...\u001b[0m  \n",
       "01_NH_0    \u001b[1m[\u001b[0mF7, F3, FZ, F4, F8, C3, C4, T7, CZ, T8, P3, P\u001b[33m...\u001b[0m  \n",
       "\u001b[33m...\u001b[0m                                                      \u001b[33m...\u001b[0m  \n",
       "31_RCE_0   \u001b[1m[\u001b[0mF7, F3, FZ, F4, F8, C3, C4, T7, CZ, T8, P3, P\u001b[33m...\u001b[0m  \n",
       "31_IND1_0  \u001b[1m[\u001b[0mF7, F3, FZ, F4, F8, C3, C4, T7, CZ, T8, P3, P\u001b[33m...\u001b[0m  \n",
       "31_IND2_0  \u001b[1m[\u001b[0mF7, F3, FZ, F4, F8, C3, C4, T7, CZ, T8, P3, P\u001b[33m...\u001b[0m  \n",
       "31_NH_0    \u001b[1m[\u001b[0mF7, F3, FZ, F4, F8, C3, C4, T7, CZ, T8, P3, P\u001b[33m...\u001b[0m  \n",
       "31_POST_0  \u001b[1m[\u001b[0mF7, F3, FZ, F4, F8, C3, C4, T7, CZ, T8, P3, P\u001b[33m...\u001b[0m  \n",
       "\n",
       "\u001b[1m[\u001b[0m\u001b[1;36m180\u001b[0m rows x \u001b[1;36m7\u001b[0m columns\u001b[1m]\u001b[0m"
      ]
     },
     "execution_count": 54,
     "metadata": {},
     "output_type": "execute_result"
    }
   ],
   "source": [
    "prep_data_df"
   ]
  },
  {
   "cell_type": "markdown",
   "metadata": {},
   "source": [
    "## EEG data storage"
   ]
  },
  {
   "cell_type": "code",
   "execution_count": 55,
   "metadata": {},
   "outputs": [],
   "source": [
    "pk.dump(\n",
    "    prep_data_df,\n",
    "    open(f\"{data_dir}EEG_{n_windows}wind_per_condition_skip_{skip}_df.pkl\", \"wb\"),\n",
    ")"
   ]
  },
  {
   "cell_type": "code",
   "execution_count": 56,
   "metadata": {},
   "outputs": [],
   "source": [
    "# prep_data_df.to_csv(f\"{data_dir}EEG_{n_windows}wind_per_condition_skip_{skip}_df.csv\", index=False)"
   ]
  },
  {
   "cell_type": "code",
   "execution_count": 111,
   "metadata": {},
   "outputs": [],
   "source": [
    "# pk.dump(prep_data_df, open('../data/corrprepdatadf.pkl', 'wb'))"
   ]
  },
  {
   "cell_type": "code",
   "execution_count": null,
   "metadata": {},
   "outputs": [],
   "source": []
  }
 ],
 "metadata": {
  "kernelspec": {
   "display_name": "venv_hypno",
   "language": "python",
   "name": "venv_hypno"
  },
  "language_info": {
   "codemirror_mode": {
    "name": "ipython",
    "version": 3
   },
   "file_extension": ".py",
   "mimetype": "text/x-python",
   "name": "python",
   "nbconvert_exporter": "python",
   "pygments_lexer": "ipython3",
   "version": "3.9.19"
  },
  "toc": {
   "base_numbering": 1,
   "nav_menu": {},
   "number_sections": true,
   "sideBar": true,
   "skip_h1_title": false,
   "title_cell": "Table of Contents",
   "title_sidebar": "Contents",
   "toc_cell": false,
   "toc_position": {},
   "toc_section_display": true,
   "toc_window_display": true
  }
 },
 "nbformat": 4,
 "nbformat_minor": 4
}
