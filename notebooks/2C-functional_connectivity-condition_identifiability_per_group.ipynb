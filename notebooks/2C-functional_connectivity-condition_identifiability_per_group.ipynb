{
 "cells": [
  {
   "cell_type": "markdown",
   "metadata": {},
   "source": [
    "# Functional connectivity: condition identifiability per group "
   ]
  },
  {
   "cell_type": "code",
   "execution_count": 1,
   "metadata": {},
   "outputs": [],
   "source": [
    "# import necessary libraries\n",
    "import pickle as pk\n",
    "import warnings\n",
    "from itertools import combinations\n",
    "from pathlib import Path\n",
    "\n",
    "import matplotlib.pyplot as plt\n",
    "import matplotlib.ticker as ticker\n",
    "import mne\n",
    "import numpy as np\n",
    "import pandas as pd\n",
    "import seaborn as sb\n",
    "from rich import inspect, pretty, print\n",
    "from rich.progress import track\n",
    "from scipy.signal import hilbert\n",
    "from scipy.stats import pearsonr\n",
    "from seaborn import heatmap\n",
    "from sklearn.metrics.pairwise import pairwise_distances\n",
    "from tda import windowing\n",
    "from tqdm import tqdm\n",
    "\n",
    "pretty.install()\n",
    "\n",
    "sb.set_theme(style=\"ticks\", context=\"paper\")\n",
    "\n",
    "results_dir = \"../results/functional_connectivity/\"\n",
    "data_dir = \"../data/preprocessing/\"\n",
    "data_out_dir = \"../data/functional_connectivity/\"\n",
    "Path(results_dir).mkdir(parents=True, exist_ok=True)\n",
    "Path(data_dir).mkdir(parents=True, exist_ok=True)\n",
    "Path(data_out_dir).mkdir(parents=True, exist_ok=True)"
   ]
  },
  {
   "cell_type": "markdown",
   "metadata": {},
   "source": [
    "## Load data"
   ]
  },
  {
   "cell_type": "code",
   "execution_count": 2,
   "metadata": {},
   "outputs": [],
   "source": [
    "# croppeddata = pk.load(open(\"../data//sixconditiondata.pkl\", \"rb\"))\n",
    "croppeddata = pk.load(open(f\"{data_dir}EEG_per_condition_dict.pkl\", \"rb\"))\n",
    "# croppeddatadf = pk.load(open(\"../data/sixconditiondatadf.pkl\", \"rb\"))"
   ]
  },
  {
   "cell_type": "code",
   "execution_count": 3,
   "metadata": {},
   "outputs": [],
   "source": [
    "n_windows = 1  # per conditions"
   ]
  },
  {
   "cell_type": "code",
   "execution_count": 4,
   "metadata": {},
   "outputs": [
    {
     "data": {
      "text/html": [
       "<pre style=\"white-space:pre;overflow-x:auto;line-height:normal;font-family:Menlo,'DejaVu Sans Mono',consolas,'Courier New',monospace\">Working... <span style=\"color: #729c1f; text-decoration-color: #729c1f\">━━━━━━━━━━━━━━━━━━━━━━━━━━━━━━━━━━━━━━━━</span> <span style=\"color: #800080; text-decoration-color: #800080\">100%</span> <span style=\"color: #808000; text-decoration-color: #808000\">0:00:01</span>\n",
       "</pre>\n"
      ],
      "text/plain": [
       "Working... \u001b[38;2;114;156;31m━━━━━━━━━━━━━━━━━━━━━━━━━━━━━━━━━━━━━━━━\u001b[0m \u001b[35m100%\u001b[0m \u001b[33m0:00:01\u001b[0m\n"
      ]
     },
     "metadata": {},
     "output_type": "display_data"
    },
    {
     "data": {
      "text/html": [
       "<pre style=\"white-space:pre;overflow-x:auto;line-height:normal;font-family:Menlo,'DejaVu Sans Mono',consolas,'Courier New',monospace\"></pre>\n"
      ],
      "text/plain": []
     },
     "metadata": {},
     "output_type": "display_data"
    }
   ],
   "source": [
    "# empty dictionary to store EEG data\n",
    "croppeddatacorr = dict()\n",
    "\n",
    "# loop through each file in the list of EEG files\n",
    "for key in track(croppeddata):\n",
    "    # extract information from the dictionary\n",
    "    subject = croppeddata[key][\"subject\"]\n",
    "    group = croppeddata[key][\"group\"]\n",
    "    serie = croppeddata[key][\"series\"]\n",
    "    condition = croppeddata[key][\"condition\"]\n",
    "    ch = croppeddata[key][\"channels\"]\n",
    "    raw_data = pd.DataFrame(serie.T, columns=ch)\n",
    "    corr = raw_data.corr()\n",
    "\n",
    "    if group not in croppeddatacorr:\n",
    "        croppeddatacorr[group] = dict()\n",
    "    if condition not in croppeddatacorr[group]:\n",
    "        croppeddatacorr[group][condition] = dict()\n",
    "    if subject not in croppeddatacorr[group][condition]:\n",
    "        croppeddatacorr[group][condition][subject] = dict()\n",
    "\n",
    "    croppeddatacorr[group][condition][subject] = corr"
   ]
  },
  {
   "cell_type": "markdown",
   "metadata": {},
   "source": [
    "## Identifiability of conditions, between different subjects"
   ]
  },
  {
   "cell_type": "markdown",
   "metadata": {},
   "source": [
    "### Compute Iself and Iothers"
   ]
  },
  {
   "cell_type": "code",
   "execution_count": 8,
   "metadata": {},
   "outputs": [],
   "source": [
    "condition_list = [\"ROE\", \"RCE\", \"IND1\", \"IND2\", \"NH\", \"POST\"]\n",
    "highs_list = [\n",
    "    \"01\",\n",
    "    \"02\",\n",
    "    \"03\",\n",
    "    \"04\",\n",
    "    \"05\",\n",
    "    \"06\",\n",
    "    \"07\",\n",
    "    \"08\",\n",
    "    \"09\",\n",
    "    \"10\",\n",
    "    \"11\",\n",
    "    \"13\",\n",
    "    \"14\",\n",
    "    \"15\",\n",
    "    \"16\",\n",
    "]\n",
    "lows_list = [\n",
    "    \"17\",\n",
    "    \"18\",\n",
    "    \"19\",\n",
    "    \"20\",\n",
    "    \"21\",\n",
    "    \"22\",\n",
    "    \"23\",\n",
    "    \"24\",\n",
    "    \"25\",\n",
    "    \"26\",\n",
    "    \"27\",\n",
    "    \"28\",\n",
    "    \"29\",\n",
    "    \"30\",\n",
    "    \"31\",\n",
    "]"
   ]
  },
  {
   "cell_type": "code",
   "execution_count": 9,
   "metadata": {},
   "outputs": [],
   "source": [
    "my_group = \"high\"\n",
    "\n",
    "idmatrix_dict = dict()\n",
    "idmatrix_dict[my_group] = dict()\n",
    "idmatrix = np.zeros((len(condition_list), len(condition_list)))\n",
    "\n",
    "for i, condition_i in enumerate(condition_list):\n",
    "    FC_i = []\n",
    "    # print(condition_i)\n",
    "    for k, subject_k in enumerate(highs_list):\n",
    "        FC_i.append(\n",
    "            croppeddatacorr[my_group][condition_i][subject_k].to_numpy().flatten()\n",
    "        )\n",
    "\n",
    "        for j, condition_j in enumerate(condition_list):\n",
    "            FC_j = []\n",
    "            for m, subject_m in enumerate(highs_list):\n",
    "                FC_j.append(\n",
    "                    croppeddatacorr[my_group][condition_j][subject_m]\n",
    "                    .to_numpy()\n",
    "                    .flatten()\n",
    "                )\n",
    "\n",
    "            if k != m:\n",
    "                if i != j:\n",
    "                    idmatrix[i, j] = np.mean(\n",
    "                        [\n",
    "                            np.corrcoef(FC_i[n], FC_j[l])[0, 1]\n",
    "                            for n in range(len(FC_i))\n",
    "                            for l in range(len(FC_j))\n",
    "                        ]\n",
    "                    )\n",
    "                elif i == j:\n",
    "                    idmatrix[i, j] = np.mean(\n",
    "                        [\n",
    "                            np.corrcoef(FC_i[n], FC_j[l])[0, 1]\n",
    "                            for n in range(len(FC_i))\n",
    "                            for l in range(len(FC_j))\n",
    "                        ]\n",
    "                    )\n",
    "\n",
    "idmatrix_dict[my_group][\"idmatrix\"] = idmatrix"
   ]
  },
  {
   "cell_type": "code",
   "execution_count": 10,
   "metadata": {},
   "outputs": [],
   "source": [
    "my_group = \"low\"\n",
    "\n",
    "idmatrix_dict[my_group] = dict()\n",
    "idmatrix = np.zeros((len(condition_list), len(condition_list)))\n",
    "\n",
    "for i, condition_i in enumerate(condition_list):\n",
    "    FC_i = []\n",
    "    # print(condition_i)\n",
    "    for k, subject_k in enumerate(lows_list):\n",
    "        FC_i.append(\n",
    "            croppeddatacorr[my_group][condition_i][subject_k].to_numpy().flatten()\n",
    "        )\n",
    "\n",
    "        for j, condition_j in enumerate(condition_list):\n",
    "            FC_j = []\n",
    "            for m, subject_m in enumerate(lows_list):\n",
    "                FC_j.append(\n",
    "                    croppeddatacorr[my_group][condition_j][subject_m]\n",
    "                    .to_numpy()\n",
    "                    .flatten()\n",
    "                )\n",
    "\n",
    "            if k != m:\n",
    "                if i != j:\n",
    "                    idmatrix[i, j] = np.mean(\n",
    "                        [\n",
    "                            np.corrcoef(FC_i[n], FC_j[l])[0, 1]\n",
    "                            for n in range(len(FC_i))\n",
    "                            for l in range(len(FC_j))\n",
    "                        ]\n",
    "                    )\n",
    "                elif i == j:\n",
    "                    idmatrix[i, j] = np.mean(\n",
    "                        [\n",
    "                            np.corrcoef(FC_i[n], FC_j[l])[0, 1]\n",
    "                            for n in range(len(FC_i))\n",
    "                            for l in range(len(FC_j))\n",
    "                        ]\n",
    "                    )\n",
    "\n",
    "idmatrix_dict[my_group][\"idmatrix\"] = idmatrix"
   ]
  },
  {
   "cell_type": "markdown",
   "metadata": {},
   "source": [
    "### Compute Idiff"
   ]
  },
  {
   "cell_type": "code",
   "execution_count": 11,
   "metadata": {},
   "outputs": [],
   "source": [
    "idiffs_dict = dict()\n",
    "\n",
    "for my_group in idmatrix_dict:\n",
    "    idiffs_dict[my_group] = dict()\n",
    "    idmatrix = idmatrix_dict[my_group][\"idmatrix\"]\n",
    "\n",
    "    for i, condition_i in enumerate(condition_list):\n",
    "        idiffs_dict[my_group][condition_i] = dict()\n",
    "\n",
    "        iself_value = idmatrix[i, i]\n",
    "        idiffs_dict[my_group][condition_i][\"iself\"] = iself_value\n",
    "\n",
    "        iothers_sum = 0.0\n",
    "        for j, condition_j in enumerate(condition_list):\n",
    "            if i != j:\n",
    "                iothers_sum += idmatrix[i, j] + idmatrix[j, i]\n",
    "        iothers_mean = iothers_sum / (2 * (len(condition_list) - 1))\n",
    "        idiffs_dict[my_group][condition_i][\"iothers\"] = iothers_mean"
   ]
  },
  {
   "cell_type": "code",
   "execution_count": 12,
   "metadata": {},
   "outputs": [],
   "source": [
    "iself_values = []\n",
    "iothers_values = []\n",
    "\n",
    "# Calcolo delle medie\n",
    "for my_group in idiffs_dict:\n",
    "    for condition in idiffs_dict[my_group]:\n",
    "        iself_value = idiffs_dict[my_group][condition][\"iself\"]\n",
    "        iothers_value = idiffs_dict[my_group][condition][\"iothers\"]\n",
    "\n",
    "        iself_values.append(iself_value)\n",
    "        iothers_values.append(iothers_value)\n",
    "\n",
    "    # Calcolo delle medie complessive\n",
    "    iself_mean = np.mean(iself_values)\n",
    "    iothers_mean = np.mean(iothers_values)\n",
    "\n",
    "    # Calcolo della differenza\n",
    "    idiff = iself_mean - iothers_mean\n",
    "\n",
    "    idiffs_dict[my_group][\"idiff\"] = idiff"
   ]
  },
  {
   "cell_type": "markdown",
   "metadata": {},
   "source": [
    "### Draw identifiability matrix between conditions"
   ]
  },
  {
   "cell_type": "code",
   "execution_count": 22,
   "metadata": {},
   "outputs": [
    {
     "data": {
      "text/html": [
       "<pre style=\"white-space:pre;overflow-x:auto;line-height:normal;font-family:Menlo,'DejaVu Sans Mono',consolas,'Courier New',monospace\"></pre>\n"
      ],
      "text/plain": []
     },
     "metadata": {},
     "output_type": "display_data"
    },
    {
     "data": {
      "image/png": "[encoded data removed]",
      "text/plain": [
       "\u001b[1m<\u001b[0m\u001b[1;95mFigure\u001b[0m\u001b[39m size 216x144 with \u001b[0m\u001b[1;36m3\u001b[0m\u001b[39m Axes\u001b[0m\u001b[1m>\u001b[0m"
      ]
     },
     "metadata": {
      "needs_background": "light"
     },
     "output_type": "display_data"
    }
   ],
   "source": [
    "cmap = sb.color_palette(\"light:b\", as_cmap=True)\n",
    "\n",
    "\n",
    "fig, (ax1, ax2) = plt.subplots(1, 2, sharey=True, figsize=(3, 2), layout=\"constrained\")\n",
    "\n",
    "sb.heatmap(\n",
    "    idmatrix_dict[\"high\"][\"idmatrix\"],\n",
    "    cmap=cmap,\n",
    "    cbar=False,\n",
    "    square=True,\n",
    "    vmin=0.5,  # Sostituisci con il valore minimo desiderato\n",
    "    vmax=0.8,\n",
    "    ax=ax1,\n",
    "    xticklabels=condition_list,  # subject_list_high,\n",
    "    yticklabels=condition_list,\n",
    ")\n",
    "\n",
    "ax1.set_title(\"Highs\", style=\"italic\")\n",
    "\n",
    "idiff_high = idiffs_dict[\"high\"][\"idiff\"]\n",
    "t = ax1.text(\n",
    "    0.95,\n",
    "    0.95,\n",
    "    f\"Idiff: {idiff_high:.3f}\",\n",
    "    va=\"top\",\n",
    "    ha=\"right\",\n",
    "    transform=ax1.transAxes,\n",
    "    color=\"w\",\n",
    ")\n",
    "t.set_bbox(dict(facecolor=\"grey\", alpha=0.5, boxstyle=\"round,pad=0.2\"))\n",
    "\n",
    "\n",
    "sb.heatmap(\n",
    "    idmatrix_dict[\"low\"][\"idmatrix\"],\n",
    "    cmap=cmap,\n",
    "    cbar=True,\n",
    "    square=True,\n",
    "    vmin=0.5,  # Sostituisci con il valore minimo desiderato\n",
    "    vmax=0.8,\n",
    "    ax=ax2,\n",
    "    cbar_kws=dict(shrink=0.5),\n",
    "    xticklabels=condition_list,  # subject_list_high,\n",
    "    yticklabels=condition_list,\n",
    ")\n",
    "\n",
    "ax2.set_title(\"Lows\", style=\"italic\")\n",
    "\n",
    "idiff_low = idiffs_dict[\"low\"][\"idiff\"]\n",
    "\n",
    "t = ax2.text(\n",
    "    0.95,\n",
    "    0.95,\n",
    "    f\"Idiff: {idiff_low:.3f}\",\n",
    "    va=\"top\",\n",
    "    ha=\"right\",\n",
    "    transform=ax2.transAxes,\n",
    "    color=\"w\",\n",
    ")\n",
    "t.set_bbox(dict(facecolor=\"grey\", alpha=0.5, boxstyle=\"round,pad=0.2\"))\n",
    "\n",
    "\n",
    "title = f\"Identifiability matrix: {condition}\"\n",
    "plt.suptitle(title)\n",
    "# plt.subplots_adjust(top=0.85)\n",
    "\n",
    "ax1.set_ylabel(\"Condition i\")\n",
    "ax1.set_xlabel(\"Condition j\")\n",
    "ax2.set_xlabel(\"Condition j\")\n",
    "\n",
    "title = \"Avg identifiability matrix\"\n",
    "plt.suptitle(title)\n",
    "\n",
    "fig_name = f\"FC_condition_idiff_matrix_avg_highlow_btw_subjects_{n_windows}_windows\"\n",
    "plt.savefig(f\"{results_dir}{fig_name}.png\", facecolor=\"w\", dpi=250, bbox_inches=\"tight\")\n",
    "\n",
    "\n",
    "plt.show()\n",
    "# plt.close()"
   ]
  },
  {
   "cell_type": "markdown",
   "metadata": {},
   "source": [
    "### Viz Idiff distributions"
   ]
  },
  {
   "cell_type": "code",
   "execution_count": 23,
   "metadata": {},
   "outputs": [],
   "source": [
    "idiff_distribution = dict()\n",
    "\n",
    "idiff_distribution[\"high\"] = dict()\n",
    "\n",
    "idmatrix_highs = idmatrix_dict[\"high\"][\"idmatrix\"]\n",
    "\n",
    "for i, condition in enumerate(condition_list):\n",
    "    idiff_i = idmatrix_highs[i, i] - np.mean(np.delete(idmatrix_highs[i, :], i))\n",
    "    idiff_distribution[\"high\"][condition] = idiff_i"
   ]
  },
  {
   "cell_type": "code",
   "execution_count": 24,
   "metadata": {},
   "outputs": [],
   "source": [
    "idiff_distribution[\"low\"] = dict()\n",
    "\n",
    "idmatrix_lows = idmatrix_dict[\"low\"][\"idmatrix\"]\n",
    "\n",
    "for i, condition in enumerate(condition_list):\n",
    "    idiff_i = idmatrix_lows[i, i] - np.mean(np.delete(idmatrix_lows[i, :], i))\n",
    "    idiff_distribution[\"low\"][condition] = idiff_i"
   ]
  },
  {
   "cell_type": "code",
   "execution_count": 25,
   "metadata": {},
   "outputs": [],
   "source": [
    "data = []\n",
    "for key1, value1 in idiff_distribution.items():\n",
    "    for key2, value2 in value1.items():\n",
    "        data.append({\"Group\": key1, \"Condition\": key2, \"Data\": value2})\n",
    "\n",
    "# Creazione del DataFrame\n",
    "df = pd.DataFrame(data)"
   ]
  },
  {
   "cell_type": "code",
   "execution_count": 32,
   "metadata": {},
   "outputs": [
    {
     "name": "stdout",
     "output_type": "stream",
     "text": [
      "p-value annotation legend:\n",
      "      ns: p <= 1.00e+00\n",
      "       *: 1.00e-02 < p <= 5.00e-02\n",
      "      **: 1.00e-03 < p <= 1.00e-02\n",
      "     ***: 1.00e-04 < p <= 1.00e-03\n",
      "    ****: p <= 1.00e-04\n",
      "\n",
      "high vs. low: Wilcoxon test (paired samples), P_val:6.875e-01 Stat=8.000e+00\n"
     ]
    },
    {
     "data": {
      "text/html": [
       "<pre style=\"white-space:pre;overflow-x:auto;line-height:normal;font-family:Menlo,'DejaVu Sans Mono',consolas,'Courier New',monospace\"></pre>\n"
      ],
      "text/plain": []
     },
     "metadata": {},
     "output_type": "display_data"
    },
    {
     "data": {
      "image/png": "[encoded data removed]",
      "text/plain": [
       "\u001b[1m<\u001b[0m\u001b[1;95mFigure\u001b[0m\u001b[39m size 216x144 with \u001b[0m\u001b[1;36m1\u001b[0m\u001b[39m Axes\u001b[0m\u001b[1m>\u001b[0m"
      ]
     },
     "metadata": {
      "needs_background": "light"
     },
     "output_type": "display_data"
    }
   ],
   "source": [
    "fig, ax = plt.subplots(figsize=(3, 2))\n",
    "\n",
    "# Crea un barplot delle distribuzioni\n",
    "sb.barplot(x=\"Group\", y=\"Data\", data=df)\n",
    "\n",
    "from statannotations.Annotator import Annotator\n",
    "\n",
    "annotator = Annotator(ax, pairs=[(\"high\", \"low\")], data=df, x=\"Group\", y=\"Data\")\n",
    "annotator.test = \"Wilcoxon\"\n",
    "annotator.loc = \"inside\"\n",
    "annotator.text_format = \"star\"\n",
    "annotator.apply_and_annotate()\n",
    "\n",
    "# Titolo del grafico\n",
    "# plt.title(\"Idiff distribuition\")\n",
    "sb.despine()\n",
    "\n",
    "fig_name = f\"FC_subject_idiff_distrib_btw_subjects_barplots_{n_windows}_windows\"\n",
    "plt.savefig(f\"{results_dir}{fig_name}.png\", facecolor=\"w\", dpi=250, bbox_inches=\"tight\")\n",
    "plt.show()"
   ]
  },
  {
   "cell_type": "code",
   "execution_count": 31,
   "metadata": {},
   "outputs": [
    {
     "name": "stdout",
     "output_type": "stream",
     "text": [
      "p-value annotation legend:\n",
      "      ns: p <= 1.00e+00\n",
      "       *: 1.00e-02 < p <= 5.00e-02\n",
      "      **: 1.00e-03 < p <= 1.00e-02\n",
      "     ***: 1.00e-04 < p <= 1.00e-03\n",
      "    ****: p <= 1.00e-04\n",
      "\n",
      "high vs. low: Wilcoxon test (paired samples), P_val:6.875e-01 Stat=8.000e+00\n"
     ]
    },
    {
     "data": {
      "text/html": [
       "<pre style=\"white-space:pre;overflow-x:auto;line-height:normal;font-family:Menlo,'DejaVu Sans Mono',consolas,'Courier New',monospace\"></pre>\n"
      ],
      "text/plain": []
     },
     "metadata": {},
     "output_type": "display_data"
    },
    {
     "data": {
      "image/png": "[encoded data removed]",
      "text/plain": [
       "\u001b[1m<\u001b[0m\u001b[1;95mFigure\u001b[0m\u001b[39m size 216x144 with \u001b[0m\u001b[1;36m1\u001b[0m\u001b[39m Axes\u001b[0m\u001b[1m>\u001b[0m"
      ]
     },
     "metadata": {
      "needs_background": "light"
     },
     "output_type": "display_data"
    }
   ],
   "source": [
    "fig, ax = plt.subplots(figsize=(3, 2))\n",
    "\n",
    "# Crea un barplot delle distribuzioni\n",
    "sb.boxplot(x=\"Group\", y=\"Data\", data=df)\n",
    "sb.stripplot(\n",
    "    x=\"Group\", y=\"Data\", data=df, dodge=True, legend=False, alpha=0.6, color=\"grey\"\n",
    ")\n",
    "\n",
    "from statannotations.Annotator import Annotator\n",
    "\n",
    "annotator = Annotator(ax, pairs=[(\"high\", \"low\")], data=df, x=\"Group\", y=\"Data\")\n",
    "annotator.test = \"Wilcoxon\"\n",
    "annotator.loc = \"inside\"\n",
    "annotator.text_format = \"star\"\n",
    "annotator.apply_and_annotate()\n",
    "\n",
    "sb.despine()\n",
    "\n",
    "fig_name = f\"FC_subject_idiff_distrib_btw_subjects_{n_windows}_windows\"\n",
    "plt.savefig(f\"{results_dir}{fig_name}.png\", facecolor=\"w\", dpi=250, bbox_inches=\"tight\")\n",
    "plt.show()"
   ]
  },
  {
   "cell_type": "code",
   "execution_count": null,
   "metadata": {},
   "outputs": [],
   "source": []
  }
 ],
 "metadata": {
  "kernelspec": {
   "display_name": "venv_hypno",
   "language": "python",
   "name": "venv_hypno"
  },
  "language_info": {
   "codemirror_mode": {
    "name": "ipython",
    "version": 3
   },
   "file_extension": ".py",
   "mimetype": "text/x-python",
   "name": "python",
   "nbconvert_exporter": "python",
   "pygments_lexer": "ipython3",
   "version": "3.9.19"
  },
  "toc": {
   "base_numbering": 1,
   "nav_menu": {},
   "number_sections": true,
   "sideBar": true,
   "skip_h1_title": false,
   "title_cell": "Table of Contents",
   "title_sidebar": "Contents",
   "toc_cell": false,
   "toc_position": {},
   "toc_section_display": true,
   "toc_window_display": true
  }
 },
 "nbformat": 4,
 "nbformat_minor": 4
}
